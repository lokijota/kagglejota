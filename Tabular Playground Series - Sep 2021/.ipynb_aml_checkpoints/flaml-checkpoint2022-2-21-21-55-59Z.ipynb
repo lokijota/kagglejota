{
 "cells": [
  {
   "cell_type": "code",
   "execution_count": 11,
   "source": [
    "import warnings\r\n",
    "import numpy as np\r\n",
    "import pandas as pd\r\n",
    "#from pandas_profiling import ProfileReport\r\n",
    "import matplotlib.pyplot as plt\r\n",
    "import seaborn as sns\r\n",
    "from sklearn import set_config\r\n",
    "\r\n",
    "warnings.filterwarnings(\"ignore\")\r\n",
    "\r\n",
    "#import sklearn\r\n",
    "#sklearn.show_versions()\r\n",
    "#sklearn.__version__\r\n",
    "set_config(display='diagram')"
   ],
   "outputs": [],
   "metadata": {}
  },
  {
   "cell_type": "code",
   "execution_count": 12,
   "source": [
    "data = pd.read_csv('data/train.csv', index_col=0)"
   ],
   "outputs": [],
   "metadata": {}
  },
  {
   "cell_type": "code",
   "execution_count": 13,
   "source": [
    "\r\n",
    "from sklearn.preprocessing import MinMaxScaler\r\n",
    "\r\n",
    "def feature_generation(data):\r\n",
    "\r\n",
    "    # add feature with number of na's per row + standard deviation\r\n",
    "    features = [col for col in data.columns if 'f' in col] # if 'f' is in the name\r\n",
    "    data['count_na'] = data[features].isna().sum(axis=1)\r\n",
    "\r\n",
    "    features += ['count_na']\r\n",
    "\r\n",
    "    # now do imputation with mean\r\n",
    "    data[features] = data[features].fillna(data[features].mean())\r\n",
    "\r\n",
    "    return data, features\r\n",
    "\r\n",
    "scaler = MinMaxScaler()\r\n",
    "data, features = feature_generation(data)\r\n",
    "\r\n",
    "data[features] = scaler.fit_transform(data[features])\r\n"
   ],
   "outputs": [],
   "metadata": {}
  },
  {
   "cell_type": "code",
   "execution_count": 14,
   "source": [
    "from sklearn.model_selection import train_test_split\r\n",
    "from sklearn.pipeline import make_pipeline, Pipeline, FeatureUnion\r\n",
    "from sklearn.compose import make_column_selector as selector\r\n",
    "from sklearn.compose import ColumnTransformer, TransformedTargetRegressor\r\n",
    "from sklearn.preprocessing import MinMaxScaler, PolynomialFeatures, OneHotEncoder\r\n",
    "import lightgbm as lgb\r\n",
    "\r\n",
    "# prepare the data\r\n",
    "y = data.pop('claim')\r\n",
    "X = data\r\n",
    "\r\n",
    "X_train, X_test, y_train, y_test = train_test_split(X, y, test_size=0.25, shuffle=True, random_state=42)"
   ],
   "outputs": [],
   "metadata": {}
  },
  {
   "cell_type": "code",
   "execution_count": 21,
   "source": [
    "from flaml import AutoML\r\n",
    "\r\n",
    "automl = AutoML()\r\n",
    "\r\n",
    "#mode=\"max\"/\"min\"\r\n",
    "#automl.fit(X, y, metric=\"roc_auc\", task=\"classification\", time_budget=3600*2, log_file_name=\"automl.log\", n_jobs=-1, ensemble=False, estimator_list=['lgbm'])  #, 'catboost', 'lgbm'\r\n",
    "automl.fit(X, y, metric=\"roc_auc\", task=\"classification\", time_budget=3600*8, log_file_name=\"automl.log\", n_jobs=1, eval_method='cv', n_splits=5, estimator_list=['lgbm']) #'xgboost', 'catboost', -- don't waste time with multiple algos"
   ],
   "outputs": [
    {
     "output_type": "stream",
     "name": "stderr",
     "text": [
      "[flaml.automl: 09-09 10:12:56] {913} INFO - Evaluation method: cv\n",
      "[flaml.automl: 09-09 10:13:22] {607} INFO - Using StratifiedKFold\n",
      "[flaml.automl: 09-09 10:13:22] {934} INFO - Minimizing error metric: 1-roc_auc\n",
      "[flaml.automl: 09-09 10:13:22] {953} INFO - List of ML learners in AutoML Run: ['lgbm']\n",
      "[flaml.automl: 09-09 10:13:22] {1019} INFO - iteration 0, current learner lgbm\n",
      "[flaml.automl: 09-09 10:29:09] {1174} INFO -  at 1682.2s,\tbest lgbm's error=0.2009,\tbest lgbm's error=0.2009\n",
      "[flaml.automl: 09-09 10:29:09] {1019} INFO - iteration 1, current learner lgbm\n",
      "[flaml.automl: 09-09 10:32:12] {1174} INFO -  at 1865.4s,\tbest lgbm's error=0.2009,\tbest lgbm's error=0.2009\n",
      "[flaml.automl: 09-09 10:32:12] {1019} INFO - iteration 2, current learner lgbm\n",
      "[flaml.automl: 09-09 10:41:04] {1174} INFO -  at 2397.1s,\tbest lgbm's error=0.2004,\tbest lgbm's error=0.2004\n",
      "[flaml.automl: 09-09 10:41:04] {1019} INFO - iteration 3, current learner lgbm\n",
      "[flaml.automl: 09-09 10:51:43] {1174} INFO -  at 3036.0s,\tbest lgbm's error=0.1975,\tbest lgbm's error=0.1975\n",
      "[flaml.automl: 09-09 10:51:43] {1019} INFO - iteration 4, current learner lgbm\n",
      "[flaml.automl: 09-09 10:56:53] {1174} INFO -  at 3346.4s,\tbest lgbm's error=0.1975,\tbest lgbm's error=0.1975\n",
      "[flaml.automl: 09-09 10:56:53] {1019} INFO - iteration 5, current learner lgbm\n",
      "[flaml.automl: 09-09 10:58:59] {1174} INFO -  at 3472.5s,\tbest lgbm's error=0.1975,\tbest lgbm's error=0.1975\n",
      "[flaml.automl: 09-09 10:58:59] {1019} INFO - iteration 6, current learner lgbm\n",
      "[flaml.automl: 09-09 11:04:18] {1174} INFO -  at 3791.7s,\tbest lgbm's error=0.1929,\tbest lgbm's error=0.1929\n",
      "[flaml.automl: 09-09 11:04:19] {1019} INFO - iteration 7, current learner lgbm\n",
      "[flaml.automl: 09-09 11:09:14] {1174} INFO -  at 4087.1s,\tbest lgbm's error=0.1910,\tbest lgbm's error=0.1910\n",
      "[flaml.automl: 09-09 11:09:14] {1019} INFO - iteration 8, current learner lgbm\n",
      "[flaml.automl: 09-09 11:12:38] {1174} INFO -  at 4291.1s,\tbest lgbm's error=0.1910,\tbest lgbm's error=0.1910\n",
      "[flaml.automl: 09-09 11:12:38] {1019} INFO - iteration 9, current learner lgbm\n",
      "[flaml.automl: 09-09 11:22:26] {1174} INFO -  at 4879.6s,\tbest lgbm's error=0.1898,\tbest lgbm's error=0.1898\n",
      "[flaml.automl: 09-09 11:22:26] {1019} INFO - iteration 10, current learner lgbm\n",
      "[flaml.automl: 09-09 11:30:30] {1174} INFO -  at 5363.4s,\tbest lgbm's error=0.1898,\tbest lgbm's error=0.1898\n",
      "[flaml.automl: 09-09 11:30:30] {1019} INFO - iteration 11, current learner lgbm\n",
      "[flaml.automl: 09-09 11:38:55] {1174} INFO -  at 5868.3s,\tbest lgbm's error=0.1898,\tbest lgbm's error=0.1898\n",
      "[flaml.automl: 09-09 11:38:55] {1019} INFO - iteration 12, current learner lgbm\n",
      "[flaml.automl: 09-09 11:53:34] {1174} INFO -  at 6747.0s,\tbest lgbm's error=0.1896,\tbest lgbm's error=0.1896\n",
      "[flaml.automl: 09-09 11:53:34] {1019} INFO - iteration 13, current learner lgbm\n",
      "[flaml.automl: 09-09 11:58:09] {1174} INFO -  at 7022.6s,\tbest lgbm's error=0.1896,\tbest lgbm's error=0.1896\n",
      "[flaml.automl: 09-09 11:58:09] {1019} INFO - iteration 14, current learner lgbm\n",
      "[flaml.automl: 09-09 12:10:13] {1174} INFO -  at 7746.3s,\tbest lgbm's error=0.1871,\tbest lgbm's error=0.1871\n",
      "[flaml.automl: 09-09 12:10:13] {1019} INFO - iteration 15, current learner lgbm\n",
      "[flaml.automl: 09-09 12:17:41] {1174} INFO -  at 8194.2s,\tbest lgbm's error=0.1871,\tbest lgbm's error=0.1871\n",
      "[flaml.automl: 09-09 12:17:41] {1019} INFO - iteration 16, current learner lgbm\n",
      "[flaml.automl: 09-09 12:28:08] {1174} INFO -  at 8821.3s,\tbest lgbm's error=0.1871,\tbest lgbm's error=0.1871\n",
      "[flaml.automl: 09-09 12:28:08] {1019} INFO - iteration 17, current learner lgbm\n",
      "[flaml.automl: 09-09 12:32:25] {1174} INFO -  at 9078.5s,\tbest lgbm's error=0.1871,\tbest lgbm's error=0.1871\n",
      "[flaml.automl: 09-09 12:32:25] {1019} INFO - iteration 18, current learner lgbm\n",
      "[flaml.automl: 09-09 12:53:36] {1174} INFO -  at 10349.3s,\tbest lgbm's error=0.1868,\tbest lgbm's error=0.1868\n",
      "[flaml.automl: 09-09 12:53:36] {1019} INFO - iteration 19, current learner lgbm\n",
      "[flaml.automl: 09-09 12:59:42] {1174} INFO -  at 10715.0s,\tbest lgbm's error=0.1868,\tbest lgbm's error=0.1868\n",
      "[flaml.automl: 09-09 12:59:42] {1019} INFO - iteration 20, current learner lgbm\n",
      "[flaml.automl: 09-09 13:49:36] {1174} INFO -  at 13708.9s,\tbest lgbm's error=0.1868,\tbest lgbm's error=0.1868\n",
      "[flaml.automl: 09-09 13:49:36] {1019} INFO - iteration 21, current learner lgbm\n",
      "[flaml.automl: 09-09 14:07:59] {1174} INFO -  at 14812.1s,\tbest lgbm's error=0.1868,\tbest lgbm's error=0.1868\n",
      "[flaml.automl: 09-09 14:07:59] {1019} INFO - iteration 22, current learner lgbm\n",
      "[flaml.automl: 09-09 14:41:49] {1174} INFO -  at 16841.8s,\tbest lgbm's error=0.1868,\tbest lgbm's error=0.1868\n",
      "[flaml.automl: 09-09 14:41:49] {1019} INFO - iteration 23, current learner lgbm\n",
      "[flaml.automl: 09-09 14:52:52] {1174} INFO -  at 17505.0s,\tbest lgbm's error=0.1868,\tbest lgbm's error=0.1868\n",
      "[flaml.automl: 09-09 14:52:52] {1019} INFO - iteration 24, current learner lgbm\n",
      "[flaml.automl: 09-09 15:35:32] {1174} INFO -  at 20065.2s,\tbest lgbm's error=0.1868,\tbest lgbm's error=0.1868\n",
      "[flaml.automl: 09-09 15:35:32] {1019} INFO - iteration 25, current learner lgbm\n",
      "[flaml.automl: 09-09 15:42:01] {1174} INFO -  at 20453.9s,\tbest lgbm's error=0.1868,\tbest lgbm's error=0.1868\n",
      "[flaml.automl: 09-09 15:42:01] {1019} INFO - iteration 26, current learner lgbm\n",
      "[flaml.automl: 09-09 16:50:44] {1174} INFO -  at 24577.6s,\tbest lgbm's error=0.1868,\tbest lgbm's error=0.1868\n",
      "[flaml.automl: 09-09 16:50:45] {1019} INFO - iteration 27, current learner lgbm\n",
      "[flaml.automl: 09-09 17:05:12] {1174} INFO -  at 25445.5s,\tbest lgbm's error=0.1868,\tbest lgbm's error=0.1868\n",
      "[flaml.automl: 09-09 17:05:12] {1019} INFO - iteration 28, current learner lgbm\n",
      "[flaml.automl: 09-09 17:22:00] {1174} INFO -  at 26453.3s,\tbest lgbm's error=0.1868,\tbest lgbm's error=0.1868\n",
      "[flaml.automl: 09-09 17:22:00] {1019} INFO - iteration 29, current learner lgbm\n",
      "[flaml.automl: 09-09 17:26:40] {1174} INFO -  at 26733.4s,\tbest lgbm's error=0.1868,\tbest lgbm's error=0.1868\n",
      "[flaml.automl: 09-09 17:26:40] {1019} INFO - iteration 30, current learner lgbm\n",
      "[flaml.automl: 09-09 18:02:05] {1174} INFO -  at 28858.0s,\tbest lgbm's error=0.1863,\tbest lgbm's error=0.1863\n",
      "[flaml.automl: 09-09 18:02:05] {1220} INFO - selected model: LGBMClassifier(colsample_bytree=0.738906888070166,\n",
      "               learning_rate=0.03489387357529748, max_bin=64,\n",
      "               min_child_samples=112, n_estimators=676, n_jobs=1, num_leaves=19,\n",
      "               objective='binary', reg_alpha=0.0026503387318717064,\n",
      "               reg_lambda=0.31590573290271945, subsample=0.9410633339183028)\n",
      "[flaml.automl: 09-09 18:02:05] {970} INFO - fit succeeded\n"
     ]
    }
   ],
   "metadata": {}
  },
  {
   "cell_type": "code",
   "execution_count": 22,
   "source": [
    "#automl.best_estimator\r\n",
    "automl.best_config\r\n",
    "#0.1896 was best of prev run\r\n",
    "\r\n",
    "#nu0.1863\r\n"
   ],
   "outputs": [
    {
     "output_type": "execute_result",
     "data": {
      "text/plain": [
       "{'n_estimators': 1518,\n",
       " 'num_leaves': 19,\n",
       " 'min_child_samples': 112,\n",
       " 'learning_rate': 0.03489387357529748,\n",
       " 'subsample': 0.9410633339183028,\n",
       " 'log_max_bin': 7,\n",
       " 'colsample_bytree': 0.738906888070166,\n",
       " 'reg_alpha': 0.0026503387318717064,\n",
       " 'reg_lambda': 0.31590573290271945}"
      ]
     },
     "metadata": {},
     "execution_count": 22
    }
   ],
   "metadata": {}
  },
  {
   "cell_type": "code",
   "execution_count": 23,
   "source": [
    "test_data = pd.read_csv('data/test.csv', index_col=0)\r\n",
    "test_data, _ = feature_generation(test_data)\r\n",
    "test_data = pd.DataFrame(scaler.transform(test_data), columns=features, index=test_data.index)\r\n",
    "\r\n",
    "# holdout_pred = automl.predict(test_data)\r\n",
    "holdout_pred = automl.predict_proba(test_data)\r\n",
    "\r\n",
    "test_data['claim'] = holdout_pred[:,1]\r\n",
    "submission = test_data['claim']\r\n",
    "submission.to_csv('data/holdout_predictions.csv')\r\n",
    "#data_to_save.reset_index()\r\n",
    "#data_to_save.to_csv('data/holdout_predictions.csv', index=False)"
   ],
   "outputs": [],
   "metadata": {}
  },
  {
   "cell_type": "code",
   "execution_count": 24,
   "source": [
    "from flaml.data import get_output_from_log\r\n",
    "\r\n",
    "time_history, best_valid_loss_history, valid_loss_history, config_history, train_loss_history = get_output_from_log(filename='automl.log', time_budget=3600*8)"
   ],
   "outputs": [],
   "metadata": {}
  },
  {
   "cell_type": "code",
   "execution_count": 25,
   "source": [
    "import matplotlib.pyplot as plt\r\n",
    "import numpy as np\r\n",
    "\r\n",
    "plt.title('Learning Curve')\r\n",
    "plt.xlabel('Wall Clock Time (s)')\r\n",
    "plt.ylabel('ROC_AUC')\r\n",
    "plt.scatter(time_history, 1 - np.array(valid_loss_history))\r\n",
    "plt.step(time_history, 1 - np.array(best_valid_loss_history), where='post')\r\n",
    "plt.show()"
   ],
   "outputs": [
    {
     "output_type": "display_data",
     "data": {
      "text/plain": [
       "<Figure size 432x288 with 1 Axes>"
      ],
      "image/svg+xml": "<?xml version=\"1.0\" encoding=\"utf-8\" standalone=\"no\"?>\r\n<!DOCTYPE svg PUBLIC \"-//W3C//DTD SVG 1.1//EN\"\r\n  \"http://www.w3.org/Graphics/SVG/1.1/DTD/svg11.dtd\">\r\n<svg height=\"277.314375pt\" version=\"1.1\" viewBox=\"0 0 398.607813 277.314375\" width=\"398.607813pt\" xmlns=\"http://www.w3.org/2000/svg\" xmlns:xlink=\"http://www.w3.org/1999/xlink\">\r\n <metadata>\r\n  <rdf:RDF xmlns:cc=\"http://creativecommons.org/ns#\" xmlns:dc=\"http://purl.org/dc/elements/1.1/\" xmlns:rdf=\"http://www.w3.org/1999/02/22-rdf-syntax-ns#\">\r\n   <cc:Work>\r\n    <dc:type rdf:resource=\"http://purl.org/dc/dcmitype/StillImage\"/>\r\n    <dc:date>2021-09-09T18:03:26.391906</dc:date>\r\n    <dc:format>image/svg+xml</dc:format>\r\n    <dc:creator>\r\n     <cc:Agent>\r\n      <dc:title>Matplotlib v3.4.2, https://matplotlib.org/</dc:title>\r\n     </cc:Agent>\r\n    </dc:creator>\r\n   </cc:Work>\r\n  </rdf:RDF>\r\n </metadata>\r\n <defs>\r\n  <style type=\"text/css\">*{stroke-linecap:butt;stroke-linejoin:round;}</style>\r\n </defs>\r\n <g id=\"figure_1\">\r\n  <g id=\"patch_1\">\r\n   <path d=\"M 0 277.314375 \r\nL 398.607813 277.314375 \r\nL 398.607813 0 \r\nL 0 0 \r\nz\r\n\" style=\"fill:none;\"/>\r\n  </g>\r\n  <g id=\"axes_1\">\r\n   <g id=\"patch_2\">\r\n    <path d=\"M 56.607813 239.758125 \r\nL 391.407813 239.758125 \r\nL 391.407813 22.318125 \r\nL 56.607813 22.318125 \r\nz\r\n\" style=\"fill:#ffffff;\"/>\r\n   </g>\r\n   <g id=\"PathCollection_1\">\r\n    <defs>\r\n     <path d=\"M 0 3 \r\nC 0.795609 3 1.55874 2.683901 2.12132 2.12132 \r\nC 2.683901 1.55874 3 0.795609 3 0 \r\nC 3 -0.795609 2.683901 -1.55874 2.12132 -2.12132 \r\nC 1.55874 -2.683901 0.795609 -3 0 -3 \r\nC -0.795609 -3 -1.55874 -2.683901 -2.12132 -2.12132 \r\nC -2.683901 -1.55874 -3 -0.795609 -3 0 \r\nC -3 0.795609 -2.683901 1.55874 -2.12132 2.12132 \r\nC -1.55874 2.683901 -0.795609 3 0 3 \r\nz\r\n\" id=\"m2ce79f2c80\" style=\"stroke:#1f77b4;\"/>\r\n    </defs>\r\n    <g clip-path=\"url(#peba051261e)\">\r\n     <use style=\"fill:#1f77b4;stroke:#1f77b4;\" x=\"71.825994\" xlink:href=\"#m2ce79f2c80\" y=\"229.874489\"/>\r\n     <use style=\"fill:#1f77b4;stroke:#1f77b4;\" x=\"96.932111\" xlink:href=\"#m2ce79f2c80\" y=\"224.132059\"/>\r\n     <use style=\"fill:#1f77b4;stroke:#1f77b4;\" x=\"119.367317\" xlink:href=\"#m2ce79f2c80\" y=\"182.495678\"/>\r\n     <use style=\"fill:#1f77b4;stroke:#1f77b4;\" x=\"145.904658\" xlink:href=\"#m2ce79f2c80\" y=\"117.556415\"/>\r\n     <use style=\"fill:#1f77b4;stroke:#1f77b4;\" x=\"156.277914\" xlink:href=\"#m2ce79f2c80\" y=\"91.619814\"/>\r\n     <use style=\"fill:#1f77b4;stroke:#1f77b4;\" x=\"184.108588\" xlink:href=\"#m2ce79f2c80\" y=\"74.600135\"/>\r\n     <use style=\"fill:#1f77b4;stroke:#1f77b4;\" x=\"249.686355\" xlink:href=\"#m2ce79f2c80\" y=\"71.277346\"/>\r\n     <use style=\"fill:#1f77b4;stroke:#1f77b4;\" x=\"284.777983\" xlink:href=\"#m2ce79f2c80\" y=\"37.100091\"/>\r\n     <use style=\"fill:#1f77b4;stroke:#1f77b4;\" x=\"376.189631\" xlink:href=\"#m2ce79f2c80\" y=\"32.201761\"/>\r\n    </g>\r\n   </g>\r\n   <g id=\"matplotlib.axis_1\">\r\n    <g id=\"xtick_1\">\r\n     <g id=\"line2d_1\">\r\n      <defs>\r\n       <path d=\"M 0 0 \r\nL 0 3.5 \r\n\" id=\"m688e9f1773\" style=\"stroke:#000000;stroke-width:0.8;\"/>\r\n      </defs>\r\n      <g>\r\n       <use style=\"stroke:#000000;stroke-width:0.8;\" x=\"82.986024\" xlink:href=\"#m688e9f1773\" y=\"239.758125\"/>\r\n      </g>\r\n     </g>\r\n     <g id=\"text_1\">\r\n      <!-- 2000 -->\r\n      <g transform=\"translate(70.261024 254.356562)scale(0.1 -0.1)\">\r\n       <defs>\r\n        <path d=\"M 1228 531 \r\nL 3431 531 \r\nL 3431 0 \r\nL 469 0 \r\nL 469 531 \r\nQ 828 903 1448 1529 \r\nQ 2069 2156 2228 2338 \r\nQ 2531 2678 2651 2914 \r\nQ 2772 3150 2772 3378 \r\nQ 2772 3750 2511 3984 \r\nQ 2250 4219 1831 4219 \r\nQ 1534 4219 1204 4116 \r\nQ 875 4013 500 3803 \r\nL 500 4441 \r\nQ 881 4594 1212 4672 \r\nQ 1544 4750 1819 4750 \r\nQ 2544 4750 2975 4387 \r\nQ 3406 4025 3406 3419 \r\nQ 3406 3131 3298 2873 \r\nQ 3191 2616 2906 2266 \r\nQ 2828 2175 2409 1742 \r\nQ 1991 1309 1228 531 \r\nz\r\n\" id=\"DejaVuSans-32\" transform=\"scale(0.015625)\"/>\r\n        <path d=\"M 2034 4250 \r\nQ 1547 4250 1301 3770 \r\nQ 1056 3291 1056 2328 \r\nQ 1056 1369 1301 889 \r\nQ 1547 409 2034 409 \r\nQ 2525 409 2770 889 \r\nQ 3016 1369 3016 2328 \r\nQ 3016 3291 2770 3770 \r\nQ 2525 4250 2034 4250 \r\nz\r\nM 2034 4750 \r\nQ 2819 4750 3233 4129 \r\nQ 3647 3509 3647 2328 \r\nQ 3647 1150 3233 529 \r\nQ 2819 -91 2034 -91 \r\nQ 1250 -91 836 529 \r\nQ 422 1150 422 2328 \r\nQ 422 3509 836 4129 \r\nQ 1250 4750 2034 4750 \r\nz\r\n\" id=\"DejaVuSans-30\" transform=\"scale(0.015625)\"/>\r\n       </defs>\r\n       <use xlink:href=\"#DejaVuSans-32\"/>\r\n       <use x=\"63.623047\" xlink:href=\"#DejaVuSans-30\"/>\r\n       <use x=\"127.246094\" xlink:href=\"#DejaVuSans-30\"/>\r\n       <use x=\"190.869141\" xlink:href=\"#DejaVuSans-30\"/>\r\n      </g>\r\n     </g>\r\n    </g>\r\n    <g id=\"xtick_2\">\r\n     <g id=\"line2d_2\">\r\n      <g>\r\n       <use style=\"stroke:#000000;stroke-width:0.8;\" x=\"153.220036\" xlink:href=\"#m688e9f1773\" y=\"239.758125\"/>\r\n      </g>\r\n     </g>\r\n     <g id=\"text_2\">\r\n      <!-- 4000 -->\r\n      <g transform=\"translate(140.495036 254.356562)scale(0.1 -0.1)\">\r\n       <defs>\r\n        <path d=\"M 2419 4116 \r\nL 825 1625 \r\nL 2419 1625 \r\nL 2419 4116 \r\nz\r\nM 2253 4666 \r\nL 3047 4666 \r\nL 3047 1625 \r\nL 3713 1625 \r\nL 3713 1100 \r\nL 3047 1100 \r\nL 3047 0 \r\nL 2419 0 \r\nL 2419 1100 \r\nL 313 1100 \r\nL 313 1709 \r\nL 2253 4666 \r\nz\r\n\" id=\"DejaVuSans-34\" transform=\"scale(0.015625)\"/>\r\n       </defs>\r\n       <use xlink:href=\"#DejaVuSans-34\"/>\r\n       <use x=\"63.623047\" xlink:href=\"#DejaVuSans-30\"/>\r\n       <use x=\"127.246094\" xlink:href=\"#DejaVuSans-30\"/>\r\n       <use x=\"190.869141\" xlink:href=\"#DejaVuSans-30\"/>\r\n      </g>\r\n     </g>\r\n    </g>\r\n    <g id=\"xtick_3\">\r\n     <g id=\"line2d_3\">\r\n      <g>\r\n       <use style=\"stroke:#000000;stroke-width:0.8;\" x=\"223.454048\" xlink:href=\"#m688e9f1773\" y=\"239.758125\"/>\r\n      </g>\r\n     </g>\r\n     <g id=\"text_3\">\r\n      <!-- 6000 -->\r\n      <g transform=\"translate(210.729048 254.356562)scale(0.1 -0.1)\">\r\n       <defs>\r\n        <path d=\"M 2113 2584 \r\nQ 1688 2584 1439 2293 \r\nQ 1191 2003 1191 1497 \r\nQ 1191 994 1439 701 \r\nQ 1688 409 2113 409 \r\nQ 2538 409 2786 701 \r\nQ 3034 994 3034 1497 \r\nQ 3034 2003 2786 2293 \r\nQ 2538 2584 2113 2584 \r\nz\r\nM 3366 4563 \r\nL 3366 3988 \r\nQ 3128 4100 2886 4159 \r\nQ 2644 4219 2406 4219 \r\nQ 1781 4219 1451 3797 \r\nQ 1122 3375 1075 2522 \r\nQ 1259 2794 1537 2939 \r\nQ 1816 3084 2150 3084 \r\nQ 2853 3084 3261 2657 \r\nQ 3669 2231 3669 1497 \r\nQ 3669 778 3244 343 \r\nQ 2819 -91 2113 -91 \r\nQ 1303 -91 875 529 \r\nQ 447 1150 447 2328 \r\nQ 447 3434 972 4092 \r\nQ 1497 4750 2381 4750 \r\nQ 2619 4750 2861 4703 \r\nQ 3103 4656 3366 4563 \r\nz\r\n\" id=\"DejaVuSans-36\" transform=\"scale(0.015625)\"/>\r\n       </defs>\r\n       <use xlink:href=\"#DejaVuSans-36\"/>\r\n       <use x=\"63.623047\" xlink:href=\"#DejaVuSans-30\"/>\r\n       <use x=\"127.246094\" xlink:href=\"#DejaVuSans-30\"/>\r\n       <use x=\"190.869141\" xlink:href=\"#DejaVuSans-30\"/>\r\n      </g>\r\n     </g>\r\n    </g>\r\n    <g id=\"xtick_4\">\r\n     <g id=\"line2d_4\">\r\n      <g>\r\n       <use style=\"stroke:#000000;stroke-width:0.8;\" x=\"293.68806\" xlink:href=\"#m688e9f1773\" y=\"239.758125\"/>\r\n      </g>\r\n     </g>\r\n     <g id=\"text_4\">\r\n      <!-- 8000 -->\r\n      <g transform=\"translate(280.96306 254.356562)scale(0.1 -0.1)\">\r\n       <defs>\r\n        <path d=\"M 2034 2216 \r\nQ 1584 2216 1326 1975 \r\nQ 1069 1734 1069 1313 \r\nQ 1069 891 1326 650 \r\nQ 1584 409 2034 409 \r\nQ 2484 409 2743 651 \r\nQ 3003 894 3003 1313 \r\nQ 3003 1734 2745 1975 \r\nQ 2488 2216 2034 2216 \r\nz\r\nM 1403 2484 \r\nQ 997 2584 770 2862 \r\nQ 544 3141 544 3541 \r\nQ 544 4100 942 4425 \r\nQ 1341 4750 2034 4750 \r\nQ 2731 4750 3128 4425 \r\nQ 3525 4100 3525 3541 \r\nQ 3525 3141 3298 2862 \r\nQ 3072 2584 2669 2484 \r\nQ 3125 2378 3379 2068 \r\nQ 3634 1759 3634 1313 \r\nQ 3634 634 3220 271 \r\nQ 2806 -91 2034 -91 \r\nQ 1263 -91 848 271 \r\nQ 434 634 434 1313 \r\nQ 434 1759 690 2068 \r\nQ 947 2378 1403 2484 \r\nz\r\nM 1172 3481 \r\nQ 1172 3119 1398 2916 \r\nQ 1625 2713 2034 2713 \r\nQ 2441 2713 2670 2916 \r\nQ 2900 3119 2900 3481 \r\nQ 2900 3844 2670 4047 \r\nQ 2441 4250 2034 4250 \r\nQ 1625 4250 1398 4047 \r\nQ 1172 3844 1172 3481 \r\nz\r\n\" id=\"DejaVuSans-38\" transform=\"scale(0.015625)\"/>\r\n       </defs>\r\n       <use xlink:href=\"#DejaVuSans-38\"/>\r\n       <use x=\"63.623047\" xlink:href=\"#DejaVuSans-30\"/>\r\n       <use x=\"127.246094\" xlink:href=\"#DejaVuSans-30\"/>\r\n       <use x=\"190.869141\" xlink:href=\"#DejaVuSans-30\"/>\r\n      </g>\r\n     </g>\r\n    </g>\r\n    <g id=\"xtick_5\">\r\n     <g id=\"line2d_5\">\r\n      <g>\r\n       <use style=\"stroke:#000000;stroke-width:0.8;\" x=\"363.922072\" xlink:href=\"#m688e9f1773\" y=\"239.758125\"/>\r\n      </g>\r\n     </g>\r\n     <g id=\"text_5\">\r\n      <!-- 10000 -->\r\n      <g transform=\"translate(348.015822 254.356562)scale(0.1 -0.1)\">\r\n       <defs>\r\n        <path d=\"M 794 531 \r\nL 1825 531 \r\nL 1825 4091 \r\nL 703 3866 \r\nL 703 4441 \r\nL 1819 4666 \r\nL 2450 4666 \r\nL 2450 531 \r\nL 3481 531 \r\nL 3481 0 \r\nL 794 0 \r\nL 794 531 \r\nz\r\n\" id=\"DejaVuSans-31\" transform=\"scale(0.015625)\"/>\r\n       </defs>\r\n       <use xlink:href=\"#DejaVuSans-31\"/>\r\n       <use x=\"63.623047\" xlink:href=\"#DejaVuSans-30\"/>\r\n       <use x=\"127.246094\" xlink:href=\"#DejaVuSans-30\"/>\r\n       <use x=\"190.869141\" xlink:href=\"#DejaVuSans-30\"/>\r\n       <use x=\"254.492188\" xlink:href=\"#DejaVuSans-30\"/>\r\n      </g>\r\n     </g>\r\n    </g>\r\n    <g id=\"text_6\">\r\n     <!-- Wall Clock Time (s) -->\r\n     <g transform=\"translate(176.449219 268.034687)scale(0.1 -0.1)\">\r\n      <defs>\r\n       <path d=\"M 213 4666 \r\nL 850 4666 \r\nL 1831 722 \r\nL 2809 4666 \r\nL 3519 4666 \r\nL 4500 722 \r\nL 5478 4666 \r\nL 6119 4666 \r\nL 4947 0 \r\nL 4153 0 \r\nL 3169 4050 \r\nL 2175 0 \r\nL 1381 0 \r\nL 213 4666 \r\nz\r\n\" id=\"DejaVuSans-57\" transform=\"scale(0.015625)\"/>\r\n       <path d=\"M 2194 1759 \r\nQ 1497 1759 1228 1600 \r\nQ 959 1441 959 1056 \r\nQ 959 750 1161 570 \r\nQ 1363 391 1709 391 \r\nQ 2188 391 2477 730 \r\nQ 2766 1069 2766 1631 \r\nL 2766 1759 \r\nL 2194 1759 \r\nz\r\nM 3341 1997 \r\nL 3341 0 \r\nL 2766 0 \r\nL 2766 531 \r\nQ 2569 213 2275 61 \r\nQ 1981 -91 1556 -91 \r\nQ 1019 -91 701 211 \r\nQ 384 513 384 1019 \r\nQ 384 1609 779 1909 \r\nQ 1175 2209 1959 2209 \r\nL 2766 2209 \r\nL 2766 2266 \r\nQ 2766 2663 2505 2880 \r\nQ 2244 3097 1772 3097 \r\nQ 1472 3097 1187 3025 \r\nQ 903 2953 641 2809 \r\nL 641 3341 \r\nQ 956 3463 1253 3523 \r\nQ 1550 3584 1831 3584 \r\nQ 2591 3584 2966 3190 \r\nQ 3341 2797 3341 1997 \r\nz\r\n\" id=\"DejaVuSans-61\" transform=\"scale(0.015625)\"/>\r\n       <path d=\"M 603 4863 \r\nL 1178 4863 \r\nL 1178 0 \r\nL 603 0 \r\nL 603 4863 \r\nz\r\n\" id=\"DejaVuSans-6c\" transform=\"scale(0.015625)\"/>\r\n       <path id=\"DejaVuSans-20\" transform=\"scale(0.015625)\"/>\r\n       <path d=\"M 4122 4306 \r\nL 4122 3641 \r\nQ 3803 3938 3442 4084 \r\nQ 3081 4231 2675 4231 \r\nQ 1875 4231 1450 3742 \r\nQ 1025 3253 1025 2328 \r\nQ 1025 1406 1450 917 \r\nQ 1875 428 2675 428 \r\nQ 3081 428 3442 575 \r\nQ 3803 722 4122 1019 \r\nL 4122 359 \r\nQ 3791 134 3420 21 \r\nQ 3050 -91 2638 -91 \r\nQ 1578 -91 968 557 \r\nQ 359 1206 359 2328 \r\nQ 359 3453 968 4101 \r\nQ 1578 4750 2638 4750 \r\nQ 3056 4750 3426 4639 \r\nQ 3797 4528 4122 4306 \r\nz\r\n\" id=\"DejaVuSans-43\" transform=\"scale(0.015625)\"/>\r\n       <path d=\"M 1959 3097 \r\nQ 1497 3097 1228 2736 \r\nQ 959 2375 959 1747 \r\nQ 959 1119 1226 758 \r\nQ 1494 397 1959 397 \r\nQ 2419 397 2687 759 \r\nQ 2956 1122 2956 1747 \r\nQ 2956 2369 2687 2733 \r\nQ 2419 3097 1959 3097 \r\nz\r\nM 1959 3584 \r\nQ 2709 3584 3137 3096 \r\nQ 3566 2609 3566 1747 \r\nQ 3566 888 3137 398 \r\nQ 2709 -91 1959 -91 \r\nQ 1206 -91 779 398 \r\nQ 353 888 353 1747 \r\nQ 353 2609 779 3096 \r\nQ 1206 3584 1959 3584 \r\nz\r\n\" id=\"DejaVuSans-6f\" transform=\"scale(0.015625)\"/>\r\n       <path d=\"M 3122 3366 \r\nL 3122 2828 \r\nQ 2878 2963 2633 3030 \r\nQ 2388 3097 2138 3097 \r\nQ 1578 3097 1268 2742 \r\nQ 959 2388 959 1747 \r\nQ 959 1106 1268 751 \r\nQ 1578 397 2138 397 \r\nQ 2388 397 2633 464 \r\nQ 2878 531 3122 666 \r\nL 3122 134 \r\nQ 2881 22 2623 -34 \r\nQ 2366 -91 2075 -91 \r\nQ 1284 -91 818 406 \r\nQ 353 903 353 1747 \r\nQ 353 2603 823 3093 \r\nQ 1294 3584 2113 3584 \r\nQ 2378 3584 2631 3529 \r\nQ 2884 3475 3122 3366 \r\nz\r\n\" id=\"DejaVuSans-63\" transform=\"scale(0.015625)\"/>\r\n       <path d=\"M 581 4863 \r\nL 1159 4863 \r\nL 1159 1991 \r\nL 2875 3500 \r\nL 3609 3500 \r\nL 1753 1863 \r\nL 3688 0 \r\nL 2938 0 \r\nL 1159 1709 \r\nL 1159 0 \r\nL 581 0 \r\nL 581 4863 \r\nz\r\n\" id=\"DejaVuSans-6b\" transform=\"scale(0.015625)\"/>\r\n       <path d=\"M -19 4666 \r\nL 3928 4666 \r\nL 3928 4134 \r\nL 2272 4134 \r\nL 2272 0 \r\nL 1638 0 \r\nL 1638 4134 \r\nL -19 4134 \r\nL -19 4666 \r\nz\r\n\" id=\"DejaVuSans-54\" transform=\"scale(0.015625)\"/>\r\n       <path d=\"M 603 3500 \r\nL 1178 3500 \r\nL 1178 0 \r\nL 603 0 \r\nL 603 3500 \r\nz\r\nM 603 4863 \r\nL 1178 4863 \r\nL 1178 4134 \r\nL 603 4134 \r\nL 603 4863 \r\nz\r\n\" id=\"DejaVuSans-69\" transform=\"scale(0.015625)\"/>\r\n       <path d=\"M 3328 2828 \r\nQ 3544 3216 3844 3400 \r\nQ 4144 3584 4550 3584 \r\nQ 5097 3584 5394 3201 \r\nQ 5691 2819 5691 2113 \r\nL 5691 0 \r\nL 5113 0 \r\nL 5113 2094 \r\nQ 5113 2597 4934 2840 \r\nQ 4756 3084 4391 3084 \r\nQ 3944 3084 3684 2787 \r\nQ 3425 2491 3425 1978 \r\nL 3425 0 \r\nL 2847 0 \r\nL 2847 2094 \r\nQ 2847 2600 2669 2842 \r\nQ 2491 3084 2119 3084 \r\nQ 1678 3084 1418 2786 \r\nQ 1159 2488 1159 1978 \r\nL 1159 0 \r\nL 581 0 \r\nL 581 3500 \r\nL 1159 3500 \r\nL 1159 2956 \r\nQ 1356 3278 1631 3431 \r\nQ 1906 3584 2284 3584 \r\nQ 2666 3584 2933 3390 \r\nQ 3200 3197 3328 2828 \r\nz\r\n\" id=\"DejaVuSans-6d\" transform=\"scale(0.015625)\"/>\r\n       <path d=\"M 3597 1894 \r\nL 3597 1613 \r\nL 953 1613 \r\nQ 991 1019 1311 708 \r\nQ 1631 397 2203 397 \r\nQ 2534 397 2845 478 \r\nQ 3156 559 3463 722 \r\nL 3463 178 \r\nQ 3153 47 2828 -22 \r\nQ 2503 -91 2169 -91 \r\nQ 1331 -91 842 396 \r\nQ 353 884 353 1716 \r\nQ 353 2575 817 3079 \r\nQ 1281 3584 2069 3584 \r\nQ 2775 3584 3186 3129 \r\nQ 3597 2675 3597 1894 \r\nz\r\nM 3022 2063 \r\nQ 3016 2534 2758 2815 \r\nQ 2500 3097 2075 3097 \r\nQ 1594 3097 1305 2825 \r\nQ 1016 2553 972 2059 \r\nL 3022 2063 \r\nz\r\n\" id=\"DejaVuSans-65\" transform=\"scale(0.015625)\"/>\r\n       <path d=\"M 1984 4856 \r\nQ 1566 4138 1362 3434 \r\nQ 1159 2731 1159 2009 \r\nQ 1159 1288 1364 580 \r\nQ 1569 -128 1984 -844 \r\nL 1484 -844 \r\nQ 1016 -109 783 600 \r\nQ 550 1309 550 2009 \r\nQ 550 2706 781 3412 \r\nQ 1013 4119 1484 4856 \r\nL 1984 4856 \r\nz\r\n\" id=\"DejaVuSans-28\" transform=\"scale(0.015625)\"/>\r\n       <path d=\"M 2834 3397 \r\nL 2834 2853 \r\nQ 2591 2978 2328 3040 \r\nQ 2066 3103 1784 3103 \r\nQ 1356 3103 1142 2972 \r\nQ 928 2841 928 2578 \r\nQ 928 2378 1081 2264 \r\nQ 1234 2150 1697 2047 \r\nL 1894 2003 \r\nQ 2506 1872 2764 1633 \r\nQ 3022 1394 3022 966 \r\nQ 3022 478 2636 193 \r\nQ 2250 -91 1575 -91 \r\nQ 1294 -91 989 -36 \r\nQ 684 19 347 128 \r\nL 347 722 \r\nQ 666 556 975 473 \r\nQ 1284 391 1588 391 \r\nQ 1994 391 2212 530 \r\nQ 2431 669 2431 922 \r\nQ 2431 1156 2273 1281 \r\nQ 2116 1406 1581 1522 \r\nL 1381 1569 \r\nQ 847 1681 609 1914 \r\nQ 372 2147 372 2553 \r\nQ 372 3047 722 3315 \r\nQ 1072 3584 1716 3584 \r\nQ 2034 3584 2315 3537 \r\nQ 2597 3491 2834 3397 \r\nz\r\n\" id=\"DejaVuSans-73\" transform=\"scale(0.015625)\"/>\r\n       <path d=\"M 513 4856 \r\nL 1013 4856 \r\nQ 1481 4119 1714 3412 \r\nQ 1947 2706 1947 2009 \r\nQ 1947 1309 1714 600 \r\nQ 1481 -109 1013 -844 \r\nL 513 -844 \r\nQ 928 -128 1133 580 \r\nQ 1338 1288 1338 2009 \r\nQ 1338 2731 1133 3434 \r\nQ 928 4138 513 4856 \r\nz\r\n\" id=\"DejaVuSans-29\" transform=\"scale(0.015625)\"/>\r\n      </defs>\r\n      <use xlink:href=\"#DejaVuSans-57\"/>\r\n      <use x=\"92.501953\" xlink:href=\"#DejaVuSans-61\"/>\r\n      <use x=\"153.78125\" xlink:href=\"#DejaVuSans-6c\"/>\r\n      <use x=\"181.564453\" xlink:href=\"#DejaVuSans-6c\"/>\r\n      <use x=\"209.347656\" xlink:href=\"#DejaVuSans-20\"/>\r\n      <use x=\"241.134766\" xlink:href=\"#DejaVuSans-43\"/>\r\n      <use x=\"310.958984\" xlink:href=\"#DejaVuSans-6c\"/>\r\n      <use x=\"338.742188\" xlink:href=\"#DejaVuSans-6f\"/>\r\n      <use x=\"399.923828\" xlink:href=\"#DejaVuSans-63\"/>\r\n      <use x=\"454.904297\" xlink:href=\"#DejaVuSans-6b\"/>\r\n      <use x=\"512.814453\" xlink:href=\"#DejaVuSans-20\"/>\r\n      <use x=\"544.601562\" xlink:href=\"#DejaVuSans-54\"/>\r\n      <use x=\"602.560547\" xlink:href=\"#DejaVuSans-69\"/>\r\n      <use x=\"630.34375\" xlink:href=\"#DejaVuSans-6d\"/>\r\n      <use x=\"727.755859\" xlink:href=\"#DejaVuSans-65\"/>\r\n      <use x=\"789.279297\" xlink:href=\"#DejaVuSans-20\"/>\r\n      <use x=\"821.066406\" xlink:href=\"#DejaVuSans-28\"/>\r\n      <use x=\"860.080078\" xlink:href=\"#DejaVuSans-73\"/>\r\n      <use x=\"912.179688\" xlink:href=\"#DejaVuSans-29\"/>\r\n     </g>\r\n    </g>\r\n   </g>\r\n   <g id=\"matplotlib.axis_2\">\r\n    <g id=\"ytick_1\">\r\n     <g id=\"line2d_6\">\r\n      <defs>\r\n       <path d=\"M 0 0 \r\nL -3.5 0 \r\n\" id=\"md9a518c0dc\" style=\"stroke:#000000;stroke-width:0.8;\"/>\r\n      </defs>\r\n      <g>\r\n       <use style=\"stroke:#000000;stroke-width:0.8;\" x=\"56.607813\" xlink:href=\"#md9a518c0dc\" y=\"217.904939\"/>\r\n      </g>\r\n     </g>\r\n     <g id=\"text_7\">\r\n      <!-- 0.800 -->\r\n      <g transform=\"translate(20.979688 221.704158)scale(0.1 -0.1)\">\r\n       <defs>\r\n        <path d=\"M 684 794 \r\nL 1344 794 \r\nL 1344 0 \r\nL 684 0 \r\nL 684 794 \r\nz\r\n\" id=\"DejaVuSans-2e\" transform=\"scale(0.015625)\"/>\r\n       </defs>\r\n       <use xlink:href=\"#DejaVuSans-30\"/>\r\n       <use x=\"63.623047\" xlink:href=\"#DejaVuSans-2e\"/>\r\n       <use x=\"95.410156\" xlink:href=\"#DejaVuSans-38\"/>\r\n       <use x=\"159.033203\" xlink:href=\"#DejaVuSans-30\"/>\r\n       <use x=\"222.65625\" xlink:href=\"#DejaVuSans-30\"/>\r\n      </g>\r\n     </g>\r\n    </g>\r\n    <g id=\"ytick_2\">\r\n     <g id=\"line2d_7\">\r\n      <g>\r\n       <use style=\"stroke:#000000;stroke-width:0.8;\" x=\"56.607813\" xlink:href=\"#md9a518c0dc\" y=\"189.770318\"/>\r\n      </g>\r\n     </g>\r\n     <g id=\"text_8\">\r\n      <!-- 0.802 -->\r\n      <g transform=\"translate(20.979688 193.569537)scale(0.1 -0.1)\">\r\n       <use xlink:href=\"#DejaVuSans-30\"/>\r\n       <use x=\"63.623047\" xlink:href=\"#DejaVuSans-2e\"/>\r\n       <use x=\"95.410156\" xlink:href=\"#DejaVuSans-38\"/>\r\n       <use x=\"159.033203\" xlink:href=\"#DejaVuSans-30\"/>\r\n       <use x=\"222.65625\" xlink:href=\"#DejaVuSans-32\"/>\r\n      </g>\r\n     </g>\r\n    </g>\r\n    <g id=\"ytick_3\">\r\n     <g id=\"line2d_8\">\r\n      <g>\r\n       <use style=\"stroke:#000000;stroke-width:0.8;\" x=\"56.607813\" xlink:href=\"#md9a518c0dc\" y=\"161.635697\"/>\r\n      </g>\r\n     </g>\r\n     <g id=\"text_9\">\r\n      <!-- 0.804 -->\r\n      <g transform=\"translate(20.979688 165.434916)scale(0.1 -0.1)\">\r\n       <use xlink:href=\"#DejaVuSans-30\"/>\r\n       <use x=\"63.623047\" xlink:href=\"#DejaVuSans-2e\"/>\r\n       <use x=\"95.410156\" xlink:href=\"#DejaVuSans-38\"/>\r\n       <use x=\"159.033203\" xlink:href=\"#DejaVuSans-30\"/>\r\n       <use x=\"222.65625\" xlink:href=\"#DejaVuSans-34\"/>\r\n      </g>\r\n     </g>\r\n    </g>\r\n    <g id=\"ytick_4\">\r\n     <g id=\"line2d_9\">\r\n      <g>\r\n       <use style=\"stroke:#000000;stroke-width:0.8;\" x=\"56.607813\" xlink:href=\"#md9a518c0dc\" y=\"133.501076\"/>\r\n      </g>\r\n     </g>\r\n     <g id=\"text_10\">\r\n      <!-- 0.806 -->\r\n      <g transform=\"translate(20.979688 137.300295)scale(0.1 -0.1)\">\r\n       <use xlink:href=\"#DejaVuSans-30\"/>\r\n       <use x=\"63.623047\" xlink:href=\"#DejaVuSans-2e\"/>\r\n       <use x=\"95.410156\" xlink:href=\"#DejaVuSans-38\"/>\r\n       <use x=\"159.033203\" xlink:href=\"#DejaVuSans-30\"/>\r\n       <use x=\"222.65625\" xlink:href=\"#DejaVuSans-36\"/>\r\n      </g>\r\n     </g>\r\n    </g>\r\n    <g id=\"ytick_5\">\r\n     <g id=\"line2d_10\">\r\n      <g>\r\n       <use style=\"stroke:#000000;stroke-width:0.8;\" x=\"56.607813\" xlink:href=\"#md9a518c0dc\" y=\"105.366455\"/>\r\n      </g>\r\n     </g>\r\n     <g id=\"text_11\">\r\n      <!-- 0.808 -->\r\n      <g transform=\"translate(20.979688 109.165674)scale(0.1 -0.1)\">\r\n       <use xlink:href=\"#DejaVuSans-30\"/>\r\n       <use x=\"63.623047\" xlink:href=\"#DejaVuSans-2e\"/>\r\n       <use x=\"95.410156\" xlink:href=\"#DejaVuSans-38\"/>\r\n       <use x=\"159.033203\" xlink:href=\"#DejaVuSans-30\"/>\r\n       <use x=\"222.65625\" xlink:href=\"#DejaVuSans-38\"/>\r\n      </g>\r\n     </g>\r\n    </g>\r\n    <g id=\"ytick_6\">\r\n     <g id=\"line2d_11\">\r\n      <g>\r\n       <use style=\"stroke:#000000;stroke-width:0.8;\" x=\"56.607813\" xlink:href=\"#md9a518c0dc\" y=\"77.231834\"/>\r\n      </g>\r\n     </g>\r\n     <g id=\"text_12\">\r\n      <!-- 0.810 -->\r\n      <g transform=\"translate(20.979688 81.031053)scale(0.1 -0.1)\">\r\n       <use xlink:href=\"#DejaVuSans-30\"/>\r\n       <use x=\"63.623047\" xlink:href=\"#DejaVuSans-2e\"/>\r\n       <use x=\"95.410156\" xlink:href=\"#DejaVuSans-38\"/>\r\n       <use x=\"159.033203\" xlink:href=\"#DejaVuSans-31\"/>\r\n       <use x=\"222.65625\" xlink:href=\"#DejaVuSans-30\"/>\r\n      </g>\r\n     </g>\r\n    </g>\r\n    <g id=\"ytick_7\">\r\n     <g id=\"line2d_12\">\r\n      <g>\r\n       <use style=\"stroke:#000000;stroke-width:0.8;\" x=\"56.607813\" xlink:href=\"#md9a518c0dc\" y=\"49.097213\"/>\r\n      </g>\r\n     </g>\r\n     <g id=\"text_13\">\r\n      <!-- 0.812 -->\r\n      <g transform=\"translate(20.979688 52.896432)scale(0.1 -0.1)\">\r\n       <use xlink:href=\"#DejaVuSans-30\"/>\r\n       <use x=\"63.623047\" xlink:href=\"#DejaVuSans-2e\"/>\r\n       <use x=\"95.410156\" xlink:href=\"#DejaVuSans-38\"/>\r\n       <use x=\"159.033203\" xlink:href=\"#DejaVuSans-31\"/>\r\n       <use x=\"222.65625\" xlink:href=\"#DejaVuSans-32\"/>\r\n      </g>\r\n     </g>\r\n    </g>\r\n    <g id=\"text_14\">\r\n     <!-- ROC_AUC -->\r\n     <g transform=\"translate(14.621875 155.010781)rotate(-90)scale(0.1 -0.1)\">\r\n      <defs>\r\n       <path d=\"M 2841 2188 \r\nQ 3044 2119 3236 1894 \r\nQ 3428 1669 3622 1275 \r\nL 4263 0 \r\nL 3584 0 \r\nL 2988 1197 \r\nQ 2756 1666 2539 1819 \r\nQ 2322 1972 1947 1972 \r\nL 1259 1972 \r\nL 1259 0 \r\nL 628 0 \r\nL 628 4666 \r\nL 2053 4666 \r\nQ 2853 4666 3247 4331 \r\nQ 3641 3997 3641 3322 \r\nQ 3641 2881 3436 2590 \r\nQ 3231 2300 2841 2188 \r\nz\r\nM 1259 4147 \r\nL 1259 2491 \r\nL 2053 2491 \r\nQ 2509 2491 2742 2702 \r\nQ 2975 2913 2975 3322 \r\nQ 2975 3731 2742 3939 \r\nQ 2509 4147 2053 4147 \r\nL 1259 4147 \r\nz\r\n\" id=\"DejaVuSans-52\" transform=\"scale(0.015625)\"/>\r\n       <path d=\"M 2522 4238 \r\nQ 1834 4238 1429 3725 \r\nQ 1025 3213 1025 2328 \r\nQ 1025 1447 1429 934 \r\nQ 1834 422 2522 422 \r\nQ 3209 422 3611 934 \r\nQ 4013 1447 4013 2328 \r\nQ 4013 3213 3611 3725 \r\nQ 3209 4238 2522 4238 \r\nz\r\nM 2522 4750 \r\nQ 3503 4750 4090 4092 \r\nQ 4678 3434 4678 2328 \r\nQ 4678 1225 4090 567 \r\nQ 3503 -91 2522 -91 \r\nQ 1538 -91 948 565 \r\nQ 359 1222 359 2328 \r\nQ 359 3434 948 4092 \r\nQ 1538 4750 2522 4750 \r\nz\r\n\" id=\"DejaVuSans-4f\" transform=\"scale(0.015625)\"/>\r\n       <path d=\"M 3263 -1063 \r\nL 3263 -1509 \r\nL -63 -1509 \r\nL -63 -1063 \r\nL 3263 -1063 \r\nz\r\n\" id=\"DejaVuSans-5f\" transform=\"scale(0.015625)\"/>\r\n       <path d=\"M 2188 4044 \r\nL 1331 1722 \r\nL 3047 1722 \r\nL 2188 4044 \r\nz\r\nM 1831 4666 \r\nL 2547 4666 \r\nL 4325 0 \r\nL 3669 0 \r\nL 3244 1197 \r\nL 1141 1197 \r\nL 716 0 \r\nL 50 0 \r\nL 1831 4666 \r\nz\r\n\" id=\"DejaVuSans-41\" transform=\"scale(0.015625)\"/>\r\n       <path d=\"M 556 4666 \r\nL 1191 4666 \r\nL 1191 1831 \r\nQ 1191 1081 1462 751 \r\nQ 1734 422 2344 422 \r\nQ 2950 422 3222 751 \r\nQ 3494 1081 3494 1831 \r\nL 3494 4666 \r\nL 4128 4666 \r\nL 4128 1753 \r\nQ 4128 841 3676 375 \r\nQ 3225 -91 2344 -91 \r\nQ 1459 -91 1007 375 \r\nQ 556 841 556 1753 \r\nL 556 4666 \r\nz\r\n\" id=\"DejaVuSans-55\" transform=\"scale(0.015625)\"/>\r\n      </defs>\r\n      <use xlink:href=\"#DejaVuSans-52\"/>\r\n      <use x=\"69.482422\" xlink:href=\"#DejaVuSans-4f\"/>\r\n      <use x=\"148.193359\" xlink:href=\"#DejaVuSans-43\"/>\r\n      <use x=\"218.017578\" xlink:href=\"#DejaVuSans-5f\"/>\r\n      <use x=\"268.017578\" xlink:href=\"#DejaVuSans-41\"/>\r\n      <use x=\"336.425781\" xlink:href=\"#DejaVuSans-55\"/>\r\n      <use x=\"409.619141\" xlink:href=\"#DejaVuSans-43\"/>\r\n     </g>\r\n    </g>\r\n   </g>\r\n   <g id=\"line2d_13\">\r\n    <path clip-path=\"url(#peba051261e)\" d=\"M 71.825994 229.874489 \r\nL 96.932111 229.874489 \r\nL 96.932111 224.132059 \r\nL 119.367317 224.132059 \r\nL 119.367317 182.495678 \r\nL 145.904658 182.495678 \r\nL 145.904658 117.556415 \r\nL 156.277914 117.556415 \r\nL 156.277914 91.619814 \r\nL 184.108588 91.619814 \r\nL 184.108588 74.600135 \r\nL 249.686355 74.600135 \r\nL 249.686355 71.277346 \r\nL 284.777983 71.277346 \r\nL 284.777983 37.100091 \r\nL 376.189631 37.100091 \r\nL 376.189631 32.201761 \r\n\" style=\"fill:none;stroke:#1f77b4;stroke-linecap:square;stroke-width:1.5;\"/>\r\n   </g>\r\n   <g id=\"patch_3\">\r\n    <path d=\"M 56.607813 239.758125 \r\nL 56.607813 22.318125 \r\n\" style=\"fill:none;stroke:#000000;stroke-linecap:square;stroke-linejoin:miter;stroke-width:0.8;\"/>\r\n   </g>\r\n   <g id=\"patch_4\">\r\n    <path d=\"M 391.407813 239.758125 \r\nL 391.407813 22.318125 \r\n\" style=\"fill:none;stroke:#000000;stroke-linecap:square;stroke-linejoin:miter;stroke-width:0.8;\"/>\r\n   </g>\r\n   <g id=\"patch_5\">\r\n    <path d=\"M 56.607813 239.758125 \r\nL 391.407813 239.758125 \r\n\" style=\"fill:none;stroke:#000000;stroke-linecap:square;stroke-linejoin:miter;stroke-width:0.8;\"/>\r\n   </g>\r\n   <g id=\"patch_6\">\r\n    <path d=\"M 56.607813 22.318125 \r\nL 391.407813 22.318125 \r\n\" style=\"fill:none;stroke:#000000;stroke-linecap:square;stroke-linejoin:miter;stroke-width:0.8;\"/>\r\n   </g>\r\n   <g id=\"text_15\">\r\n    <!-- Learning Curve -->\r\n    <g transform=\"translate(178.349688 16.318125)scale(0.12 -0.12)\">\r\n     <defs>\r\n      <path d=\"M 628 4666 \r\nL 1259 4666 \r\nL 1259 531 \r\nL 3531 531 \r\nL 3531 0 \r\nL 628 0 \r\nL 628 4666 \r\nz\r\n\" id=\"DejaVuSans-4c\" transform=\"scale(0.015625)\"/>\r\n      <path d=\"M 2631 2963 \r\nQ 2534 3019 2420 3045 \r\nQ 2306 3072 2169 3072 \r\nQ 1681 3072 1420 2755 \r\nQ 1159 2438 1159 1844 \r\nL 1159 0 \r\nL 581 0 \r\nL 581 3500 \r\nL 1159 3500 \r\nL 1159 2956 \r\nQ 1341 3275 1631 3429 \r\nQ 1922 3584 2338 3584 \r\nQ 2397 3584 2469 3576 \r\nQ 2541 3569 2628 3553 \r\nL 2631 2963 \r\nz\r\n\" id=\"DejaVuSans-72\" transform=\"scale(0.015625)\"/>\r\n      <path d=\"M 3513 2113 \r\nL 3513 0 \r\nL 2938 0 \r\nL 2938 2094 \r\nQ 2938 2591 2744 2837 \r\nQ 2550 3084 2163 3084 \r\nQ 1697 3084 1428 2787 \r\nQ 1159 2491 1159 1978 \r\nL 1159 0 \r\nL 581 0 \r\nL 581 3500 \r\nL 1159 3500 \r\nL 1159 2956 \r\nQ 1366 3272 1645 3428 \r\nQ 1925 3584 2291 3584 \r\nQ 2894 3584 3203 3211 \r\nQ 3513 2838 3513 2113 \r\nz\r\n\" id=\"DejaVuSans-6e\" transform=\"scale(0.015625)\"/>\r\n      <path d=\"M 2906 1791 \r\nQ 2906 2416 2648 2759 \r\nQ 2391 3103 1925 3103 \r\nQ 1463 3103 1205 2759 \r\nQ 947 2416 947 1791 \r\nQ 947 1169 1205 825 \r\nQ 1463 481 1925 481 \r\nQ 2391 481 2648 825 \r\nQ 2906 1169 2906 1791 \r\nz\r\nM 3481 434 \r\nQ 3481 -459 3084 -895 \r\nQ 2688 -1331 1869 -1331 \r\nQ 1566 -1331 1297 -1286 \r\nQ 1028 -1241 775 -1147 \r\nL 775 -588 \r\nQ 1028 -725 1275 -790 \r\nQ 1522 -856 1778 -856 \r\nQ 2344 -856 2625 -561 \r\nQ 2906 -266 2906 331 \r\nL 2906 616 \r\nQ 2728 306 2450 153 \r\nQ 2172 0 1784 0 \r\nQ 1141 0 747 490 \r\nQ 353 981 353 1791 \r\nQ 353 2603 747 3093 \r\nQ 1141 3584 1784 3584 \r\nQ 2172 3584 2450 3431 \r\nQ 2728 3278 2906 2969 \r\nL 2906 3500 \r\nL 3481 3500 \r\nL 3481 434 \r\nz\r\n\" id=\"DejaVuSans-67\" transform=\"scale(0.015625)\"/>\r\n      <path d=\"M 544 1381 \r\nL 544 3500 \r\nL 1119 3500 \r\nL 1119 1403 \r\nQ 1119 906 1312 657 \r\nQ 1506 409 1894 409 \r\nQ 2359 409 2629 706 \r\nQ 2900 1003 2900 1516 \r\nL 2900 3500 \r\nL 3475 3500 \r\nL 3475 0 \r\nL 2900 0 \r\nL 2900 538 \r\nQ 2691 219 2414 64 \r\nQ 2138 -91 1772 -91 \r\nQ 1169 -91 856 284 \r\nQ 544 659 544 1381 \r\nz\r\nM 1991 3584 \r\nL 1991 3584 \r\nz\r\n\" id=\"DejaVuSans-75\" transform=\"scale(0.015625)\"/>\r\n      <path d=\"M 191 3500 \r\nL 800 3500 \r\nL 1894 563 \r\nL 2988 3500 \r\nL 3597 3500 \r\nL 2284 0 \r\nL 1503 0 \r\nL 191 3500 \r\nz\r\n\" id=\"DejaVuSans-76\" transform=\"scale(0.015625)\"/>\r\n     </defs>\r\n     <use xlink:href=\"#DejaVuSans-4c\"/>\r\n     <use x=\"53.962891\" xlink:href=\"#DejaVuSans-65\"/>\r\n     <use x=\"115.486328\" xlink:href=\"#DejaVuSans-61\"/>\r\n     <use x=\"176.765625\" xlink:href=\"#DejaVuSans-72\"/>\r\n     <use x=\"216.128906\" xlink:href=\"#DejaVuSans-6e\"/>\r\n     <use x=\"279.507812\" xlink:href=\"#DejaVuSans-69\"/>\r\n     <use x=\"307.291016\" xlink:href=\"#DejaVuSans-6e\"/>\r\n     <use x=\"370.669922\" xlink:href=\"#DejaVuSans-67\"/>\r\n     <use x=\"434.146484\" xlink:href=\"#DejaVuSans-20\"/>\r\n     <use x=\"465.933594\" xlink:href=\"#DejaVuSans-43\"/>\r\n     <use x=\"535.757812\" xlink:href=\"#DejaVuSans-75\"/>\r\n     <use x=\"599.136719\" xlink:href=\"#DejaVuSans-72\"/>\r\n     <use x=\"640.25\" xlink:href=\"#DejaVuSans-76\"/>\r\n     <use x=\"699.429688\" xlink:href=\"#DejaVuSans-65\"/>\r\n    </g>\r\n   </g>\r\n  </g>\r\n </g>\r\n <defs>\r\n  <clipPath id=\"peba051261e\">\r\n   <rect height=\"217.44\" width=\"334.8\" x=\"56.607813\" y=\"22.318125\"/>\r\n  </clipPath>\r\n </defs>\r\n</svg>\r\n",
      "image/png": "[encoded data removed]"
     },
     "metadata": {
      "needs_background": "light"
     }
    }
   ],
   "metadata": {}
  },
  {
   "cell_type": "code",
   "execution_count": 26,
   "source": [
    "print(\"done!\")"
   ],
   "outputs": [
    {
     "output_type": "stream",
     "name": "stdout",
     "text": [
      "done!\n"
     ]
    }
   ],
   "metadata": {}
  },
  {
   "cell_type": "code",
   "execution_count": null,
   "source": [],
   "outputs": [],
   "metadata": {}
  }
 ],
 "metadata": {
  "orig_nbformat": 4,
  "language_info": {
   "name": "python",
   "version": "3.8.11",
   "mimetype": "text/x-python",
   "codemirror_mode": {
    "name": "ipython",
    "version": 3
   },
   "pygments_lexer": "ipython3",
   "nbconvert_exporter": "python",
   "file_extension": ".py"
  },
  "kernelspec": {
   "name": "python3",
   "display_name": "Python 3.8.11 64-bit"
  },
  "interpreter": {
   "hash": "57af7658dc7e4159ea53cd3eda3a2bf17c2e9d90e60a639fd3a42334d366b7cc"
  }
 },
 "nbformat": 4,
 "nbformat_minor": 2
}