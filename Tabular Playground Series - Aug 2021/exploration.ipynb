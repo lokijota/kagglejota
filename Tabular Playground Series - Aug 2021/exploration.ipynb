{
 "cells": [
  {
   "cell_type": "code",
   "execution_count": null,
   "source": [
    "# EDA"
   ],
   "outputs": [],
   "metadata": {}
  },
  {
   "cell_type": "code",
   "execution_count": 39,
   "source": [
    "import warnings\r\n",
    "import numpy as np\r\n",
    "import pandas as pd\r\n",
    "from pandas_profiling import ProfileReport\r\n",
    "import matplotlib.pyplot as plt\r\n",
    "import seaborn as sns\r\n",
    "from sklearn import set_config\r\n",
    "\r\n",
    "warnings.filterwarnings(\"ignore\")\r\n",
    "\r\n",
    "#import sklearn\r\n",
    "#sklearn.show_versions()\r\n",
    "#sklearn.__version__\r\n",
    "set_config(display='diagram')"
   ],
   "outputs": [],
   "metadata": {}
  },
  {
   "cell_type": "code",
   "execution_count": 40,
   "source": [
    "data = pd.read_csv('data/train.csv', index_col=0)"
   ],
   "outputs": [],
   "metadata": {}
  },
  {
   "cell_type": "code",
   "execution_count": 4,
   "source": [
    "#data.describe()"
   ],
   "outputs": [],
   "metadata": {}
  },
  {
   "cell_type": "code",
   "execution_count": 5,
   "source": [
    "#data.head()"
   ],
   "outputs": [],
   "metadata": {}
  },
  {
   "cell_type": "code",
   "execution_count": 6,
   "source": [
    "#somedays = data[(data['date_time'] > '2010-12-1') & (data['date_time'] < '2010-12-20')]\r\n",
    "#somedays['sensor_5'].plot(figsize=(15,10))\r\n",
    "#plt.show()"
   ],
   "outputs": [],
   "metadata": {}
  },
  {
   "cell_type": "code",
   "execution_count": 7,
   "source": [
    "#profile = ProfileReport(data)\r\n",
    "#profile.to_widgets()\r\n",
    "#profile.to_file(\"data_profile.html\")a\r\n"
   ],
   "outputs": [],
   "metadata": {}
  },
  {
   "cell_type": "code",
   "execution_count": 8,
   "source": [
    "# https://johaupt.github.io/scikit-learn/tutorial/python/data%20processing/ml%20pipeline/model%20interpretation/columnTransformer_feature_names.html\r\n",
    "import sklearn\r\n",
    "\r\n",
    "def get_feature_names(column_transformer):\r\n",
    "    \"\"\"Get feature names from all transformers.\r\n",
    "    Returns\r\n",
    "    -------\r\n",
    "    feature_names : list of strings\r\n",
    "        Names of the features produced by transform.\r\n",
    "    \"\"\"\r\n",
    "    # Remove the internal helper function\r\n",
    "    #check_is_fitted(column_transformer)\r\n",
    "    \r\n",
    "    # Turn loopkup into function for better handling with pipeline later\r\n",
    "    def get_names(trans):\r\n",
    "        # >> Original get_feature_names() method\r\n",
    "        if trans == 'drop' or (\r\n",
    "                hasattr(column, '__len__') and not len(column)):\r\n",
    "            return []\r\n",
    "        if trans == 'passthrough':\r\n",
    "            if hasattr(column_transformer, '_df_columns'):\r\n",
    "                if ((not isinstance(column, slice))\r\n",
    "                        and all(isinstance(col, str) for col in column)):\r\n",
    "                    return column\r\n",
    "                else:\r\n",
    "                    return column_transformer._df_columns[column]\r\n",
    "            else:\r\n",
    "                indices = np.arange(column_transformer._n_features)\r\n",
    "                return ['x%d' % i for i in indices[column]]\r\n",
    "        if not hasattr(trans, 'get_feature_names'):\r\n",
    "        # >>> Change: Return input column names if no method avaiable\r\n",
    "            # Turn error into a warning\r\n",
    "            warnings.warn(\"Transformer %s (type %s) does not \"\r\n",
    "                                 \"provide get_feature_names. \"\r\n",
    "                                 \"Will return input column names if available\"\r\n",
    "                                 % (str(name), type(trans).__name__))\r\n",
    "            # For transformers without a get_features_names method, use the input\r\n",
    "            # names to the column transformer\r\n",
    "            if column is None:\r\n",
    "                return []\r\n",
    "            else:\r\n",
    "                return [name + \"__\" + f for f in column]\r\n",
    "\r\n",
    "        return [name + \"__\" + f for f in trans.get_feature_names()]\r\n",
    "    \r\n",
    "    ### Start of processing\r\n",
    "    feature_names = []\r\n",
    "    \r\n",
    "    # Allow transformers to be pipelines. Pipeline steps are named differently, so preprocessing is needed\r\n",
    "    if type(column_transformer) == sklearn.pipeline.Pipeline:\r\n",
    "        l_transformers = [(name, trans, None, None) for step, name, trans in column_transformer._iter()]\r\n",
    "    else:\r\n",
    "        # For column transformers, follow the original method\r\n",
    "        l_transformers = list(column_transformer._iter(fitted=True))\r\n",
    "    \r\n",
    "    \r\n",
    "    for name, trans, column, _ in l_transformers: \r\n",
    "        if type(trans) == sklearn.pipeline.Pipeline:\r\n",
    "            # Recursive call on pipeline\r\n",
    "            _names = get_feature_names(trans)\r\n",
    "            # if pipeline has no transformer that returns names\r\n",
    "            if len(_names)==0:\r\n",
    "                _names = [name + \"__\" + f for f in column]\r\n",
    "            feature_names.extend(_names)\r\n",
    "        else:\r\n",
    "            feature_names.extend(get_names(trans))\r\n",
    "    \r\n",
    "    return feature_names"
   ],
   "outputs": [],
   "metadata": {}
  },
  {
   "cell_type": "code",
   "execution_count": 41,
   "source": [
    "# 5150\t0.005636\tf25 f52\r\n",
    "# 5149\t0.004500\tf77^2\r\n",
    "# 5148\t0.003276\tf12 f81\r\n",
    "# 5147\t0.002574\tf9 f81\r\n",
    "# 5146\t0.002218\tf3 f46\r\n",
    "# 5145\t0.002078\tf41^2\r\n",
    "# 5144\t0.001962\tf31 f81\r\n",
    "# 5143\t0.001911\tf58 f81\r\n",
    "# 5142\t0.001853\tf41 f58\r\n",
    "# 5141\t0.001827\tf31 f74\r\n",
    "# 5140\t0.001808\tf3 f13\r\n",
    "# 5139\t0.001772\tf13 f52\r\n",
    "# 5138\t0.001729\tf66 f96\r\n",
    "\r\n",
    "def GenerateFeatures(data):\r\n",
    "\r\n",
    "    data.loc[:, 'f25xf52'] = data['f25'] * data['f52']\r\n",
    "    data.loc[:, 'f77squared'] = data['f77'] * data['f77']\r\n",
    "    data.loc[:, 'f12xf81'] = data['f12'] * data['f81']\r\n",
    "    data.loc[:, 'f9xf82'] = data['f9'] * data['f82']\r\n",
    "    data.loc[:, 'f3xf46'] = data['f3'] * data['f46']\r\n",
    "    data.loc[:, 'f41squared'] = data['f41'] * data['f41']\r\n",
    "    data.loc[:, 'f31xf81'] = data['f31'] * data['f81']\r\n",
    "    data.loc[:, 'f58xf81'] = data['f58'] * data['f81']\r\n",
    "    data.loc[:, 'ff1xf58'] = data['f41'] * data['f58']\r\n",
    "    data.loc[:, 'f31xf74'] = data['f31'] * data['f74']\r\n",
    "    data.loc[:, 'f3xf13'] = data['f3'] * data['f13']\r\n",
    "    data.loc[:, 'f13xf52'] = data['f13'] * data['f52']\r\n",
    "    data.loc[:, 'f66xf96'] = data['f66'] * data['f96']\r\n",
    "  \r\n",
    "    return data"
   ],
   "outputs": [],
   "metadata": {}
  },
  {
   "cell_type": "code",
   "execution_count": 42,
   "source": [
    "# prepare the data\r\n",
    "y = data.pop('loss')\r\n",
    "X = GenerateFeatures(data)"
   ],
   "outputs": [],
   "metadata": {}
  },
  {
   "cell_type": "code",
   "execution_count": 43,
   "source": [
    "#from interpret.glassbox import ExplainableBoostingRegressor\r\n",
    "from sklearn.model_selection import train_test_split\r\n",
    "from sklearn.pipeline import make_pipeline, Pipeline, FeatureUnion\r\n",
    "from sklearn.compose import make_column_selector as selector\r\n",
    "from sklearn.compose import ColumnTransformer, TransformedTargetRegressor\r\n",
    "from sklearn.preprocessing import MinMaxScaler, PolynomialFeatures, OneHotEncoder\r\n",
    "import lightgbm as lgb\r\n",
    "import xgboost as xgb\r\n",
    "\r\n",
    "X_train, X_test, y_train, y_test = train_test_split(X, y, test_size=0.25, shuffle=True, random_state=42)\r\n",
    "\r\n",
    "ct = ColumnTransformer(\r\n",
    "    transformers=[\r\n",
    "        ('scaler', MinMaxScaler(), X.columns),\r\n",
    "        #('poly_feat_gen', PolynomialFeatures(), X.columns),\r\n",
    "    ]\r\n",
    ")\r\n",
    "\r\n",
    "#pipeline  = make_pipeline(ct, lgb.LGBMRegressor(n_estimators=460, max_depth=31, learning_rate=0.39, num_leaves=2, metric=\"rmse\", random_state=42))\r\n",
    "xgbparams = {'n_estimators': 4805,\r\n",
    "    'max_leaves': 166,\r\n",
    "    'min_child_weight': 12.264484523041242,\r\n",
    "    'learning_rate': 0.007267417374185082,\r\n",
    "    'subsample': 0.8277110573761649,\r\n",
    "    'colsample_bylevel': 0.5809666800564879,\r\n",
    "    'colsample_bytree': 0.6613326502938923,\r\n",
    "    'reg_alpha': 0.004798296127133117,\r\n",
    "    'reg_lambda': 21.94499581629921,\r\n",
    "    }\r\n",
    "\r\n",
    "# ct commented out from 1st param\r\n",
    "pipeline  = make_pipeline(xgb.XGBRegressor(eval_metric=\"rmse\", random_state=42, **xgbparams)) #**xgbparams"
   ],
   "outputs": [],
   "metadata": {}
  },
  {
   "cell_type": "code",
   "execution_count": 44,
   "source": [
    "pipeline.fit(X_train, y_train)\r\n",
    "print(\"Trained pipeline\")"
   ],
   "outputs": [
    {
     "output_type": "stream",
     "name": "stdout",
     "text": [
      "Trained pipeline\n"
     ]
    }
   ],
   "metadata": {}
  },
  {
   "cell_type": "code",
   "execution_count": 48,
   "source": [
    "feature_imp = pd.DataFrame(sorted(zip(pipeline[\"xgbregressor\"].feature_importances_,feature_names)), columns=['Value','Feature'])\r\n",
    "feature_imp[feature_imp['Value'] > 0.001500]"
   ],
   "outputs": [
    {
     "output_type": "execute_result",
     "data": {
      "text/plain": [
       "        Value Feature\n",
       "0    0.007467     f71\n",
       "1    0.007479      f9\n",
       "2    0.007481     f39\n",
       "3    0.007544     f32\n",
       "4    0.007553     f41\n",
       "..        ...     ...\n",
       "108  0.011551  f0 f10\n",
       "109  0.012076     f80\n",
       "110  0.012685     f24\n",
       "111  0.012934   f0 f1\n",
       "112  0.013392    f0^2\n",
       "\n",
       "[113 rows x 2 columns]"
      ],
      "text/html": [
       "<div>\n",
       "<style scoped>\n",
       "    .dataframe tbody tr th:only-of-type {\n",
       "        vertical-align: middle;\n",
       "    }\n",
       "\n",
       "    .dataframe tbody tr th {\n",
       "        vertical-align: top;\n",
       "    }\n",
       "\n",
       "    .dataframe thead th {\n",
       "        text-align: right;\n",
       "    }\n",
       "</style>\n",
       "<table border=\"1\" class=\"dataframe\">\n",
       "  <thead>\n",
       "    <tr style=\"text-align: right;\">\n",
       "      <th></th>\n",
       "      <th>Value</th>\n",
       "      <th>Feature</th>\n",
       "    </tr>\n",
       "  </thead>\n",
       "  <tbody>\n",
       "    <tr>\n",
       "      <th>0</th>\n",
       "      <td>0.007467</td>\n",
       "      <td>f71</td>\n",
       "    </tr>\n",
       "    <tr>\n",
       "      <th>1</th>\n",
       "      <td>0.007479</td>\n",
       "      <td>f9</td>\n",
       "    </tr>\n",
       "    <tr>\n",
       "      <th>2</th>\n",
       "      <td>0.007481</td>\n",
       "      <td>f39</td>\n",
       "    </tr>\n",
       "    <tr>\n",
       "      <th>3</th>\n",
       "      <td>0.007544</td>\n",
       "      <td>f32</td>\n",
       "    </tr>\n",
       "    <tr>\n",
       "      <th>4</th>\n",
       "      <td>0.007553</td>\n",
       "      <td>f41</td>\n",
       "    </tr>\n",
       "    <tr>\n",
       "      <th>...</th>\n",
       "      <td>...</td>\n",
       "      <td>...</td>\n",
       "    </tr>\n",
       "    <tr>\n",
       "      <th>108</th>\n",
       "      <td>0.011551</td>\n",
       "      <td>f0 f10</td>\n",
       "    </tr>\n",
       "    <tr>\n",
       "      <th>109</th>\n",
       "      <td>0.012076</td>\n",
       "      <td>f80</td>\n",
       "    </tr>\n",
       "    <tr>\n",
       "      <th>110</th>\n",
       "      <td>0.012685</td>\n",
       "      <td>f24</td>\n",
       "    </tr>\n",
       "    <tr>\n",
       "      <th>111</th>\n",
       "      <td>0.012934</td>\n",
       "      <td>f0 f1</td>\n",
       "    </tr>\n",
       "    <tr>\n",
       "      <th>112</th>\n",
       "      <td>0.013392</td>\n",
       "      <td>f0^2</td>\n",
       "    </tr>\n",
       "  </tbody>\n",
       "</table>\n",
       "<p>113 rows × 2 columns</p>\n",
       "</div>"
      ]
     },
     "metadata": {},
     "execution_count": 48
    }
   ],
   "metadata": {}
  },
  {
   "cell_type": "code",
   "execution_count": 50,
   "source": [
    "# Get and plot feature importances for XGBoost\r\n",
    "\r\n",
    "#feature_names = pipeline['columntransformer'].named_transformers_['poly_feat_gen'].get_feature_names(X.columns)\r\n",
    "feature_names = X.columns\r\n",
    "\r\n",
    "feature_imp = pd.DataFrame(sorted(zip(pipeline[\"xgbregressor\"].feature_importances_,feature_names)), columns=['Value','Feature'])\r\n",
    "feature_imp = feature_imp.sort_values(by=\"Value\", ascending=False)[feature_imp['Value'] > 0.005]\r\n",
    "\r\n",
    "plt.figure(figsize=(20, 10))\r\n",
    "sns.barplot(x=\"Value\", y=\"Feature\", data=feature_imp)\r\n",
    "plt.title('XGBoost Feature Importances')\r\n",
    "plt.tight_layout()\r\n",
    "plt.show()"
   ],
   "outputs": [
    {
     "output_type": "display_data",
     "data": {
      "text/plain": [
       "<Figure size 1440x720 with 1 Axes>"
      ],
      "image/svg+xml": "<?xml version=\"1.0\" encoding=\"utf-8\" standalone=\"no\"?>\r\n<!DOCTYPE svg PUBLIC \"-//W3C//DTD SVG 1.1//EN\"\r\n  \"http://www.w3.org/Graphics/SVG/1.1/DTD/svg11.dtd\">\r\n<!-- Created with matplotlib (https://matplotlib.org/) -->\r\n<svg height=\"711.274375pt\" version=\"1.1\" viewBox=\"0 0 1431.249916 711.274375\" width=\"1431.249916pt\" xmlns=\"http://www.w3.org/2000/svg\" xmlns:xlink=\"http://www.w3.org/1999/xlink\">\r\n <defs>\r\n  <style type=\"text/css\">\r\n*{stroke-linecap:butt;stroke-linejoin:round;}\r\n  </style>\r\n </defs>\r\n <g id=\"figure_1\">\r\n  <g id=\"patch_1\">\r\n   <path d=\"M 0 711.274375 \r\nL 1431.249916 711.274375 \r\nL 1431.249916 0 \r\nL 0 0 \r\nz\r\n\" style=\"fill:none;\"/>\r\n  </g>\r\n  <g id=\"axes_1\">\r\n   <g id=\"patch_2\">\r\n    <path d=\"M 84.534375 673.718125 \r\nL 1415.606218 673.718125 \r\nL 1415.606218 22.318125 \r\nL 84.534375 22.318125 \r\nz\r\n\" style=\"fill:#ffffff;\"/>\r\n   </g>\r\n   <g id=\"patch_3\">\r\n    <path clip-path=\"url(#pfbeaa180d2)\" d=\"M 84.534375 22.894585 \r\nL 1352.221845 22.894585 \r\nL 1352.221845 27.506267 \r\nL 84.534375 27.506267 \r\nz\r\n\" style=\"fill:#ea96a3;\"/>\r\n   </g>\r\n   <g id=\"patch_4\">\r\n    <path clip-path=\"url(#pfbeaa180d2)\" d=\"M 84.534375 28.659187 \r\nL 1308.833364 28.659187 \r\nL 1308.833364 33.270868 \r\nL 84.534375 33.270868 \r\nz\r\n\" style=\"fill:#ea969f;\"/>\r\n   </g>\r\n   <g id=\"patch_5\">\r\n    <path clip-path=\"url(#pfbeaa180d2)\" d=\"M 84.534375 34.423789 \r\nL 1285.267122 34.423789 \r\nL 1285.267122 39.03547 \r\nL 84.534375 39.03547 \r\nz\r\n\" style=\"fill:#ea979b;\"/>\r\n   </g>\r\n   <g id=\"patch_6\">\r\n    <path clip-path=\"url(#pfbeaa180d2)\" d=\"M 84.534375 40.18839 \r\nL 1227.592628 40.18839 \r\nL 1227.592628 44.800072 \r\nL 84.534375 44.800072 \r\nz\r\n\" style=\"fill:#ea9795;\"/>\r\n   </g>\r\n   <g id=\"patch_7\">\r\n    <path clip-path=\"url(#pfbeaa180d2)\" d=\"M 84.534375 45.952992 \r\nL 1177.913393 45.952992 \r\nL 1177.913393 50.564674 \r\nL 84.534375 50.564674 \r\nz\r\n\" style=\"fill:#e9978f;\"/>\r\n   </g>\r\n   <g id=\"patch_8\">\r\n    <path clip-path=\"url(#pfbeaa180d2)\" d=\"M 84.534375 51.717594 \r\nL 1145.631212 51.717594 \r\nL 1145.631212 56.329275 \r\nL 84.534375 56.329275 \r\nz\r\n\" style=\"fill:#e89688;\"/>\r\n   </g>\r\n   <g id=\"patch_9\">\r\n    <path clip-path=\"url(#pfbeaa180d2)\" d=\"M 84.534375 57.482196 \r\nL 1133.521957 57.482196 \r\nL 1133.521957 62.093877 \r\nL 84.534375 62.093877 \r\nz\r\n\" style=\"fill:#e79680;\"/>\r\n   </g>\r\n   <g id=\"patch_10\">\r\n    <path clip-path=\"url(#pfbeaa180d2)\" d=\"M 84.534375 63.246798 \r\nL 1120.782471 63.246798 \r\nL 1120.782471 67.858479 \r\nL 84.534375 67.858479 \r\nz\r\n\" style=\"fill:#e69576;\"/>\r\n   </g>\r\n   <g id=\"patch_11\">\r\n    <path clip-path=\"url(#pfbeaa180d2)\" d=\"M 84.534375 69.011399 \r\nL 1119.871991 69.011399 \r\nL 1119.871991 73.623081 \r\nL 84.534375 73.623081 \r\nz\r\n\" style=\"fill:#e4946b;\"/>\r\n   </g>\r\n   <g id=\"patch_12\">\r\n    <path clip-path=\"url(#pfbeaa180d2)\" d=\"M 84.534375 74.776001 \r\nL 1063.067336 74.776001 \r\nL 1063.067336 79.387683 \r\nL 84.534375 79.387683 \r\nz\r\n\" style=\"fill:#e2925b;\"/>\r\n   </g>\r\n   <g id=\"patch_13\">\r\n    <path clip-path=\"url(#pfbeaa180d2)\" d=\"M 84.534375 80.540603 \r\nL 1047.093567 80.540603 \r\nL 1047.093567 85.152284 \r\nL 84.534375 85.152284 \r\nz\r\n\" style=\"fill:#de924f;\"/>\r\n   </g>\r\n   <g id=\"patch_14\">\r\n    <path clip-path=\"url(#pfbeaa180d2)\" d=\"M 84.534375 86.305205 \r\nL 1038.093412 86.305205 \r\nL 1038.093412 90.916886 \r\nL 84.534375 90.916886 \r\nz\r\n\" style=\"fill:#d8934e;\"/>\r\n   </g>\r\n   <g id=\"patch_15\">\r\n    <path clip-path=\"url(#pfbeaa180d2)\" d=\"M 84.534375 92.069806 \r\nL 1021.769133 92.069806 \r\nL 1021.769133 96.681488 \r\nL 84.534375 96.681488 \r\nz\r\n\" style=\"fill:#d4954d;\"/>\r\n   </g>\r\n   <g id=\"patch_16\">\r\n    <path clip-path=\"url(#pfbeaa180d2)\" d=\"M 84.534375 97.834408 \r\nL 1018.40764 97.834408 \r\nL 1018.40764 102.44609 \r\nL 84.534375 102.44609 \r\nz\r\n\" style=\"fill:#cf964c;\"/>\r\n   </g>\r\n   <g id=\"patch_17\">\r\n    <path clip-path=\"url(#pfbeaa180d2)\" d=\"M 84.534375 103.59901 \r\nL 1018.13268 103.59901 \r\nL 1018.13268 108.210691 \r\nL 84.534375 108.210691 \r\nz\r\n\" style=\"fill:#cb984c;\"/>\r\n   </g>\r\n   <g id=\"patch_18\">\r\n    <path clip-path=\"url(#pfbeaa180d2)\" d=\"M 84.534375 109.363612 \r\nL 1018.001768 109.363612 \r\nL 1018.001768 113.975293 \r\nL 84.534375 113.975293 \r\nz\r\n\" style=\"fill:#c7994b;\"/>\r\n   </g>\r\n   <g id=\"patch_19\">\r\n    <path clip-path=\"url(#pfbeaa180d2)\" d=\"M 84.534375 115.128213 \r\nL 1012.250001 115.128213 \r\nL 1012.250001 119.739895 \r\nL 84.534375 119.739895 \r\nz\r\n\" style=\"fill:#c39a4b;\"/>\r\n   </g>\r\n   <g id=\"patch_20\">\r\n    <path clip-path=\"url(#pfbeaa180d2)\" d=\"M 84.534375 120.892815 \r\nL 1006.816832 120.892815 \r\nL 1006.816832 125.504497 \r\nL 84.534375 125.504497 \r\nz\r\n\" style=\"fill:#bf9a4a;\"/>\r\n   </g>\r\n   <g id=\"patch_21\">\r\n    <path clip-path=\"url(#pfbeaa180d2)\" d=\"M 84.534375 126.657417 \r\nL 1004.741718 126.657417 \r\nL 1004.741718 131.269098 \r\nL 84.534375 131.269098 \r\nz\r\n\" style=\"fill:#bb9b4a;\"/>\r\n   </g>\r\n   <g id=\"patch_22\">\r\n    <path clip-path=\"url(#pfbeaa180d2)\" d=\"M 84.534375 132.422019 \r\nL 1002.43105 132.422019 \r\nL 1002.43105 137.0337 \r\nL 84.534375 137.0337 \r\nz\r\n\" style=\"fill:#b89c49;\"/>\r\n   </g>\r\n   <g id=\"patch_23\">\r\n    <path clip-path=\"url(#pfbeaa180d2)\" d=\"M 84.534375 138.186621 \r\nL 1001.844369 138.186621 \r\nL 1001.844369 142.798302 \r\nL 84.534375 142.798302 \r\nz\r\n\" style=\"fill:#b49c48;\"/>\r\n   </g>\r\n   <g id=\"patch_24\">\r\n    <path clip-path=\"url(#pfbeaa180d2)\" d=\"M 84.534375 143.951222 \r\nL 993.818783 143.951222 \r\nL 993.818783 148.562904 \r\nL 84.534375 148.562904 \r\nz\r\n\" style=\"fill:#b19d48;\"/>\r\n   </g>\r\n   <g id=\"patch_25\">\r\n    <path clip-path=\"url(#pfbeaa180d2)\" d=\"M 84.534375 149.715824 \r\nL 993.617875 149.715824 \r\nL 993.617875 154.327506 \r\nL 84.534375 154.327506 \r\nz\r\n\" style=\"fill:#ad9e47;\"/>\r\n   </g>\r\n   <g id=\"patch_26\">\r\n    <path clip-path=\"url(#pfbeaa180d2)\" d=\"M 84.534375 155.480426 \r\nL 992.610864 155.480426 \r\nL 992.610864 160.092107 \r\nL 84.534375 160.092107 \r\nz\r\n\" style=\"fill:#aa9e47;\"/>\r\n   </g>\r\n   <g id=\"patch_27\">\r\n    <path clip-path=\"url(#pfbeaa180d2)\" d=\"M 84.534375 161.245028 \r\nL 992.590324 161.245028 \r\nL 992.590324 165.856709 \r\nL 84.534375 165.856709 \r\nz\r\n\" style=\"fill:#a69f46;\"/>\r\n   </g>\r\n   <g id=\"patch_28\">\r\n    <path clip-path=\"url(#pfbeaa180d2)\" d=\"M 84.534375 167.009629 \r\nL 990.042426 167.009629 \r\nL 990.042426 171.621311 \r\nL 84.534375 171.621311 \r\nz\r\n\" style=\"fill:#a39f46;\"/>\r\n   </g>\r\n   <g id=\"patch_29\">\r\n    <path clip-path=\"url(#pfbeaa180d2)\" d=\"M 84.534375 172.774231 \r\nL 989.617424 172.774231 \r\nL 989.617424 177.385913 \r\nL 84.534375 177.385913 \r\nz\r\n\" style=\"fill:#9fa045;\"/>\r\n   </g>\r\n   <g id=\"patch_30\">\r\n    <path clip-path=\"url(#pfbeaa180d2)\" d=\"M 84.534375 178.538833 \r\nL 988.801007 178.538833 \r\nL 988.801007 183.150514 \r\nL 84.534375 183.150514 \r\nz\r\n\" style=\"fill:#9ca145;\"/>\r\n   </g>\r\n   <g id=\"patch_31\">\r\n    <path clip-path=\"url(#pfbeaa180d2)\" d=\"M 84.534375 184.303435 \r\nL 981.708117 184.303435 \r\nL 981.708117 188.915116 \r\nL 84.534375 188.915116 \r\nz\r\n\" style=\"fill:#99a246;\"/>\r\n   </g>\r\n   <g id=\"patch_32\">\r\n    <path clip-path=\"url(#pfbeaa180d2)\" d=\"M 84.534375 190.068037 \r\nL 966.718703 190.068037 \r\nL 966.718703 194.679718 \r\nL 84.534375 194.679718 \r\nz\r\n\" style=\"fill:#95a346;\"/>\r\n   </g>\r\n   <g id=\"patch_33\">\r\n    <path clip-path=\"url(#pfbeaa180d2)\" d=\"M 84.534375 195.832638 \r\nL 965.83326 195.832638 \r\nL 965.83326 200.44432 \r\nL 84.534375 200.44432 \r\nz\r\n\" style=\"fill:#91a446;\"/>\r\n   </g>\r\n   <g id=\"patch_34\">\r\n    <path clip-path=\"url(#pfbeaa180d2)\" d=\"M 84.534375 201.59724 \r\nL 965.337997 201.59724 \r\nL 965.337997 206.208921 \r\nL 84.534375 206.208921 \r\nz\r\n\" style=\"fill:#8da546;\"/>\r\n   </g>\r\n   <g id=\"patch_35\">\r\n    <path clip-path=\"url(#pfbeaa180d2)\" d=\"M 84.534375 207.361842 \r\nL 964.82237 207.361842 \r\nL 964.82237 211.973523 \r\nL 84.534375 211.973523 \r\nz\r\n\" style=\"fill:#89a646;\"/>\r\n   </g>\r\n   <g id=\"patch_36\">\r\n    <path clip-path=\"url(#pfbeaa180d2)\" d=\"M 84.534375 213.126444 \r\nL 962.981928 213.126444 \r\nL 962.981928 217.738125 \r\nL 84.534375 217.738125 \r\nz\r\n\" style=\"fill:#84a846;\"/>\r\n   </g>\r\n   <g id=\"patch_37\">\r\n    <path clip-path=\"url(#pfbeaa180d2)\" d=\"M 84.534375 218.891045 \r\nL 962.843258 218.891045 \r\nL 962.843258 223.502727 \r\nL 84.534375 223.502727 \r\nz\r\n\" style=\"fill:#7fa946;\"/>\r\n   </g>\r\n   <g id=\"patch_38\">\r\n    <path clip-path=\"url(#pfbeaa180d2)\" d=\"M 84.534375 224.655647 \r\nL 961.922728 224.655647 \r\nL 961.922728 229.267329 \r\nL 84.534375 229.267329 \r\nz\r\n\" style=\"fill:#78aa47;\"/>\r\n   </g>\r\n   <g id=\"patch_39\">\r\n    <path clip-path=\"url(#pfbeaa180d2)\" d=\"M 84.534375 230.420249 \r\nL 960.148051 230.420249 \r\nL 960.148051 235.03193 \r\nL 84.534375 235.03193 \r\nz\r\n\" style=\"fill:#71ac47;\"/>\r\n   </g>\r\n   <g id=\"patch_40\">\r\n    <path clip-path=\"url(#pfbeaa180d2)\" d=\"M 84.534375 236.184851 \r\nL 949.577919 236.184851 \r\nL 949.577919 240.796532 \r\nL 84.534375 240.796532 \r\nz\r\n\" style=\"fill:#68ad47;\"/>\r\n   </g>\r\n   <g id=\"patch_41\">\r\n    <path clip-path=\"url(#pfbeaa180d2)\" d=\"M 84.534375 241.949452 \r\nL 949.411656 241.949452 \r\nL 949.411656 246.561134 \r\nL 84.534375 246.561134 \r\nz\r\n\" style=\"fill:#5baf47;\"/>\r\n   </g>\r\n   <g id=\"patch_42\">\r\n    <path clip-path=\"url(#pfbeaa180d2)\" d=\"M 84.534375 247.714054 \r\nL 948.15049 247.714054 \r\nL 948.15049 252.325736 \r\nL 84.534375 252.325736 \r\nz\r\n\" style=\"fill:#49b147;\"/>\r\n   </g>\r\n   <g id=\"patch_43\">\r\n    <path clip-path=\"url(#pfbeaa180d2)\" d=\"M 84.534375 253.478656 \r\nL 937.17043 253.478656 \r\nL 937.17043 258.090337 \r\nL 84.534375 258.090337 \r\nz\r\n\" style=\"fill:#48b05a;\"/>\r\n   </g>\r\n   <g id=\"patch_44\">\r\n    <path clip-path=\"url(#pfbeaa180d2)\" d=\"M 84.534375 259.243258 \r\nL 934.133352 259.243258 \r\nL 934.133352 263.854939 \r\nL 84.534375 263.854939 \r\nz\r\n\" style=\"fill:#48b066;\"/>\r\n   </g>\r\n   <g id=\"patch_45\">\r\n    <path clip-path=\"url(#pfbeaa180d2)\" d=\"M 84.534375 265.00786 \r\nL 921.825128 265.00786 \r\nL 921.825128 269.619541 \r\nL 84.534375 269.619541 \r\nz\r\n\" style=\"fill:#48af6f;\"/>\r\n   </g>\r\n   <g id=\"patch_46\">\r\n    <path clip-path=\"url(#pfbeaa180d2)\" d=\"M 84.534375 270.772461 \r\nL 918.927249 270.772461 \r\nL 918.927249 275.384143 \r\nL 84.534375 275.384143 \r\nz\r\n\" style=\"fill:#49af76;\"/>\r\n   </g>\r\n   <g id=\"patch_47\">\r\n    <path clip-path=\"url(#pfbeaa180d2)\" d=\"M 84.534375 276.537063 \r\nL 914.100332 276.537063 \r\nL 914.100332 281.148744 \r\nL 84.534375 281.148744 \r\nz\r\n\" style=\"fill:#49af7d;\"/>\r\n   </g>\r\n   <g id=\"patch_48\">\r\n    <path clip-path=\"url(#pfbeaa180d2)\" d=\"M 84.534375 282.301665 \r\nL 912.869051 282.301665 \r\nL 912.869051 286.913346 \r\nL 84.534375 286.913346 \r\nz\r\n\" style=\"fill:#49ae82;\"/>\r\n   </g>\r\n   <g id=\"patch_49\">\r\n    <path clip-path=\"url(#pfbeaa180d2)\" d=\"M 84.534375 288.066267 \r\nL 910.655531 288.066267 \r\nL 910.655531 292.677948 \r\nL 84.534375 292.677948 \r\nz\r\n\" style=\"fill:#49ae86;\"/>\r\n   </g>\r\n   <g id=\"patch_50\">\r\n    <path clip-path=\"url(#pfbeaa180d2)\" d=\"M 84.534375 293.830868 \r\nL 910.427118 293.830868 \r\nL 910.427118 298.44255 \r\nL 84.534375 298.44255 \r\nz\r\n\" style=\"fill:#4aae8a;\"/>\r\n   </g>\r\n   <g id=\"patch_51\">\r\n    <path clip-path=\"url(#pfbeaa180d2)\" d=\"M 84.534375 299.59547 \r\nL 909.82545 299.59547 \r\nL 909.82545 304.207152 \r\nL 84.534375 304.207152 \r\nz\r\n\" style=\"fill:#4aad8e;\"/>\r\n   </g>\r\n   <g id=\"patch_52\">\r\n    <path clip-path=\"url(#pfbeaa180d2)\" d=\"M 84.534375 305.360072 \r\nL 908.989904 305.360072 \r\nL 908.989904 309.971753 \r\nL 84.534375 309.971753 \r\nz\r\n\" style=\"fill:#4aad91;\"/>\r\n   </g>\r\n   <g id=\"patch_53\">\r\n    <path clip-path=\"url(#pfbeaa180d2)\" d=\"M 84.534375 311.124674 \r\nL 907.901789 311.124674 \r\nL 907.901789 315.736355 \r\nL 84.534375 315.736355 \r\nz\r\n\" style=\"fill:#4aad94;\"/>\r\n   </g>\r\n   <g id=\"patch_54\">\r\n    <path clip-path=\"url(#pfbeaa180d2)\" d=\"M 84.534375 316.889275 \r\nL 903.137022 316.889275 \r\nL 903.137022 321.500957 \r\nL 84.534375 321.500957 \r\nz\r\n\" style=\"fill:#4aac97;\"/>\r\n   </g>\r\n   <g id=\"patch_55\">\r\n    <path clip-path=\"url(#pfbeaa180d2)\" d=\"M 84.534375 322.653877 \r\nL 901.874622 322.653877 \r\nL 901.874622 327.265559 \r\nL 84.534375 327.265559 \r\nz\r\n\" style=\"fill:#4aac99;\"/>\r\n   </g>\r\n   <g id=\"patch_56\">\r\n    <path clip-path=\"url(#pfbeaa180d2)\" d=\"M 84.534375 328.418479 \r\nL 898.94633 328.418479 \r\nL 898.94633 333.03016 \r\nL 84.534375 333.03016 \r\nz\r\n\" style=\"fill:#4aac9c;\"/>\r\n   </g>\r\n   <g id=\"patch_57\">\r\n    <path clip-path=\"url(#pfbeaa180d2)\" d=\"M 84.534375 334.183081 \r\nL 894.664572 334.183081 \r\nL 894.664572 338.794762 \r\nL 84.534375 338.794762 \r\nz\r\n\" style=\"fill:#4bac9e;\"/>\r\n   </g>\r\n   <g id=\"patch_58\">\r\n    <path clip-path=\"url(#pfbeaa180d2)\" d=\"M 84.534375 339.947683 \r\nL 891.582711 339.947683 \r\nL 891.582711 344.559364 \r\nL 84.534375 344.559364 \r\nz\r\n\" style=\"fill:#4baca1;\"/>\r\n   </g>\r\n   <g id=\"patch_59\">\r\n    <path clip-path=\"url(#pfbeaa180d2)\" d=\"M 84.534375 345.712284 \r\nL 891.451887 345.712284 \r\nL 891.451887 350.323966 \r\nL 84.534375 350.323966 \r\nz\r\n\" style=\"fill:#4baba3;\"/>\r\n   </g>\r\n   <g id=\"patch_60\">\r\n    <path clip-path=\"url(#pfbeaa180d2)\" d=\"M 84.534375 351.476886 \r\nL 891.113631 351.476886 \r\nL 891.113631 356.088567 \r\nL 84.534375 356.088567 \r\nz\r\n\" style=\"fill:#4baba5;\"/>\r\n   </g>\r\n   <g id=\"patch_61\">\r\n    <path clip-path=\"url(#pfbeaa180d2)\" d=\"M 84.534375 357.241488 \r\nL 887.52108 357.241488 \r\nL 887.52108 361.853169 \r\nL 84.534375 361.853169 \r\nz\r\n\" style=\"fill:#4baba7;\"/>\r\n   </g>\r\n   <g id=\"patch_62\">\r\n    <path clip-path=\"url(#pfbeaa180d2)\" d=\"M 84.534375 363.00609 \r\nL 886.646832 363.00609 \r\nL 886.646832 367.617771 \r\nL 84.534375 367.617771 \r\nz\r\n\" style=\"fill:#4babaa;\"/>\r\n   </g>\r\n   <g id=\"patch_63\">\r\n    <path clip-path=\"url(#pfbeaa180d2)\" d=\"M 84.534375 368.770691 \r\nL 883.24038 368.770691 \r\nL 883.24038 373.382373 \r\nL 84.534375 373.382373 \r\nz\r\n\" style=\"fill:#4cabac;\"/>\r\n   </g>\r\n   <g id=\"patch_64\">\r\n    <path clip-path=\"url(#pfbeaa180d2)\" d=\"M 84.534375 374.535293 \r\nL 882.976527 374.535293 \r\nL 882.976527 379.146975 \r\nL 84.534375 379.146975 \r\nz\r\n\" style=\"fill:#4cabaf;\"/>\r\n   </g>\r\n   <g id=\"patch_65\">\r\n    <path clip-path=\"url(#pfbeaa180d2)\" d=\"M 84.534375 380.299895 \r\nL 882.652464 380.299895 \r\nL 882.652464 384.911576 \r\nL 84.534375 384.911576 \r\nz\r\n\" style=\"fill:#4dabb1;\"/>\r\n   </g>\r\n   <g id=\"patch_66\">\r\n    <path clip-path=\"url(#pfbeaa180d2)\" d=\"M 84.534375 386.064497 \r\nL 881.066706 386.064497 \r\nL 881.066706 390.676178 \r\nL 84.534375 390.676178 \r\nz\r\n\" style=\"fill:#4dabb4;\"/>\r\n   </g>\r\n   <g id=\"patch_67\">\r\n    <path clip-path=\"url(#pfbeaa180d2)\" d=\"M 84.534375 391.829098 \r\nL 875.3532 391.829098 \r\nL 875.3532 396.44078 \r\nL 84.534375 396.44078 \r\nz\r\n\" style=\"fill:#4eabb7;\"/>\r\n   </g>\r\n   <g id=\"patch_68\">\r\n    <path clip-path=\"url(#pfbeaa180d2)\" d=\"M 84.534375 397.5937 \r\nL 874.807159 397.5937 \r\nL 874.807159 402.205382 \r\nL 84.534375 402.205382 \r\nz\r\n\" style=\"fill:#4fabba;\"/>\r\n   </g>\r\n   <g id=\"patch_69\">\r\n    <path clip-path=\"url(#pfbeaa180d2)\" d=\"M 84.534375 403.358302 \r\nL 873.396656 403.358302 \r\nL 873.396656 407.969983 \r\nL 84.534375 407.969983 \r\nz\r\n\" style=\"fill:#4fabbd;\"/>\r\n   </g>\r\n   <g id=\"patch_70\">\r\n    <path clip-path=\"url(#pfbeaa180d2)\" d=\"M 84.534375 409.122904 \r\nL 871.945601 409.122904 \r\nL 871.945601 413.734585 \r\nL 84.534375 413.734585 \r\nz\r\n\" style=\"fill:#50acc0;\"/>\r\n   </g>\r\n   <g id=\"patch_71\">\r\n    <path clip-path=\"url(#pfbeaa180d2)\" d=\"M 84.534375 414.887506 \r\nL 865.480473 414.887506 \r\nL 865.480473 419.499187 \r\nL 84.534375 419.499187 \r\nz\r\n\" style=\"fill:#51acc3;\"/>\r\n   </g>\r\n   <g id=\"patch_72\">\r\n    <path clip-path=\"url(#pfbeaa180d2)\" d=\"M 84.534375 420.652107 \r\nL 864.487038 420.652107 \r\nL 864.487038 425.263789 \r\nL 84.534375 425.263789 \r\nz\r\n\" style=\"fill:#51acc7;\"/>\r\n   </g>\r\n   <g id=\"patch_73\">\r\n    <path clip-path=\"url(#pfbeaa180d2)\" d=\"M 84.534375 426.416709 \r\nL 864.029242 426.416709 \r\nL 864.029242 431.02839 \r\nL 84.534375 431.02839 \r\nz\r\n\" style=\"fill:#52accb;\"/>\r\n   </g>\r\n   <g id=\"patch_74\">\r\n    <path clip-path=\"url(#pfbeaa180d2)\" d=\"M 84.534375 432.181311 \r\nL 863.204891 432.181311 \r\nL 863.204891 436.792992 \r\nL 84.534375 436.792992 \r\nz\r\n\" style=\"fill:#53accf;\"/>\r\n   </g>\r\n   <g id=\"patch_75\">\r\n    <path clip-path=\"url(#pfbeaa180d2)\" d=\"M 84.534375 437.945913 \r\nL 862.595465 437.945913 \r\nL 862.595465 442.557594 \r\nL 84.534375 442.557594 \r\nz\r\n\" style=\"fill:#54acd3;\"/>\r\n   </g>\r\n   <g id=\"patch_76\">\r\n    <path clip-path=\"url(#pfbeaa180d2)\" d=\"M 84.534375 443.710514 \r\nL 862.306224 443.710514 \r\nL 862.306224 448.322196 \r\nL 84.534375 448.322196 \r\nz\r\n\" style=\"fill:#55acd9;\"/>\r\n   </g>\r\n   <g id=\"patch_77\">\r\n    <path clip-path=\"url(#pfbeaa180d2)\" d=\"M 84.534375 449.475116 \r\nL 862.002613 449.475116 \r\nL 862.002613 454.086798 \r\nL 84.534375 454.086798 \r\nz\r\n\" style=\"fill:#57addf;\"/>\r\n   </g>\r\n   <g id=\"patch_78\">\r\n    <path clip-path=\"url(#pfbeaa180d2)\" d=\"M 84.534375 455.239718 \r\nL 856.391986 455.239718 \r\nL 856.391986 459.851399 \r\nL 84.534375 459.851399 \r\nz\r\n\" style=\"fill:#68aee2;\"/>\r\n   </g>\r\n   <g id=\"patch_79\">\r\n    <path clip-path=\"url(#pfbeaa180d2)\" d=\"M 84.534375 461.00432 \r\nL 855.438397 461.00432 \r\nL 855.438397 465.616001 \r\nL 84.534375 465.616001 \r\nz\r\n\" style=\"fill:#76aee4;\"/>\r\n   </g>\r\n   <g id=\"patch_80\">\r\n    <path clip-path=\"url(#pfbeaa180d2)\" d=\"M 84.534375 466.768921 \r\nL 853.342478 466.768921 \r\nL 853.342478 471.380603 \r\nL 84.534375 471.380603 \r\nz\r\n\" style=\"fill:#81aee5;\"/>\r\n   </g>\r\n   <g id=\"patch_81\">\r\n    <path clip-path=\"url(#pfbeaa180d2)\" d=\"M 84.534375 472.533523 \r\nL 852.470876 472.533523 \r\nL 852.470876 477.145205 \r\nL 84.534375 477.145205 \r\nz\r\n\" style=\"fill:#8baee7;\"/>\r\n   </g>\r\n   <g id=\"patch_82\">\r\n    <path clip-path=\"url(#pfbeaa180d2)\" d=\"M 84.534375 478.298125 \r\nL 851.238008 478.298125 \r\nL 851.238008 482.909806 \r\nL 84.534375 482.909806 \r\nz\r\n\" style=\"fill:#93aee8;\"/>\r\n   </g>\r\n   <g id=\"patch_83\">\r\n    <path clip-path=\"url(#pfbeaa180d2)\" d=\"M 84.534375 484.062727 \r\nL 849.241176 484.062727 \r\nL 849.241176 488.674408 \r\nL 84.534375 488.674408 \r\nz\r\n\" style=\"fill:#9bade9;\"/>\r\n   </g>\r\n   <g id=\"patch_84\">\r\n    <path clip-path=\"url(#pfbeaa180d2)\" d=\"M 84.534375 489.827329 \r\nL 848.59975 489.827329 \r\nL 848.59975 494.43901 \r\nL 84.534375 494.43901 \r\nz\r\n\" style=\"fill:#a2adea;\"/>\r\n   </g>\r\n   <g id=\"patch_85\">\r\n    <path clip-path=\"url(#pfbeaa180d2)\" d=\"M 84.534375 495.59193 \r\nL 844.038096 495.59193 \r\nL 844.038096 500.203612 \r\nL 84.534375 500.203612 \r\nz\r\n\" style=\"fill:#a8aceb;\"/>\r\n   </g>\r\n   <g id=\"patch_86\">\r\n    <path clip-path=\"url(#pfbeaa180d2)\" d=\"M 84.534375 501.356532 \r\nL 840.803019 501.356532 \r\nL 840.803019 505.968213 \r\nL 84.534375 505.968213 \r\nz\r\n\" style=\"fill:#aeabeb;\"/>\r\n   </g>\r\n   <g id=\"patch_87\">\r\n    <path clip-path=\"url(#pfbeaa180d2)\" d=\"M 84.534375 507.121134 \r\nL 838.586149 507.121134 \r\nL 838.586149 511.732815 \r\nL 84.534375 511.732815 \r\nz\r\n\" style=\"fill:#b3a9eb;\"/>\r\n   </g>\r\n   <g id=\"patch_88\">\r\n    <path clip-path=\"url(#pfbeaa180d2)\" d=\"M 84.534375 512.885736 \r\nL 837.711549 512.885736 \r\nL 837.711549 517.497417 \r\nL 84.534375 517.497417 \r\nz\r\n\" style=\"fill:#b7a7eb;\"/>\r\n   </g>\r\n   <g id=\"patch_89\">\r\n    <path clip-path=\"url(#pfbeaa180d2)\" d=\"M 84.534375 518.650337 \r\nL 837.515049 518.650337 \r\nL 837.515049 523.262019 \r\nL 84.534375 523.262019 \r\nz\r\n\" style=\"fill:#bca5ea;\"/>\r\n   </g>\r\n   <g id=\"patch_90\">\r\n    <path clip-path=\"url(#pfbeaa180d2)\" d=\"M 84.534375 524.414939 \r\nL 836.113626 524.414939 \r\nL 836.113626 529.026621 \r\nL 84.534375 529.026621 \r\nz\r\n\" style=\"fill:#c0a3ea;\"/>\r\n   </g>\r\n   <g id=\"patch_91\">\r\n    <path clip-path=\"url(#pfbeaa180d2)\" d=\"M 84.534375 530.179541 \r\nL 834.261636 530.179541 \r\nL 834.261636 534.791222 \r\nL 84.534375 534.791222 \r\nz\r\n\" style=\"fill:#c4a1ea;\"/>\r\n   </g>\r\n   <g id=\"patch_92\">\r\n    <path clip-path=\"url(#pfbeaa180d2)\" d=\"M 84.534375 535.944143 \r\nL 834.100486 535.944143 \r\nL 834.100486 540.555824 \r\nL 84.534375 540.555824 \r\nz\r\n\" style=\"fill:#c89fe9;\"/>\r\n   </g>\r\n   <g id=\"patch_93\">\r\n    <path clip-path=\"url(#pfbeaa180d2)\" d=\"M 84.534375 541.708744 \r\nL 832.657982 541.708744 \r\nL 832.657982 546.320426 \r\nL 84.534375 546.320426 \r\nz\r\n\" style=\"fill:#cc9ce9;\"/>\r\n   </g>\r\n   <g id=\"patch_94\">\r\n    <path clip-path=\"url(#pfbeaa180d2)\" d=\"M 84.534375 547.473346 \r\nL 832.370856 547.473346 \r\nL 832.370856 552.085028 \r\nL 84.534375 552.085028 \r\nz\r\n\" style=\"fill:#d19ae9;\"/>\r\n   </g>\r\n   <g id=\"patch_95\">\r\n    <path clip-path=\"url(#pfbeaa180d2)\" d=\"M 84.534375 553.237948 \r\nL 831.507805 553.237948 \r\nL 831.507805 557.849629 \r\nL 84.534375 557.849629 \r\nz\r\n\" style=\"fill:#d597e8;\"/>\r\n   </g>\r\n   <g id=\"patch_96\">\r\n    <path clip-path=\"url(#pfbeaa180d2)\" d=\"M 84.534375 559.00255 \r\nL 830.531913 559.00255 \r\nL 830.531913 563.614231 \r\nL 84.534375 563.614231 \r\nz\r\n\" style=\"fill:#d993e8;\"/>\r\n   </g>\r\n   <g id=\"patch_97\">\r\n    <path clip-path=\"url(#pfbeaa180d2)\" d=\"M 84.534375 564.767152 \r\nL 828.571579 564.767152 \r\nL 828.571579 569.378833 \r\nL 84.534375 569.378833 \r\nz\r\n\" style=\"fill:#de90e7;\"/>\r\n   </g>\r\n   <g id=\"patch_98\">\r\n    <path clip-path=\"url(#pfbeaa180d2)\" d=\"M 84.534375 570.531753 \r\nL 825.576552 570.531753 \r\nL 825.576552 575.143435 \r\nL 84.534375 575.143435 \r\nz\r\n\" style=\"fill:#e38ce7;\"/>\r\n   </g>\r\n   <g id=\"patch_99\">\r\n    <path clip-path=\"url(#pfbeaa180d2)\" d=\"M 84.534375 576.296355 \r\nL 823.789048 576.296355 \r\nL 823.789048 580.908037 \r\nL 84.534375 580.908037 \r\nz\r\n\" style=\"fill:#e689e5;\"/>\r\n   </g>\r\n   <g id=\"patch_100\">\r\n    <path clip-path=\"url(#pfbeaa180d2)\" d=\"M 84.534375 582.060957 \r\nL 821.96108 582.060957 \r\nL 821.96108 586.672638 \r\nL 84.534375 586.672638 \r\nz\r\n\" style=\"fill:#e78ae0;\"/>\r\n   </g>\r\n   <g id=\"patch_101\">\r\n    <path clip-path=\"url(#pfbeaa180d2)\" d=\"M 84.534375 587.825559 \r\nL 821.121831 587.825559 \r\nL 821.121831 592.43724 \r\nL 84.534375 592.43724 \r\nz\r\n\" style=\"fill:#e78bdb;\"/>\r\n   </g>\r\n   <g id=\"patch_102\">\r\n    <path clip-path=\"url(#pfbeaa180d2)\" d=\"M 84.534375 593.59016 \r\nL 819.993605 593.59016 \r\nL 819.993605 598.201842 \r\nL 84.534375 598.201842 \r\nz\r\n\" style=\"fill:#e78cd7;\"/>\r\n   </g>\r\n   <g id=\"patch_103\">\r\n    <path clip-path=\"url(#pfbeaa180d2)\" d=\"M 84.534375 599.354762 \r\nL 819.976899 599.354762 \r\nL 819.976899 603.966444 \r\nL 84.534375 603.966444 \r\nz\r\n\" style=\"fill:#e78dd3;\"/>\r\n   </g>\r\n   <g id=\"patch_104\">\r\n    <path clip-path=\"url(#pfbeaa180d2)\" d=\"M 84.534375 605.119364 \r\nL 818.899584 605.119364 \r\nL 818.899584 609.731045 \r\nL 84.534375 609.731045 \r\nz\r\n\" style=\"fill:#e88ecf;\"/>\r\n   </g>\r\n   <g id=\"patch_105\">\r\n    <path clip-path=\"url(#pfbeaa180d2)\" d=\"M 84.534375 610.883966 \r\nL 813.275468 610.883966 \r\nL 813.275468 615.495647 \r\nL 84.534375 615.495647 \r\nz\r\n\" style=\"fill:#e88fcb;\"/>\r\n   </g>\r\n   <g id=\"patch_106\">\r\n    <path clip-path=\"url(#pfbeaa180d2)\" d=\"M 84.534375 616.648567 \r\nL 811.708487 616.648567 \r\nL 811.708487 621.260249 \r\nL 84.534375 621.260249 \r\nz\r\n\" style=\"fill:#e890c8;\"/>\r\n   </g>\r\n   <g id=\"patch_107\">\r\n    <path clip-path=\"url(#pfbeaa180d2)\" d=\"M 84.534375 622.413169 \r\nL 810.420257 622.413169 \r\nL 810.420257 627.024851 \r\nL 84.534375 627.024851 \r\nz\r\n\" style=\"fill:#e890c4;\"/>\r\n   </g>\r\n   <g id=\"patch_108\">\r\n    <path clip-path=\"url(#pfbeaa180d2)\" d=\"M 84.534375 628.177771 \r\nL 810.30367 628.177771 \r\nL 810.30367 632.789452 \r\nL 84.534375 632.789452 \r\nz\r\n\" style=\"fill:#e891c1;\"/>\r\n   </g>\r\n   <g id=\"patch_109\">\r\n    <path clip-path=\"url(#pfbeaa180d2)\" d=\"M 84.534375 633.942373 \r\nL 803.020891 633.942373 \r\nL 803.020891 638.554054 \r\nL 84.534375 638.554054 \r\nz\r\n\" style=\"fill:#e992bd;\"/>\r\n   </g>\r\n   <g id=\"patch_110\">\r\n    <path clip-path=\"url(#pfbeaa180d2)\" d=\"M 84.534375 639.706975 \r\nL 801.33058 639.706975 \r\nL 801.33058 644.318656 \r\nL 84.534375 644.318656 \r\nz\r\n\" style=\"fill:#e992ba;\"/>\r\n   </g>\r\n   <g id=\"patch_111\">\r\n    <path clip-path=\"url(#pfbeaa180d2)\" d=\"M 84.534375 645.471576 \r\nL 799.477708 645.471576 \r\nL 799.477708 650.083258 \r\nL 84.534375 650.083258 \r\nz\r\n\" style=\"fill:#e993b7;\"/>\r\n   </g>\r\n   <g id=\"patch_112\">\r\n    <path clip-path=\"url(#pfbeaa180d2)\" d=\"M 84.534375 651.236178 \r\nL 798.599802 651.236178 \r\nL 798.599802 655.84786 \r\nL 84.534375 655.84786 \r\nz\r\n\" style=\"fill:#e993b3;\"/>\r\n   </g>\r\n   <g id=\"patch_113\">\r\n    <path clip-path=\"url(#pfbeaa180d2)\" d=\"M 84.534375 657.00078 \r\nL 792.707294 657.00078 \r\nL 792.707294 661.612461 \r\nL 84.534375 661.612461 \r\nz\r\n\" style=\"fill:#e994b0;\"/>\r\n   </g>\r\n   <g id=\"patch_114\">\r\n    <path clip-path=\"url(#pfbeaa180d2)\" d=\"M 84.534375 662.765382 \r\nL 792.499641 662.765382 \r\nL 792.499641 667.377063 \r\nL 84.534375 667.377063 \r\nz\r\n\" style=\"fill:#e995ac;\"/>\r\n   </g>\r\n   <g id=\"patch_115\">\r\n    <path clip-path=\"url(#pfbeaa180d2)\" d=\"M 84.534375 668.529983 \r\nL 791.33245 668.529983 \r\nL 791.33245 673.141665 \r\nL 84.534375 673.141665 \r\nz\r\n\" style=\"fill:#e995a7;\"/>\r\n   </g>\r\n   <g id=\"matplotlib.axis_1\">\r\n    <g id=\"xtick_1\">\r\n     <g id=\"line2d_1\">\r\n      <defs>\r\n       <path d=\"M 0 0 \r\nL 0 3.5 \r\n\" id=\"m6a9d3bb7eb\" style=\"stroke:#000000;stroke-width:0.8;\"/>\r\n      </defs>\r\n      <g>\r\n       <use style=\"stroke:#000000;stroke-width:0.8;\" x=\"84.534375\" xlink:href=\"#m6a9d3bb7eb\" y=\"673.718125\"/>\r\n      </g>\r\n     </g>\r\n     <g id=\"text_1\">\r\n      <!-- 0.000 -->\r\n      <defs>\r\n       <path d=\"M 31.78125 66.40625 \r\nQ 24.171875 66.40625 20.328125 58.90625 \r\nQ 16.5 51.421875 16.5 36.375 \r\nQ 16.5 21.390625 20.328125 13.890625 \r\nQ 24.171875 6.390625 31.78125 6.390625 \r\nQ 39.453125 6.390625 43.28125 13.890625 \r\nQ 47.125 21.390625 47.125 36.375 \r\nQ 47.125 51.421875 43.28125 58.90625 \r\nQ 39.453125 66.40625 31.78125 66.40625 \r\nz\r\nM 31.78125 74.21875 \r\nQ 44.046875 74.21875 50.515625 64.515625 \r\nQ 56.984375 54.828125 56.984375 36.375 \r\nQ 56.984375 17.96875 50.515625 8.265625 \r\nQ 44.046875 -1.421875 31.78125 -1.421875 \r\nQ 19.53125 -1.421875 13.0625 8.265625 \r\nQ 6.59375 17.96875 6.59375 36.375 \r\nQ 6.59375 54.828125 13.0625 64.515625 \r\nQ 19.53125 74.21875 31.78125 74.21875 \r\nz\r\n\" id=\"DejaVuSans-48\"/>\r\n       <path d=\"M 10.6875 12.40625 \r\nL 21 12.40625 \r\nL 21 0 \r\nL 10.6875 0 \r\nz\r\n\" id=\"DejaVuSans-46\"/>\r\n      </defs>\r\n      <g transform=\"translate(70.220312 688.316562)scale(0.1 -0.1)\">\r\n       <use xlink:href=\"#DejaVuSans-48\"/>\r\n       <use x=\"63.623047\" xlink:href=\"#DejaVuSans-46\"/>\r\n       <use x=\"95.410156\" xlink:href=\"#DejaVuSans-48\"/>\r\n       <use x=\"159.033203\" xlink:href=\"#DejaVuSans-48\"/>\r\n       <use x=\"222.65625\" xlink:href=\"#DejaVuSans-48\"/>\r\n      </g>\r\n     </g>\r\n    </g>\r\n    <g id=\"xtick_2\">\r\n     <g id=\"line2d_2\">\r\n      <g>\r\n       <use style=\"stroke:#000000;stroke-width:0.8;\" x=\"273.848872\" xlink:href=\"#m6a9d3bb7eb\" y=\"673.718125\"/>\r\n      </g>\r\n     </g>\r\n     <g id=\"text_2\">\r\n      <!-- 0.002 -->\r\n      <defs>\r\n       <path d=\"M 19.1875 8.296875 \r\nL 53.609375 8.296875 \r\nL 53.609375 0 \r\nL 7.328125 0 \r\nL 7.328125 8.296875 \r\nQ 12.9375 14.109375 22.625 23.890625 \r\nQ 32.328125 33.6875 34.8125 36.53125 \r\nQ 39.546875 41.84375 41.421875 45.53125 \r\nQ 43.3125 49.21875 43.3125 52.78125 \r\nQ 43.3125 58.59375 39.234375 62.25 \r\nQ 35.15625 65.921875 28.609375 65.921875 \r\nQ 23.96875 65.921875 18.8125 64.3125 \r\nQ 13.671875 62.703125 7.8125 59.421875 \r\nL 7.8125 69.390625 \r\nQ 13.765625 71.78125 18.9375 73 \r\nQ 24.125 74.21875 28.421875 74.21875 \r\nQ 39.75 74.21875 46.484375 68.546875 \r\nQ 53.21875 62.890625 53.21875 53.421875 \r\nQ 53.21875 48.921875 51.53125 44.890625 \r\nQ 49.859375 40.875 45.40625 35.40625 \r\nQ 44.1875 33.984375 37.640625 27.21875 \r\nQ 31.109375 20.453125 19.1875 8.296875 \r\nz\r\n\" id=\"DejaVuSans-50\"/>\r\n      </defs>\r\n      <g transform=\"translate(259.534809 688.316562)scale(0.1 -0.1)\">\r\n       <use xlink:href=\"#DejaVuSans-48\"/>\r\n       <use x=\"63.623047\" xlink:href=\"#DejaVuSans-46\"/>\r\n       <use x=\"95.410156\" xlink:href=\"#DejaVuSans-48\"/>\r\n       <use x=\"159.033203\" xlink:href=\"#DejaVuSans-48\"/>\r\n       <use x=\"222.65625\" xlink:href=\"#DejaVuSans-50\"/>\r\n      </g>\r\n     </g>\r\n    </g>\r\n    <g id=\"xtick_3\">\r\n     <g id=\"line2d_3\">\r\n      <g>\r\n       <use style=\"stroke:#000000;stroke-width:0.8;\" x=\"463.163369\" xlink:href=\"#m6a9d3bb7eb\" y=\"673.718125\"/>\r\n      </g>\r\n     </g>\r\n     <g id=\"text_3\">\r\n      <!-- 0.004 -->\r\n      <defs>\r\n       <path d=\"M 37.796875 64.3125 \r\nL 12.890625 25.390625 \r\nL 37.796875 25.390625 \r\nz\r\nM 35.203125 72.90625 \r\nL 47.609375 72.90625 \r\nL 47.609375 25.390625 \r\nL 58.015625 25.390625 \r\nL 58.015625 17.1875 \r\nL 47.609375 17.1875 \r\nL 47.609375 0 \r\nL 37.796875 0 \r\nL 37.796875 17.1875 \r\nL 4.890625 17.1875 \r\nL 4.890625 26.703125 \r\nz\r\n\" id=\"DejaVuSans-52\"/>\r\n      </defs>\r\n      <g transform=\"translate(448.849306 688.316562)scale(0.1 -0.1)\">\r\n       <use xlink:href=\"#DejaVuSans-48\"/>\r\n       <use x=\"63.623047\" xlink:href=\"#DejaVuSans-46\"/>\r\n       <use x=\"95.410156\" xlink:href=\"#DejaVuSans-48\"/>\r\n       <use x=\"159.033203\" xlink:href=\"#DejaVuSans-48\"/>\r\n       <use x=\"222.65625\" xlink:href=\"#DejaVuSans-52\"/>\r\n      </g>\r\n     </g>\r\n    </g>\r\n    <g id=\"xtick_4\">\r\n     <g id=\"line2d_4\">\r\n      <g>\r\n       <use style=\"stroke:#000000;stroke-width:0.8;\" x=\"652.477866\" xlink:href=\"#m6a9d3bb7eb\" y=\"673.718125\"/>\r\n      </g>\r\n     </g>\r\n     <g id=\"text_4\">\r\n      <!-- 0.006 -->\r\n      <defs>\r\n       <path d=\"M 33.015625 40.375 \r\nQ 26.375 40.375 22.484375 35.828125 \r\nQ 18.609375 31.296875 18.609375 23.390625 \r\nQ 18.609375 15.53125 22.484375 10.953125 \r\nQ 26.375 6.390625 33.015625 6.390625 \r\nQ 39.65625 6.390625 43.53125 10.953125 \r\nQ 47.40625 15.53125 47.40625 23.390625 \r\nQ 47.40625 31.296875 43.53125 35.828125 \r\nQ 39.65625 40.375 33.015625 40.375 \r\nz\r\nM 52.59375 71.296875 \r\nL 52.59375 62.3125 \r\nQ 48.875 64.0625 45.09375 64.984375 \r\nQ 41.3125 65.921875 37.59375 65.921875 \r\nQ 27.828125 65.921875 22.671875 59.328125 \r\nQ 17.53125 52.734375 16.796875 39.40625 \r\nQ 19.671875 43.65625 24.015625 45.921875 \r\nQ 28.375 48.1875 33.59375 48.1875 \r\nQ 44.578125 48.1875 50.953125 41.515625 \r\nQ 57.328125 34.859375 57.328125 23.390625 \r\nQ 57.328125 12.15625 50.6875 5.359375 \r\nQ 44.046875 -1.421875 33.015625 -1.421875 \r\nQ 20.359375 -1.421875 13.671875 8.265625 \r\nQ 6.984375 17.96875 6.984375 36.375 \r\nQ 6.984375 53.65625 15.1875 63.9375 \r\nQ 23.390625 74.21875 37.203125 74.21875 \r\nQ 40.921875 74.21875 44.703125 73.484375 \r\nQ 48.484375 72.75 52.59375 71.296875 \r\nz\r\n\" id=\"DejaVuSans-54\"/>\r\n      </defs>\r\n      <g transform=\"translate(638.163803 688.316562)scale(0.1 -0.1)\">\r\n       <use xlink:href=\"#DejaVuSans-48\"/>\r\n       <use x=\"63.623047\" xlink:href=\"#DejaVuSans-46\"/>\r\n       <use x=\"95.410156\" xlink:href=\"#DejaVuSans-48\"/>\r\n       <use x=\"159.033203\" xlink:href=\"#DejaVuSans-48\"/>\r\n       <use x=\"222.65625\" xlink:href=\"#DejaVuSans-54\"/>\r\n      </g>\r\n     </g>\r\n    </g>\r\n    <g id=\"xtick_5\">\r\n     <g id=\"line2d_5\">\r\n      <g>\r\n       <use style=\"stroke:#000000;stroke-width:0.8;\" x=\"841.792363\" xlink:href=\"#m6a9d3bb7eb\" y=\"673.718125\"/>\r\n      </g>\r\n     </g>\r\n     <g id=\"text_5\">\r\n      <!-- 0.008 -->\r\n      <defs>\r\n       <path d=\"M 31.78125 34.625 \r\nQ 24.75 34.625 20.71875 30.859375 \r\nQ 16.703125 27.09375 16.703125 20.515625 \r\nQ 16.703125 13.921875 20.71875 10.15625 \r\nQ 24.75 6.390625 31.78125 6.390625 \r\nQ 38.8125 6.390625 42.859375 10.171875 \r\nQ 46.921875 13.96875 46.921875 20.515625 \r\nQ 46.921875 27.09375 42.890625 30.859375 \r\nQ 38.875 34.625 31.78125 34.625 \r\nz\r\nM 21.921875 38.8125 \r\nQ 15.578125 40.375 12.03125 44.71875 \r\nQ 8.5 49.078125 8.5 55.328125 \r\nQ 8.5 64.0625 14.71875 69.140625 \r\nQ 20.953125 74.21875 31.78125 74.21875 \r\nQ 42.671875 74.21875 48.875 69.140625 \r\nQ 55.078125 64.0625 55.078125 55.328125 \r\nQ 55.078125 49.078125 51.53125 44.71875 \r\nQ 48 40.375 41.703125 38.8125 \r\nQ 48.828125 37.15625 52.796875 32.3125 \r\nQ 56.78125 27.484375 56.78125 20.515625 \r\nQ 56.78125 9.90625 50.3125 4.234375 \r\nQ 43.84375 -1.421875 31.78125 -1.421875 \r\nQ 19.734375 -1.421875 13.25 4.234375 \r\nQ 6.78125 9.90625 6.78125 20.515625 \r\nQ 6.78125 27.484375 10.78125 32.3125 \r\nQ 14.796875 37.15625 21.921875 38.8125 \r\nz\r\nM 18.3125 54.390625 \r\nQ 18.3125 48.734375 21.84375 45.5625 \r\nQ 25.390625 42.390625 31.78125 42.390625 \r\nQ 38.140625 42.390625 41.71875 45.5625 \r\nQ 45.3125 48.734375 45.3125 54.390625 \r\nQ 45.3125 60.0625 41.71875 63.234375 \r\nQ 38.140625 66.40625 31.78125 66.40625 \r\nQ 25.390625 66.40625 21.84375 63.234375 \r\nQ 18.3125 60.0625 18.3125 54.390625 \r\nz\r\n\" id=\"DejaVuSans-56\"/>\r\n      </defs>\r\n      <g transform=\"translate(827.4783 688.316562)scale(0.1 -0.1)\">\r\n       <use xlink:href=\"#DejaVuSans-48\"/>\r\n       <use x=\"63.623047\" xlink:href=\"#DejaVuSans-46\"/>\r\n       <use x=\"95.410156\" xlink:href=\"#DejaVuSans-48\"/>\r\n       <use x=\"159.033203\" xlink:href=\"#DejaVuSans-48\"/>\r\n       <use x=\"222.65625\" xlink:href=\"#DejaVuSans-56\"/>\r\n      </g>\r\n     </g>\r\n    </g>\r\n    <g id=\"xtick_6\">\r\n     <g id=\"line2d_6\">\r\n      <g>\r\n       <use style=\"stroke:#000000;stroke-width:0.8;\" x=\"1031.10686\" xlink:href=\"#m6a9d3bb7eb\" y=\"673.718125\"/>\r\n      </g>\r\n     </g>\r\n     <g id=\"text_6\">\r\n      <!-- 0.010 -->\r\n      <defs>\r\n       <path d=\"M 12.40625 8.296875 \r\nL 28.515625 8.296875 \r\nL 28.515625 63.921875 \r\nL 10.984375 60.40625 \r\nL 10.984375 69.390625 \r\nL 28.421875 72.90625 \r\nL 38.28125 72.90625 \r\nL 38.28125 8.296875 \r\nL 54.390625 8.296875 \r\nL 54.390625 0 \r\nL 12.40625 0 \r\nz\r\n\" id=\"DejaVuSans-49\"/>\r\n      </defs>\r\n      <g transform=\"translate(1016.792797 688.316562)scale(0.1 -0.1)\">\r\n       <use xlink:href=\"#DejaVuSans-48\"/>\r\n       <use x=\"63.623047\" xlink:href=\"#DejaVuSans-46\"/>\r\n       <use x=\"95.410156\" xlink:href=\"#DejaVuSans-48\"/>\r\n       <use x=\"159.033203\" xlink:href=\"#DejaVuSans-49\"/>\r\n       <use x=\"222.65625\" xlink:href=\"#DejaVuSans-48\"/>\r\n      </g>\r\n     </g>\r\n    </g>\r\n    <g id=\"xtick_7\">\r\n     <g id=\"line2d_7\">\r\n      <g>\r\n       <use style=\"stroke:#000000;stroke-width:0.8;\" x=\"1220.421357\" xlink:href=\"#m6a9d3bb7eb\" y=\"673.718125\"/>\r\n      </g>\r\n     </g>\r\n     <g id=\"text_7\">\r\n      <!-- 0.012 -->\r\n      <g transform=\"translate(1206.107294 688.316562)scale(0.1 -0.1)\">\r\n       <use xlink:href=\"#DejaVuSans-48\"/>\r\n       <use x=\"63.623047\" xlink:href=\"#DejaVuSans-46\"/>\r\n       <use x=\"95.410156\" xlink:href=\"#DejaVuSans-48\"/>\r\n       <use x=\"159.033203\" xlink:href=\"#DejaVuSans-49\"/>\r\n       <use x=\"222.65625\" xlink:href=\"#DejaVuSans-50\"/>\r\n      </g>\r\n     </g>\r\n    </g>\r\n    <g id=\"xtick_8\">\r\n     <g id=\"line2d_8\">\r\n      <g>\r\n       <use style=\"stroke:#000000;stroke-width:0.8;\" x=\"1409.735854\" xlink:href=\"#m6a9d3bb7eb\" y=\"673.718125\"/>\r\n      </g>\r\n     </g>\r\n     <g id=\"text_8\">\r\n      <!-- 0.014 -->\r\n      <g transform=\"translate(1395.421791 688.316562)scale(0.1 -0.1)\">\r\n       <use xlink:href=\"#DejaVuSans-48\"/>\r\n       <use x=\"63.623047\" xlink:href=\"#DejaVuSans-46\"/>\r\n       <use x=\"95.410156\" xlink:href=\"#DejaVuSans-48\"/>\r\n       <use x=\"159.033203\" xlink:href=\"#DejaVuSans-49\"/>\r\n       <use x=\"222.65625\" xlink:href=\"#DejaVuSans-52\"/>\r\n      </g>\r\n     </g>\r\n    </g>\r\n    <g id=\"text_9\">\r\n     <!-- Value -->\r\n     <defs>\r\n      <path d=\"M 28.609375 0 \r\nL 0.78125 72.90625 \r\nL 11.078125 72.90625 \r\nL 34.1875 11.53125 \r\nL 57.328125 72.90625 \r\nL 67.578125 72.90625 \r\nL 39.796875 0 \r\nz\r\n\" id=\"DejaVuSans-86\"/>\r\n      <path d=\"M 34.28125 27.484375 \r\nQ 23.390625 27.484375 19.1875 25 \r\nQ 14.984375 22.515625 14.984375 16.5 \r\nQ 14.984375 11.71875 18.140625 8.90625 \r\nQ 21.296875 6.109375 26.703125 6.109375 \r\nQ 34.1875 6.109375 38.703125 11.40625 \r\nQ 43.21875 16.703125 43.21875 25.484375 \r\nL 43.21875 27.484375 \r\nz\r\nM 52.203125 31.203125 \r\nL 52.203125 0 \r\nL 43.21875 0 \r\nL 43.21875 8.296875 \r\nQ 40.140625 3.328125 35.546875 0.953125 \r\nQ 30.953125 -1.421875 24.3125 -1.421875 \r\nQ 15.921875 -1.421875 10.953125 3.296875 \r\nQ 6 8.015625 6 15.921875 \r\nQ 6 25.140625 12.171875 29.828125 \r\nQ 18.359375 34.515625 30.609375 34.515625 \r\nL 43.21875 34.515625 \r\nL 43.21875 35.40625 \r\nQ 43.21875 41.609375 39.140625 45 \r\nQ 35.0625 48.390625 27.6875 48.390625 \r\nQ 23 48.390625 18.546875 47.265625 \r\nQ 14.109375 46.140625 10.015625 43.890625 \r\nL 10.015625 52.203125 \r\nQ 14.9375 54.109375 19.578125 55.046875 \r\nQ 24.21875 56 28.609375 56 \r\nQ 40.484375 56 46.34375 49.84375 \r\nQ 52.203125 43.703125 52.203125 31.203125 \r\nz\r\n\" id=\"DejaVuSans-97\"/>\r\n      <path d=\"M 9.421875 75.984375 \r\nL 18.40625 75.984375 \r\nL 18.40625 0 \r\nL 9.421875 0 \r\nz\r\n\" id=\"DejaVuSans-108\"/>\r\n      <path d=\"M 8.5 21.578125 \r\nL 8.5 54.6875 \r\nL 17.484375 54.6875 \r\nL 17.484375 21.921875 \r\nQ 17.484375 14.15625 20.5 10.265625 \r\nQ 23.53125 6.390625 29.59375 6.390625 \r\nQ 36.859375 6.390625 41.078125 11.03125 \r\nQ 45.3125 15.671875 45.3125 23.6875 \r\nL 45.3125 54.6875 \r\nL 54.296875 54.6875 \r\nL 54.296875 0 \r\nL 45.3125 0 \r\nL 45.3125 8.40625 \r\nQ 42.046875 3.421875 37.71875 1 \r\nQ 33.40625 -1.421875 27.6875 -1.421875 \r\nQ 18.265625 -1.421875 13.375 4.4375 \r\nQ 8.5 10.296875 8.5 21.578125 \r\nz\r\nM 31.109375 56 \r\nz\r\n\" id=\"DejaVuSans-117\"/>\r\n      <path d=\"M 56.203125 29.59375 \r\nL 56.203125 25.203125 \r\nL 14.890625 25.203125 \r\nQ 15.484375 15.921875 20.484375 11.0625 \r\nQ 25.484375 6.203125 34.421875 6.203125 \r\nQ 39.59375 6.203125 44.453125 7.46875 \r\nQ 49.3125 8.734375 54.109375 11.28125 \r\nL 54.109375 2.78125 \r\nQ 49.265625 0.734375 44.1875 -0.34375 \r\nQ 39.109375 -1.421875 33.890625 -1.421875 \r\nQ 20.796875 -1.421875 13.15625 6.1875 \r\nQ 5.515625 13.8125 5.515625 26.8125 \r\nQ 5.515625 40.234375 12.765625 48.109375 \r\nQ 20.015625 56 32.328125 56 \r\nQ 43.359375 56 49.78125 48.890625 \r\nQ 56.203125 41.796875 56.203125 29.59375 \r\nz\r\nM 47.21875 32.234375 \r\nQ 47.125 39.59375 43.09375 43.984375 \r\nQ 39.0625 48.390625 32.421875 48.390625 \r\nQ 24.90625 48.390625 20.390625 44.140625 \r\nQ 15.875 39.890625 15.1875 32.171875 \r\nz\r\n\" id=\"DejaVuSans-101\"/>\r\n     </defs>\r\n     <g transform=\"translate(736.339047 701.994687)scale(0.1 -0.1)\">\r\n      <use xlink:href=\"#DejaVuSans-86\"/>\r\n      <use x=\"60.658203\" xlink:href=\"#DejaVuSans-97\"/>\r\n      <use x=\"121.9375\" xlink:href=\"#DejaVuSans-108\"/>\r\n      <use x=\"149.720703\" xlink:href=\"#DejaVuSans-117\"/>\r\n      <use x=\"213.099609\" xlink:href=\"#DejaVuSans-101\"/>\r\n     </g>\r\n    </g>\r\n   </g>\r\n   <g id=\"matplotlib.axis_2\">\r\n    <g id=\"ytick_1\">\r\n     <g id=\"line2d_9\">\r\n      <defs>\r\n       <path d=\"M 0 0 \r\nL -3.5 0 \r\n\" id=\"m6b7b6fdfbb\" style=\"stroke:#000000;stroke-width:0.8;\"/>\r\n      </defs>\r\n      <g>\r\n       <use style=\"stroke:#000000;stroke-width:0.8;\" x=\"84.534375\" xlink:href=\"#m6b7b6fdfbb\" y=\"25.200426\"/>\r\n      </g>\r\n     </g>\r\n     <g id=\"text_10\">\r\n      <!-- f77squared -->\r\n      <defs>\r\n       <path d=\"M 37.109375 75.984375 \r\nL 37.109375 68.5 \r\nL 28.515625 68.5 \r\nQ 23.6875 68.5 21.796875 66.546875 \r\nQ 19.921875 64.59375 19.921875 59.515625 \r\nL 19.921875 54.6875 \r\nL 34.71875 54.6875 \r\nL 34.71875 47.703125 \r\nL 19.921875 47.703125 \r\nL 19.921875 0 \r\nL 10.890625 0 \r\nL 10.890625 47.703125 \r\nL 2.296875 47.703125 \r\nL 2.296875 54.6875 \r\nL 10.890625 54.6875 \r\nL 10.890625 58.5 \r\nQ 10.890625 67.625 15.140625 71.796875 \r\nQ 19.390625 75.984375 28.609375 75.984375 \r\nz\r\n\" id=\"DejaVuSans-102\"/>\r\n       <path d=\"M 8.203125 72.90625 \r\nL 55.078125 72.90625 \r\nL 55.078125 68.703125 \r\nL 28.609375 0 \r\nL 18.3125 0 \r\nL 43.21875 64.59375 \r\nL 8.203125 64.59375 \r\nz\r\n\" id=\"DejaVuSans-55\"/>\r\n       <path d=\"M 44.28125 53.078125 \r\nL 44.28125 44.578125 \r\nQ 40.484375 46.53125 36.375 47.5 \r\nQ 32.28125 48.484375 27.875 48.484375 \r\nQ 21.1875 48.484375 17.84375 46.4375 \r\nQ 14.5 44.390625 14.5 40.28125 \r\nQ 14.5 37.15625 16.890625 35.375 \r\nQ 19.28125 33.59375 26.515625 31.984375 \r\nL 29.59375 31.296875 \r\nQ 39.15625 29.25 43.1875 25.515625 \r\nQ 47.21875 21.78125 47.21875 15.09375 \r\nQ 47.21875 7.46875 41.1875 3.015625 \r\nQ 35.15625 -1.421875 24.609375 -1.421875 \r\nQ 20.21875 -1.421875 15.453125 -0.5625 \r\nQ 10.6875 0.296875 5.421875 2 \r\nL 5.421875 11.28125 \r\nQ 10.40625 8.6875 15.234375 7.390625 \r\nQ 20.0625 6.109375 24.8125 6.109375 \r\nQ 31.15625 6.109375 34.5625 8.28125 \r\nQ 37.984375 10.453125 37.984375 14.40625 \r\nQ 37.984375 18.0625 35.515625 20.015625 \r\nQ 33.0625 21.96875 24.703125 23.78125 \r\nL 21.578125 24.515625 \r\nQ 13.234375 26.265625 9.515625 29.90625 \r\nQ 5.8125 33.546875 5.8125 39.890625 \r\nQ 5.8125 47.609375 11.28125 51.796875 \r\nQ 16.75 56 26.8125 56 \r\nQ 31.78125 56 36.171875 55.265625 \r\nQ 40.578125 54.546875 44.28125 53.078125 \r\nz\r\n\" id=\"DejaVuSans-115\"/>\r\n       <path d=\"M 14.796875 27.296875 \r\nQ 14.796875 17.390625 18.875 11.75 \r\nQ 22.953125 6.109375 30.078125 6.109375 \r\nQ 37.203125 6.109375 41.296875 11.75 \r\nQ 45.40625 17.390625 45.40625 27.296875 \r\nQ 45.40625 37.203125 41.296875 42.84375 \r\nQ 37.203125 48.484375 30.078125 48.484375 \r\nQ 22.953125 48.484375 18.875 42.84375 \r\nQ 14.796875 37.203125 14.796875 27.296875 \r\nz\r\nM 45.40625 8.203125 \r\nQ 42.578125 3.328125 38.25 0.953125 \r\nQ 33.9375 -1.421875 27.875 -1.421875 \r\nQ 17.96875 -1.421875 11.734375 6.484375 \r\nQ 5.515625 14.40625 5.515625 27.296875 \r\nQ 5.515625 40.1875 11.734375 48.09375 \r\nQ 17.96875 56 27.875 56 \r\nQ 33.9375 56 38.25 53.625 \r\nQ 42.578125 51.265625 45.40625 46.390625 \r\nL 45.40625 54.6875 \r\nL 54.390625 54.6875 \r\nL 54.390625 -20.796875 \r\nL 45.40625 -20.796875 \r\nz\r\n\" id=\"DejaVuSans-113\"/>\r\n       <path d=\"M 41.109375 46.296875 \r\nQ 39.59375 47.171875 37.8125 47.578125 \r\nQ 36.03125 48 33.890625 48 \r\nQ 26.265625 48 22.1875 43.046875 \r\nQ 18.109375 38.09375 18.109375 28.8125 \r\nL 18.109375 0 \r\nL 9.078125 0 \r\nL 9.078125 54.6875 \r\nL 18.109375 54.6875 \r\nL 18.109375 46.1875 \r\nQ 20.953125 51.171875 25.484375 53.578125 \r\nQ 30.03125 56 36.53125 56 \r\nQ 37.453125 56 38.578125 55.875 \r\nQ 39.703125 55.765625 41.0625 55.515625 \r\nz\r\n\" id=\"DejaVuSans-114\"/>\r\n       <path d=\"M 45.40625 46.390625 \r\nL 45.40625 75.984375 \r\nL 54.390625 75.984375 \r\nL 54.390625 0 \r\nL 45.40625 0 \r\nL 45.40625 8.203125 \r\nQ 42.578125 3.328125 38.25 0.953125 \r\nQ 33.9375 -1.421875 27.875 -1.421875 \r\nQ 17.96875 -1.421875 11.734375 6.484375 \r\nQ 5.515625 14.40625 5.515625 27.296875 \r\nQ 5.515625 40.1875 11.734375 48.09375 \r\nQ 17.96875 56 27.875 56 \r\nQ 33.9375 56 38.25 53.625 \r\nQ 42.578125 51.265625 45.40625 46.390625 \r\nz\r\nM 14.796875 27.296875 \r\nQ 14.796875 17.390625 18.875 11.75 \r\nQ 22.953125 6.109375 30.078125 6.109375 \r\nQ 37.203125 6.109375 41.296875 11.75 \r\nQ 45.40625 17.390625 45.40625 27.296875 \r\nQ 45.40625 37.203125 41.296875 42.84375 \r\nQ 37.203125 48.484375 30.078125 48.484375 \r\nQ 22.953125 48.484375 18.875 42.84375 \r\nQ 14.796875 37.203125 14.796875 27.296875 \r\nz\r\n\" id=\"DejaVuSans-100\"/>\r\n      </defs>\r\n      <g transform=\"translate(20.878125 28.999645)scale(0.1 -0.1)\">\r\n       <use xlink:href=\"#DejaVuSans-102\"/>\r\n       <use x=\"35.205078\" xlink:href=\"#DejaVuSans-55\"/>\r\n       <use x=\"98.828125\" xlink:href=\"#DejaVuSans-55\"/>\r\n       <use x=\"162.451172\" xlink:href=\"#DejaVuSans-115\"/>\r\n       <use x=\"214.550781\" xlink:href=\"#DejaVuSans-113\"/>\r\n       <use x=\"278.027344\" xlink:href=\"#DejaVuSans-117\"/>\r\n       <use x=\"341.40625\" xlink:href=\"#DejaVuSans-97\"/>\r\n       <use x=\"402.685547\" xlink:href=\"#DejaVuSans-114\"/>\r\n       <use x=\"441.548828\" xlink:href=\"#DejaVuSans-101\"/>\r\n       <use x=\"503.072266\" xlink:href=\"#DejaVuSans-100\"/>\r\n      </g>\r\n     </g>\r\n    </g>\r\n    <g id=\"ytick_2\">\r\n     <g id=\"line2d_10\">\r\n      <g>\r\n       <use style=\"stroke:#000000;stroke-width:0.8;\" x=\"84.534375\" xlink:href=\"#m6b7b6fdfbb\" y=\"30.965028\"/>\r\n      </g>\r\n     </g>\r\n     <g id=\"text_11\">\r\n      <!-- f12xf81 -->\r\n      <defs>\r\n       <path d=\"M 54.890625 54.6875 \r\nL 35.109375 28.078125 \r\nL 55.90625 0 \r\nL 45.3125 0 \r\nL 29.390625 21.484375 \r\nL 13.484375 0 \r\nL 2.875 0 \r\nL 24.125 28.609375 \r\nL 4.6875 54.6875 \r\nL 15.28125 54.6875 \r\nL 29.78125 35.203125 \r\nL 44.28125 54.6875 \r\nz\r\n\" id=\"DejaVuSans-120\"/>\r\n      </defs>\r\n      <g transform=\"translate(39.125 34.764246)scale(0.1 -0.1)\">\r\n       <use xlink:href=\"#DejaVuSans-102\"/>\r\n       <use x=\"35.205078\" xlink:href=\"#DejaVuSans-49\"/>\r\n       <use x=\"98.828125\" xlink:href=\"#DejaVuSans-50\"/>\r\n       <use x=\"162.451172\" xlink:href=\"#DejaVuSans-120\"/>\r\n       <use x=\"221.630859\" xlink:href=\"#DejaVuSans-102\"/>\r\n       <use x=\"256.835938\" xlink:href=\"#DejaVuSans-56\"/>\r\n       <use x=\"320.458984\" xlink:href=\"#DejaVuSans-49\"/>\r\n      </g>\r\n     </g>\r\n    </g>\r\n    <g id=\"ytick_3\">\r\n     <g id=\"line2d_11\">\r\n      <g>\r\n       <use style=\"stroke:#000000;stroke-width:0.8;\" x=\"84.534375\" xlink:href=\"#m6b7b6fdfbb\" y=\"36.729629\"/>\r\n      </g>\r\n     </g>\r\n     <g id=\"text_12\">\r\n      <!-- f25 -->\r\n      <defs>\r\n       <path d=\"M 10.796875 72.90625 \r\nL 49.515625 72.90625 \r\nL 49.515625 64.59375 \r\nL 19.828125 64.59375 \r\nL 19.828125 46.734375 \r\nQ 21.96875 47.46875 24.109375 47.828125 \r\nQ 26.265625 48.1875 28.421875 48.1875 \r\nQ 40.625 48.1875 47.75 41.5 \r\nQ 54.890625 34.8125 54.890625 23.390625 \r\nQ 54.890625 11.625 47.5625 5.09375 \r\nQ 40.234375 -1.421875 26.90625 -1.421875 \r\nQ 22.3125 -1.421875 17.546875 -0.640625 \r\nQ 12.796875 0.140625 7.71875 1.703125 \r\nL 7.71875 11.625 \r\nQ 12.109375 9.234375 16.796875 8.0625 \r\nQ 21.484375 6.890625 26.703125 6.890625 \r\nQ 35.15625 6.890625 40.078125 11.328125 \r\nQ 45.015625 15.765625 45.015625 23.390625 \r\nQ 45.015625 31 40.078125 35.4375 \r\nQ 35.15625 39.890625 26.703125 39.890625 \r\nQ 22.75 39.890625 18.8125 39.015625 \r\nQ 14.890625 38.140625 10.796875 36.28125 \r\nz\r\n\" id=\"DejaVuSans-53\"/>\r\n      </defs>\r\n      <g transform=\"translate(61.289062 40.528848)scale(0.1 -0.1)\">\r\n       <use xlink:href=\"#DejaVuSans-102\"/>\r\n       <use x=\"35.205078\" xlink:href=\"#DejaVuSans-50\"/>\r\n       <use x=\"98.828125\" xlink:href=\"#DejaVuSans-53\"/>\r\n      </g>\r\n     </g>\r\n    </g>\r\n    <g id=\"ytick_4\">\r\n     <g id=\"line2d_12\">\r\n      <g>\r\n       <use style=\"stroke:#000000;stroke-width:0.8;\" x=\"84.534375\" xlink:href=\"#m6b7b6fdfbb\" y=\"42.494231\"/>\r\n      </g>\r\n     </g>\r\n     <g id=\"text_13\">\r\n      <!-- f81 -->\r\n      <g transform=\"translate(61.289062 46.29345)scale(0.1 -0.1)\">\r\n       <use xlink:href=\"#DejaVuSans-102\"/>\r\n       <use x=\"35.205078\" xlink:href=\"#DejaVuSans-56\"/>\r\n       <use x=\"98.828125\" xlink:href=\"#DejaVuSans-49\"/>\r\n      </g>\r\n     </g>\r\n    </g>\r\n    <g id=\"ytick_5\">\r\n     <g id=\"line2d_13\">\r\n      <g>\r\n       <use style=\"stroke:#000000;stroke-width:0.8;\" x=\"84.534375\" xlink:href=\"#m6b7b6fdfbb\" y=\"48.258833\"/>\r\n      </g>\r\n     </g>\r\n     <g id=\"text_14\">\r\n      <!-- f13xf52 -->\r\n      <defs>\r\n       <path d=\"M 40.578125 39.3125 \r\nQ 47.65625 37.796875 51.625 33 \r\nQ 55.609375 28.21875 55.609375 21.1875 \r\nQ 55.609375 10.40625 48.1875 4.484375 \r\nQ 40.765625 -1.421875 27.09375 -1.421875 \r\nQ 22.515625 -1.421875 17.65625 -0.515625 \r\nQ 12.796875 0.390625 7.625 2.203125 \r\nL 7.625 11.71875 \r\nQ 11.71875 9.328125 16.59375 8.109375 \r\nQ 21.484375 6.890625 26.8125 6.890625 \r\nQ 36.078125 6.890625 40.9375 10.546875 \r\nQ 45.796875 14.203125 45.796875 21.1875 \r\nQ 45.796875 27.640625 41.28125 31.265625 \r\nQ 36.765625 34.90625 28.71875 34.90625 \r\nL 20.21875 34.90625 \r\nL 20.21875 43.015625 \r\nL 29.109375 43.015625 \r\nQ 36.375 43.015625 40.234375 45.921875 \r\nQ 44.09375 48.828125 44.09375 54.296875 \r\nQ 44.09375 59.90625 40.109375 62.90625 \r\nQ 36.140625 65.921875 28.71875 65.921875 \r\nQ 24.65625 65.921875 20.015625 65.03125 \r\nQ 15.375 64.15625 9.8125 62.3125 \r\nL 9.8125 71.09375 \r\nQ 15.4375 72.65625 20.34375 73.4375 \r\nQ 25.25 74.21875 29.59375 74.21875 \r\nQ 40.828125 74.21875 47.359375 69.109375 \r\nQ 53.90625 64.015625 53.90625 55.328125 \r\nQ 53.90625 49.265625 50.4375 45.09375 \r\nQ 46.96875 40.921875 40.578125 39.3125 \r\nz\r\n\" id=\"DejaVuSans-51\"/>\r\n      </defs>\r\n      <g transform=\"translate(39.125 52.058052)scale(0.1 -0.1)\">\r\n       <use xlink:href=\"#DejaVuSans-102\"/>\r\n       <use x=\"35.205078\" xlink:href=\"#DejaVuSans-49\"/>\r\n       <use x=\"98.828125\" xlink:href=\"#DejaVuSans-51\"/>\r\n       <use x=\"162.451172\" xlink:href=\"#DejaVuSans-120\"/>\r\n       <use x=\"221.630859\" xlink:href=\"#DejaVuSans-102\"/>\r\n       <use x=\"256.835938\" xlink:href=\"#DejaVuSans-53\"/>\r\n       <use x=\"320.458984\" xlink:href=\"#DejaVuSans-50\"/>\r\n      </g>\r\n     </g>\r\n    </g>\r\n    <g id=\"ytick_6\">\r\n     <g id=\"line2d_14\">\r\n      <g>\r\n       <use style=\"stroke:#000000;stroke-width:0.8;\" x=\"84.534375\" xlink:href=\"#m6b7b6fdfbb\" y=\"54.023435\"/>\r\n      </g>\r\n     </g>\r\n     <g id=\"text_15\">\r\n      <!-- f66xf96 -->\r\n      <defs>\r\n       <path d=\"M 10.984375 1.515625 \r\nL 10.984375 10.5 \r\nQ 14.703125 8.734375 18.5 7.8125 \r\nQ 22.3125 6.890625 25.984375 6.890625 \r\nQ 35.75 6.890625 40.890625 13.453125 \r\nQ 46.046875 20.015625 46.78125 33.40625 \r\nQ 43.953125 29.203125 39.59375 26.953125 \r\nQ 35.25 24.703125 29.984375 24.703125 \r\nQ 19.046875 24.703125 12.671875 31.3125 \r\nQ 6.296875 37.9375 6.296875 49.421875 \r\nQ 6.296875 60.640625 12.9375 67.421875 \r\nQ 19.578125 74.21875 30.609375 74.21875 \r\nQ 43.265625 74.21875 49.921875 64.515625 \r\nQ 56.59375 54.828125 56.59375 36.375 \r\nQ 56.59375 19.140625 48.40625 8.859375 \r\nQ 40.234375 -1.421875 26.421875 -1.421875 \r\nQ 22.703125 -1.421875 18.890625 -0.6875 \r\nQ 15.09375 0.046875 10.984375 1.515625 \r\nz\r\nM 30.609375 32.421875 \r\nQ 37.25 32.421875 41.125 36.953125 \r\nQ 45.015625 41.5 45.015625 49.421875 \r\nQ 45.015625 57.28125 41.125 61.84375 \r\nQ 37.25 66.40625 30.609375 66.40625 \r\nQ 23.96875 66.40625 20.09375 61.84375 \r\nQ 16.21875 57.28125 16.21875 49.421875 \r\nQ 16.21875 41.5 20.09375 36.953125 \r\nQ 23.96875 32.421875 30.609375 32.421875 \r\nz\r\n\" id=\"DejaVuSans-57\"/>\r\n      </defs>\r\n      <g transform=\"translate(39.125 57.822653)scale(0.1 -0.1)\">\r\n       <use xlink:href=\"#DejaVuSans-102\"/>\r\n       <use x=\"35.205078\" xlink:href=\"#DejaVuSans-54\"/>\r\n       <use x=\"98.828125\" xlink:href=\"#DejaVuSans-54\"/>\r\n       <use x=\"162.451172\" xlink:href=\"#DejaVuSans-120\"/>\r\n       <use x=\"221.630859\" xlink:href=\"#DejaVuSans-102\"/>\r\n       <use x=\"256.835938\" xlink:href=\"#DejaVuSans-57\"/>\r\n       <use x=\"320.458984\" xlink:href=\"#DejaVuSans-54\"/>\r\n      </g>\r\n     </g>\r\n    </g>\r\n    <g id=\"ytick_7\">\r\n     <g id=\"line2d_15\">\r\n      <g>\r\n       <use style=\"stroke:#000000;stroke-width:0.8;\" x=\"84.534375\" xlink:href=\"#m6b7b6fdfbb\" y=\"59.788037\"/>\r\n      </g>\r\n     </g>\r\n     <g id=\"text_16\">\r\n      <!-- f31xf74 -->\r\n      <g transform=\"translate(39.125 63.587255)scale(0.1 -0.1)\">\r\n       <use xlink:href=\"#DejaVuSans-102\"/>\r\n       <use x=\"35.205078\" xlink:href=\"#DejaVuSans-51\"/>\r\n       <use x=\"98.828125\" xlink:href=\"#DejaVuSans-49\"/>\r\n       <use x=\"162.451172\" xlink:href=\"#DejaVuSans-120\"/>\r\n       <use x=\"221.630859\" xlink:href=\"#DejaVuSans-102\"/>\r\n       <use x=\"256.835938\" xlink:href=\"#DejaVuSans-55\"/>\r\n       <use x=\"320.458984\" xlink:href=\"#DejaVuSans-52\"/>\r\n      </g>\r\n     </g>\r\n    </g>\r\n    <g id=\"ytick_8\">\r\n     <g id=\"line2d_16\">\r\n      <g>\r\n       <use style=\"stroke:#000000;stroke-width:0.8;\" x=\"84.534375\" xlink:href=\"#m6b7b6fdfbb\" y=\"65.552638\"/>\r\n      </g>\r\n     </g>\r\n     <g id=\"text_17\">\r\n      <!-- f69 -->\r\n      <g transform=\"translate(61.289062 69.351857)scale(0.1 -0.1)\">\r\n       <use xlink:href=\"#DejaVuSans-102\"/>\r\n       <use x=\"35.205078\" xlink:href=\"#DejaVuSans-54\"/>\r\n       <use x=\"98.828125\" xlink:href=\"#DejaVuSans-57\"/>\r\n      </g>\r\n     </g>\r\n    </g>\r\n    <g id=\"ytick_9\">\r\n     <g id=\"line2d_17\">\r\n      <g>\r\n       <use style=\"stroke:#000000;stroke-width:0.8;\" x=\"84.534375\" xlink:href=\"#m6b7b6fdfbb\" y=\"71.31724\"/>\r\n      </g>\r\n     </g>\r\n     <g id=\"text_18\">\r\n      <!-- f25xf52 -->\r\n      <g transform=\"translate(39.125 75.116459)scale(0.1 -0.1)\">\r\n       <use xlink:href=\"#DejaVuSans-102\"/>\r\n       <use x=\"35.205078\" xlink:href=\"#DejaVuSans-50\"/>\r\n       <use x=\"98.828125\" xlink:href=\"#DejaVuSans-53\"/>\r\n       <use x=\"162.451172\" xlink:href=\"#DejaVuSans-120\"/>\r\n       <use x=\"221.630859\" xlink:href=\"#DejaVuSans-102\"/>\r\n       <use x=\"256.835938\" xlink:href=\"#DejaVuSans-53\"/>\r\n       <use x=\"320.458984\" xlink:href=\"#DejaVuSans-50\"/>\r\n      </g>\r\n     </g>\r\n    </g>\r\n    <g id=\"ytick_10\">\r\n     <g id=\"line2d_18\">\r\n      <g>\r\n       <use style=\"stroke:#000000;stroke-width:0.8;\" x=\"84.534375\" xlink:href=\"#m6b7b6fdfbb\" y=\"77.081842\"/>\r\n      </g>\r\n     </g>\r\n     <g id=\"text_19\">\r\n      <!-- f50 -->\r\n      <g transform=\"translate(61.289062 80.881061)scale(0.1 -0.1)\">\r\n       <use xlink:href=\"#DejaVuSans-102\"/>\r\n       <use x=\"35.205078\" xlink:href=\"#DejaVuSans-53\"/>\r\n       <use x=\"98.828125\" xlink:href=\"#DejaVuSans-48\"/>\r\n      </g>\r\n     </g>\r\n    </g>\r\n    <g id=\"ytick_11\">\r\n     <g id=\"line2d_19\">\r\n      <g>\r\n       <use style=\"stroke:#000000;stroke-width:0.8;\" x=\"84.534375\" xlink:href=\"#m6b7b6fdfbb\" y=\"82.846444\"/>\r\n      </g>\r\n     </g>\r\n     <g id=\"text_20\">\r\n      <!-- f58xf81 -->\r\n      <g transform=\"translate(39.125 86.645662)scale(0.1 -0.1)\">\r\n       <use xlink:href=\"#DejaVuSans-102\"/>\r\n       <use x=\"35.205078\" xlink:href=\"#DejaVuSans-53\"/>\r\n       <use x=\"98.828125\" xlink:href=\"#DejaVuSans-56\"/>\r\n       <use x=\"162.451172\" xlink:href=\"#DejaVuSans-120\"/>\r\n       <use x=\"221.630859\" xlink:href=\"#DejaVuSans-102\"/>\r\n       <use x=\"256.835938\" xlink:href=\"#DejaVuSans-56\"/>\r\n       <use x=\"320.458984\" xlink:href=\"#DejaVuSans-49\"/>\r\n      </g>\r\n     </g>\r\n    </g>\r\n    <g id=\"ytick_12\">\r\n     <g id=\"line2d_20\">\r\n      <g>\r\n       <use style=\"stroke:#000000;stroke-width:0.8;\" x=\"84.534375\" xlink:href=\"#m6b7b6fdfbb\" y=\"88.611045\"/>\r\n      </g>\r\n     </g>\r\n     <g id=\"text_21\">\r\n      <!-- f28 -->\r\n      <g transform=\"translate(61.289062 92.410264)scale(0.1 -0.1)\">\r\n       <use xlink:href=\"#DejaVuSans-102\"/>\r\n       <use x=\"35.205078\" xlink:href=\"#DejaVuSans-50\"/>\r\n       <use x=\"98.828125\" xlink:href=\"#DejaVuSans-56\"/>\r\n      </g>\r\n     </g>\r\n    </g>\r\n    <g id=\"ytick_13\">\r\n     <g id=\"line2d_21\">\r\n      <g>\r\n       <use style=\"stroke:#000000;stroke-width:0.8;\" x=\"84.534375\" xlink:href=\"#m6b7b6fdfbb\" y=\"94.375647\"/>\r\n      </g>\r\n     </g>\r\n     <g id=\"text_22\">\r\n      <!-- f52 -->\r\n      <g transform=\"translate(61.289062 98.174866)scale(0.1 -0.1)\">\r\n       <use xlink:href=\"#DejaVuSans-102\"/>\r\n       <use x=\"35.205078\" xlink:href=\"#DejaVuSans-53\"/>\r\n       <use x=\"98.828125\" xlink:href=\"#DejaVuSans-50\"/>\r\n      </g>\r\n     </g>\r\n    </g>\r\n    <g id=\"ytick_14\">\r\n     <g id=\"line2d_22\">\r\n      <g>\r\n       <use style=\"stroke:#000000;stroke-width:0.8;\" x=\"84.534375\" xlink:href=\"#m6b7b6fdfbb\" y=\"100.140249\"/>\r\n      </g>\r\n     </g>\r\n     <g id=\"text_23\">\r\n      <!-- f93 -->\r\n      <g transform=\"translate(61.289062 103.939468)scale(0.1 -0.1)\">\r\n       <use xlink:href=\"#DejaVuSans-102\"/>\r\n       <use x=\"35.205078\" xlink:href=\"#DejaVuSans-57\"/>\r\n       <use x=\"98.828125\" xlink:href=\"#DejaVuSans-51\"/>\r\n      </g>\r\n     </g>\r\n    </g>\r\n    <g id=\"ytick_15\">\r\n     <g id=\"line2d_23\">\r\n      <g>\r\n       <use style=\"stroke:#000000;stroke-width:0.8;\" x=\"84.534375\" xlink:href=\"#m6b7b6fdfbb\" y=\"105.904851\"/>\r\n      </g>\r\n     </g>\r\n     <g id=\"text_24\">\r\n      <!-- f48 -->\r\n      <g transform=\"translate(61.289062 109.704069)scale(0.1 -0.1)\">\r\n       <use xlink:href=\"#DejaVuSans-102\"/>\r\n       <use x=\"35.205078\" xlink:href=\"#DejaVuSans-52\"/>\r\n       <use x=\"98.828125\" xlink:href=\"#DejaVuSans-56\"/>\r\n      </g>\r\n     </g>\r\n    </g>\r\n    <g id=\"ytick_16\">\r\n     <g id=\"line2d_24\">\r\n      <g>\r\n       <use style=\"stroke:#000000;stroke-width:0.8;\" x=\"84.534375\" xlink:href=\"#m6b7b6fdfbb\" y=\"111.669452\"/>\r\n      </g>\r\n     </g>\r\n     <g id=\"text_25\">\r\n      <!-- f64 -->\r\n      <g transform=\"translate(61.289062 115.468671)scale(0.1 -0.1)\">\r\n       <use xlink:href=\"#DejaVuSans-102\"/>\r\n       <use x=\"35.205078\" xlink:href=\"#DejaVuSans-54\"/>\r\n       <use x=\"98.828125\" xlink:href=\"#DejaVuSans-52\"/>\r\n      </g>\r\n     </g>\r\n    </g>\r\n    <g id=\"ytick_17\">\r\n     <g id=\"line2d_25\">\r\n      <g>\r\n       <use style=\"stroke:#000000;stroke-width:0.8;\" x=\"84.534375\" xlink:href=\"#m6b7b6fdfbb\" y=\"117.434054\"/>\r\n      </g>\r\n     </g>\r\n     <g id=\"text_26\">\r\n      <!-- f51 -->\r\n      <g transform=\"translate(61.289062 121.233273)scale(0.1 -0.1)\">\r\n       <use xlink:href=\"#DejaVuSans-102\"/>\r\n       <use x=\"35.205078\" xlink:href=\"#DejaVuSans-53\"/>\r\n       <use x=\"98.828125\" xlink:href=\"#DejaVuSans-49\"/>\r\n      </g>\r\n     </g>\r\n    </g>\r\n    <g id=\"ytick_18\">\r\n     <g id=\"line2d_26\">\r\n      <g>\r\n       <use style=\"stroke:#000000;stroke-width:0.8;\" x=\"84.534375\" xlink:href=\"#m6b7b6fdfbb\" y=\"123.198656\"/>\r\n      </g>\r\n     </g>\r\n     <g id=\"text_27\">\r\n      <!-- f80 -->\r\n      <g transform=\"translate(61.289062 126.997875)scale(0.1 -0.1)\">\r\n       <use xlink:href=\"#DejaVuSans-102\"/>\r\n       <use x=\"35.205078\" xlink:href=\"#DejaVuSans-56\"/>\r\n       <use x=\"98.828125\" xlink:href=\"#DejaVuSans-48\"/>\r\n      </g>\r\n     </g>\r\n    </g>\r\n    <g id=\"ytick_19\">\r\n     <g id=\"line2d_27\">\r\n      <g>\r\n       <use style=\"stroke:#000000;stroke-width:0.8;\" x=\"84.534375\" xlink:href=\"#m6b7b6fdfbb\" y=\"128.963258\"/>\r\n      </g>\r\n     </g>\r\n     <g id=\"text_28\">\r\n      <!-- f70 -->\r\n      <g transform=\"translate(61.289062 132.762476)scale(0.1 -0.1)\">\r\n       <use xlink:href=\"#DejaVuSans-102\"/>\r\n       <use x=\"35.205078\" xlink:href=\"#DejaVuSans-55\"/>\r\n       <use x=\"98.828125\" xlink:href=\"#DejaVuSans-48\"/>\r\n      </g>\r\n     </g>\r\n    </g>\r\n    <g id=\"ytick_20\">\r\n     <g id=\"line2d_28\">\r\n      <g>\r\n       <use style=\"stroke:#000000;stroke-width:0.8;\" x=\"84.534375\" xlink:href=\"#m6b7b6fdfbb\" y=\"134.72786\"/>\r\n      </g>\r\n     </g>\r\n     <g id=\"text_29\">\r\n      <!-- f3xf13 -->\r\n      <g transform=\"translate(45.4875 138.527078)scale(0.1 -0.1)\">\r\n       <use xlink:href=\"#DejaVuSans-102\"/>\r\n       <use x=\"35.205078\" xlink:href=\"#DejaVuSans-51\"/>\r\n       <use x=\"98.828125\" xlink:href=\"#DejaVuSans-120\"/>\r\n       <use x=\"158.007812\" xlink:href=\"#DejaVuSans-102\"/>\r\n       <use x=\"193.212891\" xlink:href=\"#DejaVuSans-49\"/>\r\n       <use x=\"256.835938\" xlink:href=\"#DejaVuSans-51\"/>\r\n      </g>\r\n     </g>\r\n    </g>\r\n    <g id=\"ytick_21\">\r\n     <g id=\"line2d_29\">\r\n      <g>\r\n       <use style=\"stroke:#000000;stroke-width:0.8;\" x=\"84.534375\" xlink:href=\"#m6b7b6fdfbb\" y=\"140.492461\"/>\r\n      </g>\r\n     </g>\r\n     <g id=\"text_30\">\r\n      <!-- f58 -->\r\n      <g transform=\"translate(61.289062 144.29168)scale(0.1 -0.1)\">\r\n       <use xlink:href=\"#DejaVuSans-102\"/>\r\n       <use x=\"35.205078\" xlink:href=\"#DejaVuSans-53\"/>\r\n       <use x=\"98.828125\" xlink:href=\"#DejaVuSans-56\"/>\r\n      </g>\r\n     </g>\r\n    </g>\r\n    <g id=\"ytick_22\">\r\n     <g id=\"line2d_30\">\r\n      <g>\r\n       <use style=\"stroke:#000000;stroke-width:0.8;\" x=\"84.534375\" xlink:href=\"#m6b7b6fdfbb\" y=\"146.257063\"/>\r\n      </g>\r\n     </g>\r\n     <g id=\"text_31\">\r\n      <!-- f13 -->\r\n      <g transform=\"translate(61.289062 150.056282)scale(0.1 -0.1)\">\r\n       <use xlink:href=\"#DejaVuSans-102\"/>\r\n       <use x=\"35.205078\" xlink:href=\"#DejaVuSans-49\"/>\r\n       <use x=\"98.828125\" xlink:href=\"#DejaVuSans-51\"/>\r\n      </g>\r\n     </g>\r\n    </g>\r\n    <g id=\"ytick_23\">\r\n     <g id=\"line2d_31\">\r\n      <g>\r\n       <use style=\"stroke:#000000;stroke-width:0.8;\" x=\"84.534375\" xlink:href=\"#m6b7b6fdfbb\" y=\"152.021665\"/>\r\n      </g>\r\n     </g>\r\n     <g id=\"text_32\">\r\n      <!-- f57 -->\r\n      <g transform=\"translate(61.289062 155.820884)scale(0.1 -0.1)\">\r\n       <use xlink:href=\"#DejaVuSans-102\"/>\r\n       <use x=\"35.205078\" xlink:href=\"#DejaVuSans-53\"/>\r\n       <use x=\"98.828125\" xlink:href=\"#DejaVuSans-55\"/>\r\n      </g>\r\n     </g>\r\n    </g>\r\n    <g id=\"ytick_24\">\r\n     <g id=\"line2d_32\">\r\n      <g>\r\n       <use style=\"stroke:#000000;stroke-width:0.8;\" x=\"84.534375\" xlink:href=\"#m6b7b6fdfbb\" y=\"157.786267\"/>\r\n      </g>\r\n     </g>\r\n     <g id=\"text_33\">\r\n      <!-- f84 -->\r\n      <g transform=\"translate(61.289062 161.585485)scale(0.1 -0.1)\">\r\n       <use xlink:href=\"#DejaVuSans-102\"/>\r\n       <use x=\"35.205078\" xlink:href=\"#DejaVuSans-56\"/>\r\n       <use x=\"98.828125\" xlink:href=\"#DejaVuSans-52\"/>\r\n      </g>\r\n     </g>\r\n    </g>\r\n    <g id=\"ytick_25\">\r\n     <g id=\"line2d_33\">\r\n      <g>\r\n       <use style=\"stroke:#000000;stroke-width:0.8;\" x=\"84.534375\" xlink:href=\"#m6b7b6fdfbb\" y=\"163.550868\"/>\r\n      </g>\r\n     </g>\r\n     <g id=\"text_34\">\r\n      <!-- f39 -->\r\n      <g transform=\"translate(61.289062 167.350087)scale(0.1 -0.1)\">\r\n       <use xlink:href=\"#DejaVuSans-102\"/>\r\n       <use x=\"35.205078\" xlink:href=\"#DejaVuSans-51\"/>\r\n       <use x=\"98.828125\" xlink:href=\"#DejaVuSans-57\"/>\r\n      </g>\r\n     </g>\r\n    </g>\r\n    <g id=\"ytick_26\">\r\n     <g id=\"line2d_34\">\r\n      <g>\r\n       <use style=\"stroke:#000000;stroke-width:0.8;\" x=\"84.534375\" xlink:href=\"#m6b7b6fdfbb\" y=\"169.31547\"/>\r\n      </g>\r\n     </g>\r\n     <g id=\"text_35\">\r\n      <!-- f53 -->\r\n      <g transform=\"translate(61.289062 173.114689)scale(0.1 -0.1)\">\r\n       <use xlink:href=\"#DejaVuSans-102\"/>\r\n       <use x=\"35.205078\" xlink:href=\"#DejaVuSans-53\"/>\r\n       <use x=\"98.828125\" xlink:href=\"#DejaVuSans-51\"/>\r\n      </g>\r\n     </g>\r\n    </g>\r\n    <g id=\"ytick_27\">\r\n     <g id=\"line2d_35\">\r\n      <g>\r\n       <use style=\"stroke:#000000;stroke-width:0.8;\" x=\"84.534375\" xlink:href=\"#m6b7b6fdfbb\" y=\"175.080072\"/>\r\n      </g>\r\n     </g>\r\n     <g id=\"text_36\">\r\n      <!-- f46 -->\r\n      <g transform=\"translate(61.289062 178.879291)scale(0.1 -0.1)\">\r\n       <use xlink:href=\"#DejaVuSans-102\"/>\r\n       <use x=\"35.205078\" xlink:href=\"#DejaVuSans-52\"/>\r\n       <use x=\"98.828125\" xlink:href=\"#DejaVuSans-54\"/>\r\n      </g>\r\n     </g>\r\n    </g>\r\n    <g id=\"ytick_28\">\r\n     <g id=\"line2d_36\">\r\n      <g>\r\n       <use style=\"stroke:#000000;stroke-width:0.8;\" x=\"84.534375\" xlink:href=\"#m6b7b6fdfbb\" y=\"180.844674\"/>\r\n      </g>\r\n     </g>\r\n     <g id=\"text_37\">\r\n      <!-- f2 -->\r\n      <g transform=\"translate(67.651562 184.643892)scale(0.1 -0.1)\">\r\n       <use xlink:href=\"#DejaVuSans-102\"/>\r\n       <use x=\"35.205078\" xlink:href=\"#DejaVuSans-50\"/>\r\n      </g>\r\n     </g>\r\n    </g>\r\n    <g id=\"ytick_29\">\r\n     <g id=\"line2d_37\">\r\n      <g>\r\n       <use style=\"stroke:#000000;stroke-width:0.8;\" x=\"84.534375\" xlink:href=\"#m6b7b6fdfbb\" y=\"186.609275\"/>\r\n      </g>\r\n     </g>\r\n     <g id=\"text_38\">\r\n      <!-- f3xf46 -->\r\n      <g transform=\"translate(45.4875 190.408494)scale(0.1 -0.1)\">\r\n       <use xlink:href=\"#DejaVuSans-102\"/>\r\n       <use x=\"35.205078\" xlink:href=\"#DejaVuSans-51\"/>\r\n       <use x=\"98.828125\" xlink:href=\"#DejaVuSans-120\"/>\r\n       <use x=\"158.007812\" xlink:href=\"#DejaVuSans-102\"/>\r\n       <use x=\"193.212891\" xlink:href=\"#DejaVuSans-52\"/>\r\n       <use x=\"256.835938\" xlink:href=\"#DejaVuSans-54\"/>\r\n      </g>\r\n     </g>\r\n    </g>\r\n    <g id=\"ytick_30\">\r\n     <g id=\"line2d_38\">\r\n      <g>\r\n       <use style=\"stroke:#000000;stroke-width:0.8;\" x=\"84.534375\" xlink:href=\"#m6b7b6fdfbb\" y=\"192.373877\"/>\r\n      </g>\r\n     </g>\r\n     <g id=\"text_39\">\r\n      <!-- ff1xf58 -->\r\n      <g transform=\"translate(41.967187 196.173096)scale(0.1 -0.1)\">\r\n       <use xlink:href=\"#DejaVuSans-102\"/>\r\n       <use x=\"35.205078\" xlink:href=\"#DejaVuSans-102\"/>\r\n       <use x=\"70.410156\" xlink:href=\"#DejaVuSans-49\"/>\r\n       <use x=\"134.033203\" xlink:href=\"#DejaVuSans-120\"/>\r\n       <use x=\"193.212891\" xlink:href=\"#DejaVuSans-102\"/>\r\n       <use x=\"228.417969\" xlink:href=\"#DejaVuSans-53\"/>\r\n       <use x=\"292.041016\" xlink:href=\"#DejaVuSans-56\"/>\r\n      </g>\r\n     </g>\r\n    </g>\r\n    <g id=\"ytick_31\">\r\n     <g id=\"line2d_39\">\r\n      <g>\r\n       <use style=\"stroke:#000000;stroke-width:0.8;\" x=\"84.534375\" xlink:href=\"#m6b7b6fdfbb\" y=\"198.138479\"/>\r\n      </g>\r\n     </g>\r\n     <g id=\"text_40\">\r\n      <!-- f65 -->\r\n      <g transform=\"translate(61.289062 201.937698)scale(0.1 -0.1)\">\r\n       <use xlink:href=\"#DejaVuSans-102\"/>\r\n       <use x=\"35.205078\" xlink:href=\"#DejaVuSans-54\"/>\r\n       <use x=\"98.828125\" xlink:href=\"#DejaVuSans-53\"/>\r\n      </g>\r\n     </g>\r\n    </g>\r\n    <g id=\"ytick_32\">\r\n     <g id=\"line2d_40\">\r\n      <g>\r\n       <use style=\"stroke:#000000;stroke-width:0.8;\" x=\"84.534375\" xlink:href=\"#m6b7b6fdfbb\" y=\"203.903081\"/>\r\n      </g>\r\n     </g>\r\n     <g id=\"text_41\">\r\n      <!-- f3 -->\r\n      <g transform=\"translate(67.651562 207.7023)scale(0.1 -0.1)\">\r\n       <use xlink:href=\"#DejaVuSans-102\"/>\r\n       <use x=\"35.205078\" xlink:href=\"#DejaVuSans-51\"/>\r\n      </g>\r\n     </g>\r\n    </g>\r\n    <g id=\"ytick_33\">\r\n     <g id=\"line2d_41\">\r\n      <g>\r\n       <use style=\"stroke:#000000;stroke-width:0.8;\" x=\"84.534375\" xlink:href=\"#m6b7b6fdfbb\" y=\"209.667683\"/>\r\n      </g>\r\n     </g>\r\n     <g id=\"text_42\">\r\n      <!-- f96 -->\r\n      <g transform=\"translate(61.289062 213.466901)scale(0.1 -0.1)\">\r\n       <use xlink:href=\"#DejaVuSans-102\"/>\r\n       <use x=\"35.205078\" xlink:href=\"#DejaVuSans-57\"/>\r\n       <use x=\"98.828125\" xlink:href=\"#DejaVuSans-54\"/>\r\n      </g>\r\n     </g>\r\n    </g>\r\n    <g id=\"ytick_34\">\r\n     <g id=\"line2d_42\">\r\n      <g>\r\n       <use style=\"stroke:#000000;stroke-width:0.8;\" x=\"84.534375\" xlink:href=\"#m6b7b6fdfbb\" y=\"215.432284\"/>\r\n      </g>\r\n     </g>\r\n     <g id=\"text_43\">\r\n      <!-- f31xf81 -->\r\n      <g transform=\"translate(39.125 219.231503)scale(0.1 -0.1)\">\r\n       <use xlink:href=\"#DejaVuSans-102\"/>\r\n       <use x=\"35.205078\" xlink:href=\"#DejaVuSans-51\"/>\r\n       <use x=\"98.828125\" xlink:href=\"#DejaVuSans-49\"/>\r\n       <use x=\"162.451172\" xlink:href=\"#DejaVuSans-120\"/>\r\n       <use x=\"221.630859\" xlink:href=\"#DejaVuSans-102\"/>\r\n       <use x=\"256.835938\" xlink:href=\"#DejaVuSans-56\"/>\r\n       <use x=\"320.458984\" xlink:href=\"#DejaVuSans-49\"/>\r\n      </g>\r\n     </g>\r\n    </g>\r\n    <g id=\"ytick_35\">\r\n     <g id=\"line2d_43\">\r\n      <g>\r\n       <use style=\"stroke:#000000;stroke-width:0.8;\" x=\"84.534375\" xlink:href=\"#m6b7b6fdfbb\" y=\"221.196886\"/>\r\n      </g>\r\n     </g>\r\n     <g id=\"text_44\">\r\n      <!-- f43 -->\r\n      <g transform=\"translate(61.289062 224.996105)scale(0.1 -0.1)\">\r\n       <use xlink:href=\"#DejaVuSans-102\"/>\r\n       <use x=\"35.205078\" xlink:href=\"#DejaVuSans-52\"/>\r\n       <use x=\"98.828125\" xlink:href=\"#DejaVuSans-51\"/>\r\n      </g>\r\n     </g>\r\n    </g>\r\n    <g id=\"ytick_36\">\r\n     <g id=\"line2d_44\">\r\n      <g>\r\n       <use style=\"stroke:#000000;stroke-width:0.8;\" x=\"84.534375\" xlink:href=\"#m6b7b6fdfbb\" y=\"226.961488\"/>\r\n      </g>\r\n     </g>\r\n     <g id=\"text_45\">\r\n      <!-- f41squared -->\r\n      <g transform=\"translate(20.878125 230.760707)scale(0.1 -0.1)\">\r\n       <use xlink:href=\"#DejaVuSans-102\"/>\r\n       <use x=\"35.205078\" xlink:href=\"#DejaVuSans-52\"/>\r\n       <use x=\"98.828125\" xlink:href=\"#DejaVuSans-49\"/>\r\n       <use x=\"162.451172\" xlink:href=\"#DejaVuSans-115\"/>\r\n       <use x=\"214.550781\" xlink:href=\"#DejaVuSans-113\"/>\r\n       <use x=\"278.027344\" xlink:href=\"#DejaVuSans-117\"/>\r\n       <use x=\"341.40625\" xlink:href=\"#DejaVuSans-97\"/>\r\n       <use x=\"402.685547\" xlink:href=\"#DejaVuSans-114\"/>\r\n       <use x=\"441.548828\" xlink:href=\"#DejaVuSans-101\"/>\r\n       <use x=\"503.072266\" xlink:href=\"#DejaVuSans-100\"/>\r\n      </g>\r\n     </g>\r\n    </g>\r\n    <g id=\"ytick_37\">\r\n     <g id=\"line2d_45\">\r\n      <g>\r\n       <use style=\"stroke:#000000;stroke-width:0.8;\" x=\"84.534375\" xlink:href=\"#m6b7b6fdfbb\" y=\"232.72609\"/>\r\n      </g>\r\n     </g>\r\n     <g id=\"text_46\">\r\n      <!-- f7 -->\r\n      <g transform=\"translate(67.651562 236.525308)scale(0.1 -0.1)\">\r\n       <use xlink:href=\"#DejaVuSans-102\"/>\r\n       <use x=\"35.205078\" xlink:href=\"#DejaVuSans-55\"/>\r\n      </g>\r\n     </g>\r\n    </g>\r\n    <g id=\"ytick_38\">\r\n     <g id=\"line2d_46\">\r\n      <g>\r\n       <use style=\"stroke:#000000;stroke-width:0.8;\" x=\"84.534375\" xlink:href=\"#m6b7b6fdfbb\" y=\"238.490691\"/>\r\n      </g>\r\n     </g>\r\n     <g id=\"text_47\">\r\n      <!-- f85 -->\r\n      <g transform=\"translate(61.289062 242.28991)scale(0.1 -0.1)\">\r\n       <use xlink:href=\"#DejaVuSans-102\"/>\r\n       <use x=\"35.205078\" xlink:href=\"#DejaVuSans-56\"/>\r\n       <use x=\"98.828125\" xlink:href=\"#DejaVuSans-53\"/>\r\n      </g>\r\n     </g>\r\n    </g>\r\n    <g id=\"ytick_39\">\r\n     <g id=\"line2d_47\">\r\n      <g>\r\n       <use style=\"stroke:#000000;stroke-width:0.8;\" x=\"84.534375\" xlink:href=\"#m6b7b6fdfbb\" y=\"244.255293\"/>\r\n      </g>\r\n     </g>\r\n     <g id=\"text_48\">\r\n      <!-- f59 -->\r\n      <g transform=\"translate(61.289062 248.054512)scale(0.1 -0.1)\">\r\n       <use xlink:href=\"#DejaVuSans-102\"/>\r\n       <use x=\"35.205078\" xlink:href=\"#DejaVuSans-53\"/>\r\n       <use x=\"98.828125\" xlink:href=\"#DejaVuSans-57\"/>\r\n      </g>\r\n     </g>\r\n    </g>\r\n    <g id=\"ytick_40\">\r\n     <g id=\"line2d_48\">\r\n      <g>\r\n       <use style=\"stroke:#000000;stroke-width:0.8;\" x=\"84.534375\" xlink:href=\"#m6b7b6fdfbb\" y=\"250.019895\"/>\r\n      </g>\r\n     </g>\r\n     <g id=\"text_49\">\r\n      <!-- f1 -->\r\n      <g transform=\"translate(67.651562 253.819114)scale(0.1 -0.1)\">\r\n       <use xlink:href=\"#DejaVuSans-102\"/>\r\n       <use x=\"35.205078\" xlink:href=\"#DejaVuSans-49\"/>\r\n      </g>\r\n     </g>\r\n    </g>\r\n    <g id=\"ytick_41\">\r\n     <g id=\"line2d_49\">\r\n      <g>\r\n       <use style=\"stroke:#000000;stroke-width:0.8;\" x=\"84.534375\" xlink:href=\"#m6b7b6fdfbb\" y=\"255.784497\"/>\r\n      </g>\r\n     </g>\r\n     <g id=\"text_50\">\r\n      <!-- f89 -->\r\n      <g transform=\"translate(61.289062 259.583715)scale(0.1 -0.1)\">\r\n       <use xlink:href=\"#DejaVuSans-102\"/>\r\n       <use x=\"35.205078\" xlink:href=\"#DejaVuSans-56\"/>\r\n       <use x=\"98.828125\" xlink:href=\"#DejaVuSans-57\"/>\r\n      </g>\r\n     </g>\r\n    </g>\r\n    <g id=\"ytick_42\">\r\n     <g id=\"line2d_50\">\r\n      <g>\r\n       <use style=\"stroke:#000000;stroke-width:0.8;\" x=\"84.534375\" xlink:href=\"#m6b7b6fdfbb\" y=\"261.549098\"/>\r\n      </g>\r\n     </g>\r\n     <g id=\"text_51\">\r\n      <!-- f66 -->\r\n      <g transform=\"translate(61.289062 265.348317)scale(0.1 -0.1)\">\r\n       <use xlink:href=\"#DejaVuSans-102\"/>\r\n       <use x=\"35.205078\" xlink:href=\"#DejaVuSans-54\"/>\r\n       <use x=\"98.828125\" xlink:href=\"#DejaVuSans-54\"/>\r\n      </g>\r\n     </g>\r\n    </g>\r\n    <g id=\"ytick_43\">\r\n     <g id=\"line2d_51\">\r\n      <g>\r\n       <use style=\"stroke:#000000;stroke-width:0.8;\" x=\"84.534375\" xlink:href=\"#m6b7b6fdfbb\" y=\"267.3137\"/>\r\n      </g>\r\n     </g>\r\n     <g id=\"text_52\">\r\n      <!-- f78 -->\r\n      <g transform=\"translate(61.289062 271.112919)scale(0.1 -0.1)\">\r\n       <use xlink:href=\"#DejaVuSans-102\"/>\r\n       <use x=\"35.205078\" xlink:href=\"#DejaVuSans-55\"/>\r\n       <use x=\"98.828125\" xlink:href=\"#DejaVuSans-56\"/>\r\n      </g>\r\n     </g>\r\n    </g>\r\n    <g id=\"ytick_44\">\r\n     <g id=\"line2d_52\">\r\n      <g>\r\n       <use style=\"stroke:#000000;stroke-width:0.8;\" x=\"84.534375\" xlink:href=\"#m6b7b6fdfbb\" y=\"273.078302\"/>\r\n      </g>\r\n     </g>\r\n     <g id=\"text_53\">\r\n      <!-- f21 -->\r\n      <g transform=\"translate(61.289062 276.877521)scale(0.1 -0.1)\">\r\n       <use xlink:href=\"#DejaVuSans-102\"/>\r\n       <use x=\"35.205078\" xlink:href=\"#DejaVuSans-50\"/>\r\n       <use x=\"98.828125\" xlink:href=\"#DejaVuSans-49\"/>\r\n      </g>\r\n     </g>\r\n    </g>\r\n    <g id=\"ytick_45\">\r\n     <g id=\"line2d_53\">\r\n      <g>\r\n       <use style=\"stroke:#000000;stroke-width:0.8;\" x=\"84.534375\" xlink:href=\"#m6b7b6fdfbb\" y=\"278.842904\"/>\r\n      </g>\r\n     </g>\r\n     <g id=\"text_54\">\r\n      <!-- f73 -->\r\n      <g transform=\"translate(61.289062 282.642123)scale(0.1 -0.1)\">\r\n       <use xlink:href=\"#DejaVuSans-102\"/>\r\n       <use x=\"35.205078\" xlink:href=\"#DejaVuSans-55\"/>\r\n       <use x=\"98.828125\" xlink:href=\"#DejaVuSans-51\"/>\r\n      </g>\r\n     </g>\r\n    </g>\r\n    <g id=\"ytick_46\">\r\n     <g id=\"line2d_54\">\r\n      <g>\r\n       <use style=\"stroke:#000000;stroke-width:0.8;\" x=\"84.534375\" xlink:href=\"#m6b7b6fdfbb\" y=\"284.607506\"/>\r\n      </g>\r\n     </g>\r\n     <g id=\"text_55\">\r\n      <!-- f12 -->\r\n      <g transform=\"translate(61.289062 288.406724)scale(0.1 -0.1)\">\r\n       <use xlink:href=\"#DejaVuSans-102\"/>\r\n       <use x=\"35.205078\" xlink:href=\"#DejaVuSans-49\"/>\r\n       <use x=\"98.828125\" xlink:href=\"#DejaVuSans-50\"/>\r\n      </g>\r\n     </g>\r\n    </g>\r\n    <g id=\"ytick_47\">\r\n     <g id=\"line2d_55\">\r\n      <g>\r\n       <use style=\"stroke:#000000;stroke-width:0.8;\" x=\"84.534375\" xlink:href=\"#m6b7b6fdfbb\" y=\"290.372107\"/>\r\n      </g>\r\n     </g>\r\n     <g id=\"text_56\">\r\n      <!-- f76 -->\r\n      <g transform=\"translate(61.289062 294.171326)scale(0.1 -0.1)\">\r\n       <use xlink:href=\"#DejaVuSans-102\"/>\r\n       <use x=\"35.205078\" xlink:href=\"#DejaVuSans-55\"/>\r\n       <use x=\"98.828125\" xlink:href=\"#DejaVuSans-54\"/>\r\n      </g>\r\n     </g>\r\n    </g>\r\n    <g id=\"ytick_48\">\r\n     <g id=\"line2d_56\">\r\n      <g>\r\n       <use style=\"stroke:#000000;stroke-width:0.8;\" x=\"84.534375\" xlink:href=\"#m6b7b6fdfbb\" y=\"296.136709\"/>\r\n      </g>\r\n     </g>\r\n     <g id=\"text_57\">\r\n      <!-- f94 -->\r\n      <g transform=\"translate(61.289062 299.935928)scale(0.1 -0.1)\">\r\n       <use xlink:href=\"#DejaVuSans-102\"/>\r\n       <use x=\"35.205078\" xlink:href=\"#DejaVuSans-57\"/>\r\n       <use x=\"98.828125\" xlink:href=\"#DejaVuSans-52\"/>\r\n      </g>\r\n     </g>\r\n    </g>\r\n    <g id=\"ytick_49\">\r\n     <g id=\"line2d_57\">\r\n      <g>\r\n       <use style=\"stroke:#000000;stroke-width:0.8;\" x=\"84.534375\" xlink:href=\"#m6b7b6fdfbb\" y=\"301.901311\"/>\r\n      </g>\r\n     </g>\r\n     <g id=\"text_58\">\r\n      <!-- f47 -->\r\n      <g transform=\"translate(61.289062 305.70053)scale(0.1 -0.1)\">\r\n       <use xlink:href=\"#DejaVuSans-102\"/>\r\n       <use x=\"35.205078\" xlink:href=\"#DejaVuSans-52\"/>\r\n       <use x=\"98.828125\" xlink:href=\"#DejaVuSans-55\"/>\r\n      </g>\r\n     </g>\r\n    </g>\r\n    <g id=\"ytick_50\">\r\n     <g id=\"line2d_58\">\r\n      <g>\r\n       <use style=\"stroke:#000000;stroke-width:0.8;\" x=\"84.534375\" xlink:href=\"#m6b7b6fdfbb\" y=\"307.665913\"/>\r\n      </g>\r\n     </g>\r\n     <g id=\"text_59\">\r\n      <!-- f74 -->\r\n      <g transform=\"translate(61.289062 311.465131)scale(0.1 -0.1)\">\r\n       <use xlink:href=\"#DejaVuSans-102\"/>\r\n       <use x=\"35.205078\" xlink:href=\"#DejaVuSans-55\"/>\r\n       <use x=\"98.828125\" xlink:href=\"#DejaVuSans-52\"/>\r\n      </g>\r\n     </g>\r\n    </g>\r\n    <g id=\"ytick_51\">\r\n     <g id=\"line2d_59\">\r\n      <g>\r\n       <use style=\"stroke:#000000;stroke-width:0.8;\" x=\"84.534375\" xlink:href=\"#m6b7b6fdfbb\" y=\"313.430514\"/>\r\n      </g>\r\n     </g>\r\n     <g id=\"text_60\">\r\n      <!-- f63 -->\r\n      <g transform=\"translate(61.289062 317.229733)scale(0.1 -0.1)\">\r\n       <use xlink:href=\"#DejaVuSans-102\"/>\r\n       <use x=\"35.205078\" xlink:href=\"#DejaVuSans-54\"/>\r\n       <use x=\"98.828125\" xlink:href=\"#DejaVuSans-51\"/>\r\n      </g>\r\n     </g>\r\n    </g>\r\n    <g id=\"ytick_52\">\r\n     <g id=\"line2d_60\">\r\n      <g>\r\n       <use style=\"stroke:#000000;stroke-width:0.8;\" x=\"84.534375\" xlink:href=\"#m6b7b6fdfbb\" y=\"319.195116\"/>\r\n      </g>\r\n     </g>\r\n     <g id=\"text_61\">\r\n      <!-- f22 -->\r\n      <g transform=\"translate(61.289062 322.994335)scale(0.1 -0.1)\">\r\n       <use xlink:href=\"#DejaVuSans-102\"/>\r\n       <use x=\"35.205078\" xlink:href=\"#DejaVuSans-50\"/>\r\n       <use x=\"98.828125\" xlink:href=\"#DejaVuSans-50\"/>\r\n      </g>\r\n     </g>\r\n    </g>\r\n    <g id=\"ytick_53\">\r\n     <g id=\"line2d_61\">\r\n      <g>\r\n       <use style=\"stroke:#000000;stroke-width:0.8;\" x=\"84.534375\" xlink:href=\"#m6b7b6fdfbb\" y=\"324.959718\"/>\r\n      </g>\r\n     </g>\r\n     <g id=\"text_62\">\r\n      <!-- f18 -->\r\n      <g transform=\"translate(61.289062 328.758937)scale(0.1 -0.1)\">\r\n       <use xlink:href=\"#DejaVuSans-102\"/>\r\n       <use x=\"35.205078\" xlink:href=\"#DejaVuSans-49\"/>\r\n       <use x=\"98.828125\" xlink:href=\"#DejaVuSans-56\"/>\r\n      </g>\r\n     </g>\r\n    </g>\r\n    <g id=\"ytick_54\">\r\n     <g id=\"line2d_62\">\r\n      <g>\r\n       <use style=\"stroke:#000000;stroke-width:0.8;\" x=\"84.534375\" xlink:href=\"#m6b7b6fdfbb\" y=\"330.72432\"/>\r\n      </g>\r\n     </g>\r\n     <g id=\"text_63\">\r\n      <!-- f55 -->\r\n      <g transform=\"translate(61.289062 334.523538)scale(0.1 -0.1)\">\r\n       <use xlink:href=\"#DejaVuSans-102\"/>\r\n       <use x=\"35.205078\" xlink:href=\"#DejaVuSans-53\"/>\r\n       <use x=\"98.828125\" xlink:href=\"#DejaVuSans-53\"/>\r\n      </g>\r\n     </g>\r\n    </g>\r\n    <g id=\"ytick_55\">\r\n     <g id=\"line2d_63\">\r\n      <g>\r\n       <use style=\"stroke:#000000;stroke-width:0.8;\" x=\"84.534375\" xlink:href=\"#m6b7b6fdfbb\" y=\"336.488921\"/>\r\n      </g>\r\n     </g>\r\n     <g id=\"text_64\">\r\n      <!-- f77 -->\r\n      <g transform=\"translate(61.289062 340.28814)scale(0.1 -0.1)\">\r\n       <use xlink:href=\"#DejaVuSans-102\"/>\r\n       <use x=\"35.205078\" xlink:href=\"#DejaVuSans-55\"/>\r\n       <use x=\"98.828125\" xlink:href=\"#DejaVuSans-55\"/>\r\n      </g>\r\n     </g>\r\n    </g>\r\n    <g id=\"ytick_56\">\r\n     <g id=\"line2d_64\">\r\n      <g>\r\n       <use style=\"stroke:#000000;stroke-width:0.8;\" x=\"84.534375\" xlink:href=\"#m6b7b6fdfbb\" y=\"342.253523\"/>\r\n      </g>\r\n     </g>\r\n     <g id=\"text_65\">\r\n      <!-- f17 -->\r\n      <g transform=\"translate(61.289062 346.052742)scale(0.1 -0.1)\">\r\n       <use xlink:href=\"#DejaVuSans-102\"/>\r\n       <use x=\"35.205078\" xlink:href=\"#DejaVuSans-49\"/>\r\n       <use x=\"98.828125\" xlink:href=\"#DejaVuSans-55\"/>\r\n      </g>\r\n     </g>\r\n    </g>\r\n    <g id=\"ytick_57\">\r\n     <g id=\"line2d_65\">\r\n      <g>\r\n       <use style=\"stroke:#000000;stroke-width:0.8;\" x=\"84.534375\" xlink:href=\"#m6b7b6fdfbb\" y=\"348.018125\"/>\r\n      </g>\r\n     </g>\r\n     <g id=\"text_66\">\r\n      <!-- f92 -->\r\n      <g transform=\"translate(61.289062 351.817344)scale(0.1 -0.1)\">\r\n       <use xlink:href=\"#DejaVuSans-102\"/>\r\n       <use x=\"35.205078\" xlink:href=\"#DejaVuSans-57\"/>\r\n       <use x=\"98.828125\" xlink:href=\"#DejaVuSans-50\"/>\r\n      </g>\r\n     </g>\r\n    </g>\r\n    <g id=\"ytick_58\">\r\n     <g id=\"line2d_66\">\r\n      <g>\r\n       <use style=\"stroke:#000000;stroke-width:0.8;\" x=\"84.534375\" xlink:href=\"#m6b7b6fdfbb\" y=\"353.782727\"/>\r\n      </g>\r\n     </g>\r\n     <g id=\"text_67\">\r\n      <!-- f23 -->\r\n      <g transform=\"translate(61.289062 357.581946)scale(0.1 -0.1)\">\r\n       <use xlink:href=\"#DejaVuSans-102\"/>\r\n       <use x=\"35.205078\" xlink:href=\"#DejaVuSans-50\"/>\r\n       <use x=\"98.828125\" xlink:href=\"#DejaVuSans-51\"/>\r\n      </g>\r\n     </g>\r\n    </g>\r\n    <g id=\"ytick_59\">\r\n     <g id=\"line2d_67\">\r\n      <g>\r\n       <use style=\"stroke:#000000;stroke-width:0.8;\" x=\"84.534375\" xlink:href=\"#m6b7b6fdfbb\" y=\"359.547329\"/>\r\n      </g>\r\n     </g>\r\n     <g id=\"text_68\">\r\n      <!-- f34 -->\r\n      <g transform=\"translate(61.289062 363.346547)scale(0.1 -0.1)\">\r\n       <use xlink:href=\"#DejaVuSans-102\"/>\r\n       <use x=\"35.205078\" xlink:href=\"#DejaVuSans-51\"/>\r\n       <use x=\"98.828125\" xlink:href=\"#DejaVuSans-52\"/>\r\n      </g>\r\n     </g>\r\n    </g>\r\n    <g id=\"ytick_60\">\r\n     <g id=\"line2d_68\">\r\n      <g>\r\n       <use style=\"stroke:#000000;stroke-width:0.8;\" x=\"84.534375\" xlink:href=\"#m6b7b6fdfbb\" y=\"365.31193\"/>\r\n      </g>\r\n     </g>\r\n     <g id=\"text_69\">\r\n      <!-- f9 -->\r\n      <g transform=\"translate(67.651562 369.111149)scale(0.1 -0.1)\">\r\n       <use xlink:href=\"#DejaVuSans-102\"/>\r\n       <use x=\"35.205078\" xlink:href=\"#DejaVuSans-57\"/>\r\n      </g>\r\n     </g>\r\n    </g>\r\n    <g id=\"ytick_61\">\r\n     <g id=\"line2d_69\">\r\n      <g>\r\n       <use style=\"stroke:#000000;stroke-width:0.8;\" x=\"84.534375\" xlink:href=\"#m6b7b6fdfbb\" y=\"371.076532\"/>\r\n      </g>\r\n     </g>\r\n     <g id=\"text_70\">\r\n      <!-- f32 -->\r\n      <g transform=\"translate(61.289062 374.875751)scale(0.1 -0.1)\">\r\n       <use xlink:href=\"#DejaVuSans-102\"/>\r\n       <use x=\"35.205078\" xlink:href=\"#DejaVuSans-51\"/>\r\n       <use x=\"98.828125\" xlink:href=\"#DejaVuSans-50\"/>\r\n      </g>\r\n     </g>\r\n    </g>\r\n    <g id=\"ytick_62\">\r\n     <g id=\"line2d_70\">\r\n      <g>\r\n       <use style=\"stroke:#000000;stroke-width:0.8;\" x=\"84.534375\" xlink:href=\"#m6b7b6fdfbb\" y=\"376.841134\"/>\r\n      </g>\r\n     </g>\r\n     <g id=\"text_71\">\r\n      <!-- f37 -->\r\n      <g transform=\"translate(61.289062 380.640353)scale(0.1 -0.1)\">\r\n       <use xlink:href=\"#DejaVuSans-102\"/>\r\n       <use x=\"35.205078\" xlink:href=\"#DejaVuSans-51\"/>\r\n       <use x=\"98.828125\" xlink:href=\"#DejaVuSans-55\"/>\r\n      </g>\r\n     </g>\r\n    </g>\r\n    <g id=\"ytick_63\">\r\n     <g id=\"line2d_71\">\r\n      <g>\r\n       <use style=\"stroke:#000000;stroke-width:0.8;\" x=\"84.534375\" xlink:href=\"#m6b7b6fdfbb\" y=\"382.605736\"/>\r\n      </g>\r\n     </g>\r\n     <g id=\"text_72\">\r\n      <!-- f36 -->\r\n      <g transform=\"translate(61.289062 386.404954)scale(0.1 -0.1)\">\r\n       <use xlink:href=\"#DejaVuSans-102\"/>\r\n       <use x=\"35.205078\" xlink:href=\"#DejaVuSans-51\"/>\r\n       <use x=\"98.828125\" xlink:href=\"#DejaVuSans-54\"/>\r\n      </g>\r\n     </g>\r\n    </g>\r\n    <g id=\"ytick_64\">\r\n     <g id=\"line2d_72\">\r\n      <g>\r\n       <use style=\"stroke:#000000;stroke-width:0.8;\" x=\"84.534375\" xlink:href=\"#m6b7b6fdfbb\" y=\"388.370337\"/>\r\n      </g>\r\n     </g>\r\n     <g id=\"text_73\">\r\n      <!-- f14 -->\r\n      <g transform=\"translate(61.289062 392.169556)scale(0.1 -0.1)\">\r\n       <use xlink:href=\"#DejaVuSans-102\"/>\r\n       <use x=\"35.205078\" xlink:href=\"#DejaVuSans-49\"/>\r\n       <use x=\"98.828125\" xlink:href=\"#DejaVuSans-52\"/>\r\n      </g>\r\n     </g>\r\n    </g>\r\n    <g id=\"ytick_65\">\r\n     <g id=\"line2d_73\">\r\n      <g>\r\n       <use style=\"stroke:#000000;stroke-width:0.8;\" x=\"84.534375\" xlink:href=\"#m6b7b6fdfbb\" y=\"394.134939\"/>\r\n      </g>\r\n     </g>\r\n     <g id=\"text_74\">\r\n      <!-- f79 -->\r\n      <g transform=\"translate(61.289062 397.934158)scale(0.1 -0.1)\">\r\n       <use xlink:href=\"#DejaVuSans-102\"/>\r\n       <use x=\"35.205078\" xlink:href=\"#DejaVuSans-55\"/>\r\n       <use x=\"98.828125\" xlink:href=\"#DejaVuSans-57\"/>\r\n      </g>\r\n     </g>\r\n    </g>\r\n    <g id=\"ytick_66\">\r\n     <g id=\"line2d_74\">\r\n      <g>\r\n       <use style=\"stroke:#000000;stroke-width:0.8;\" x=\"84.534375\" xlink:href=\"#m6b7b6fdfbb\" y=\"399.899541\"/>\r\n      </g>\r\n     </g>\r\n     <g id=\"text_75\">\r\n      <!-- f29 -->\r\n      <g transform=\"translate(61.289062 403.69876)scale(0.1 -0.1)\">\r\n       <use xlink:href=\"#DejaVuSans-102\"/>\r\n       <use x=\"35.205078\" xlink:href=\"#DejaVuSans-50\"/>\r\n       <use x=\"98.828125\" xlink:href=\"#DejaVuSans-57\"/>\r\n      </g>\r\n     </g>\r\n    </g>\r\n    <g id=\"ytick_67\">\r\n     <g id=\"line2d_75\">\r\n      <g>\r\n       <use style=\"stroke:#000000;stroke-width:0.8;\" x=\"84.534375\" xlink:href=\"#m6b7b6fdfbb\" y=\"405.664143\"/>\r\n      </g>\r\n     </g>\r\n     <g id=\"text_76\">\r\n      <!-- f88 -->\r\n      <g transform=\"translate(61.289062 409.463361)scale(0.1 -0.1)\">\r\n       <use xlink:href=\"#DejaVuSans-102\"/>\r\n       <use x=\"35.205078\" xlink:href=\"#DejaVuSans-56\"/>\r\n       <use x=\"98.828125\" xlink:href=\"#DejaVuSans-56\"/>\r\n      </g>\r\n     </g>\r\n    </g>\r\n    <g id=\"ytick_68\">\r\n     <g id=\"line2d_76\">\r\n      <g>\r\n       <use style=\"stroke:#000000;stroke-width:0.8;\" x=\"84.534375\" xlink:href=\"#m6b7b6fdfbb\" y=\"411.428744\"/>\r\n      </g>\r\n     </g>\r\n     <g id=\"text_77\">\r\n      <!-- f31 -->\r\n      <g transform=\"translate(61.289062 415.227963)scale(0.1 -0.1)\">\r\n       <use xlink:href=\"#DejaVuSans-102\"/>\r\n       <use x=\"35.205078\" xlink:href=\"#DejaVuSans-51\"/>\r\n       <use x=\"98.828125\" xlink:href=\"#DejaVuSans-49\"/>\r\n      </g>\r\n     </g>\r\n    </g>\r\n    <g id=\"ytick_69\">\r\n     <g id=\"line2d_77\">\r\n      <g>\r\n       <use style=\"stroke:#000000;stroke-width:0.8;\" x=\"84.534375\" xlink:href=\"#m6b7b6fdfbb\" y=\"417.193346\"/>\r\n      </g>\r\n     </g>\r\n     <g id=\"text_78\">\r\n      <!-- f54 -->\r\n      <g transform=\"translate(61.289062 420.992565)scale(0.1 -0.1)\">\r\n       <use xlink:href=\"#DejaVuSans-102\"/>\r\n       <use x=\"35.205078\" xlink:href=\"#DejaVuSans-53\"/>\r\n       <use x=\"98.828125\" xlink:href=\"#DejaVuSans-52\"/>\r\n      </g>\r\n     </g>\r\n    </g>\r\n    <g id=\"ytick_70\">\r\n     <g id=\"line2d_78\">\r\n      <g>\r\n       <use style=\"stroke:#000000;stroke-width:0.8;\" x=\"84.534375\" xlink:href=\"#m6b7b6fdfbb\" y=\"422.957948\"/>\r\n      </g>\r\n     </g>\r\n     <g id=\"text_79\">\r\n      <!-- f30 -->\r\n      <g transform=\"translate(61.289062 426.757167)scale(0.1 -0.1)\">\r\n       <use xlink:href=\"#DejaVuSans-102\"/>\r\n       <use x=\"35.205078\" xlink:href=\"#DejaVuSans-51\"/>\r\n       <use x=\"98.828125\" xlink:href=\"#DejaVuSans-48\"/>\r\n      </g>\r\n     </g>\r\n    </g>\r\n    <g id=\"ytick_71\">\r\n     <g id=\"line2d_79\">\r\n      <g>\r\n       <use style=\"stroke:#000000;stroke-width:0.8;\" x=\"84.534375\" xlink:href=\"#m6b7b6fdfbb\" y=\"428.72255\"/>\r\n      </g>\r\n     </g>\r\n     <g id=\"text_80\">\r\n      <!-- f27 -->\r\n      <g transform=\"translate(61.289062 432.521769)scale(0.1 -0.1)\">\r\n       <use xlink:href=\"#DejaVuSans-102\"/>\r\n       <use x=\"35.205078\" xlink:href=\"#DejaVuSans-50\"/>\r\n       <use x=\"98.828125\" xlink:href=\"#DejaVuSans-55\"/>\r\n      </g>\r\n     </g>\r\n    </g>\r\n    <g id=\"ytick_72\">\r\n     <g id=\"line2d_80\">\r\n      <g>\r\n       <use style=\"stroke:#000000;stroke-width:0.8;\" x=\"84.534375\" xlink:href=\"#m6b7b6fdfbb\" y=\"434.487152\"/>\r\n      </g>\r\n     </g>\r\n     <g id=\"text_81\">\r\n      <!-- f5 -->\r\n      <g transform=\"translate(67.651562 438.28637)scale(0.1 -0.1)\">\r\n       <use xlink:href=\"#DejaVuSans-102\"/>\r\n       <use x=\"35.205078\" xlink:href=\"#DejaVuSans-53\"/>\r\n      </g>\r\n     </g>\r\n    </g>\r\n    <g id=\"ytick_73\">\r\n     <g id=\"line2d_81\">\r\n      <g>\r\n       <use style=\"stroke:#000000;stroke-width:0.8;\" x=\"84.534375\" xlink:href=\"#m6b7b6fdfbb\" y=\"440.251753\"/>\r\n      </g>\r\n     </g>\r\n     <g id=\"text_82\">\r\n      <!-- f9xf82 -->\r\n      <g transform=\"translate(45.4875 444.050972)scale(0.1 -0.1)\">\r\n       <use xlink:href=\"#DejaVuSans-102\"/>\r\n       <use x=\"35.205078\" xlink:href=\"#DejaVuSans-57\"/>\r\n       <use x=\"98.828125\" xlink:href=\"#DejaVuSans-120\"/>\r\n       <use x=\"158.007812\" xlink:href=\"#DejaVuSans-102\"/>\r\n       <use x=\"193.212891\" xlink:href=\"#DejaVuSans-56\"/>\r\n       <use x=\"256.835938\" xlink:href=\"#DejaVuSans-50\"/>\r\n      </g>\r\n     </g>\r\n    </g>\r\n    <g id=\"ytick_74\">\r\n     <g id=\"line2d_82\">\r\n      <g>\r\n       <use style=\"stroke:#000000;stroke-width:0.8;\" x=\"84.534375\" xlink:href=\"#m6b7b6fdfbb\" y=\"446.016355\"/>\r\n      </g>\r\n     </g>\r\n     <g id=\"text_83\">\r\n      <!-- f38 -->\r\n      <g transform=\"translate(61.289062 449.815574)scale(0.1 -0.1)\">\r\n       <use xlink:href=\"#DejaVuSans-102\"/>\r\n       <use x=\"35.205078\" xlink:href=\"#DejaVuSans-51\"/>\r\n       <use x=\"98.828125\" xlink:href=\"#DejaVuSans-56\"/>\r\n      </g>\r\n     </g>\r\n    </g>\r\n    <g id=\"ytick_75\">\r\n     <g id=\"line2d_83\">\r\n      <g>\r\n       <use style=\"stroke:#000000;stroke-width:0.8;\" x=\"84.534375\" xlink:href=\"#m6b7b6fdfbb\" y=\"451.780957\"/>\r\n      </g>\r\n     </g>\r\n     <g id=\"text_84\">\r\n      <!-- f44 -->\r\n      <g transform=\"translate(61.289062 455.580176)scale(0.1 -0.1)\">\r\n       <use xlink:href=\"#DejaVuSans-102\"/>\r\n       <use x=\"35.205078\" xlink:href=\"#DejaVuSans-52\"/>\r\n       <use x=\"98.828125\" xlink:href=\"#DejaVuSans-52\"/>\r\n      </g>\r\n     </g>\r\n    </g>\r\n    <g id=\"ytick_76\">\r\n     <g id=\"line2d_84\">\r\n      <g>\r\n       <use style=\"stroke:#000000;stroke-width:0.8;\" x=\"84.534375\" xlink:href=\"#m6b7b6fdfbb\" y=\"457.545559\"/>\r\n      </g>\r\n     </g>\r\n     <g id=\"text_85\">\r\n      <!-- f16 -->\r\n      <g transform=\"translate(61.289062 461.344777)scale(0.1 -0.1)\">\r\n       <use xlink:href=\"#DejaVuSans-102\"/>\r\n       <use x=\"35.205078\" xlink:href=\"#DejaVuSans-49\"/>\r\n       <use x=\"98.828125\" xlink:href=\"#DejaVuSans-54\"/>\r\n      </g>\r\n     </g>\r\n    </g>\r\n    <g id=\"ytick_77\">\r\n     <g id=\"line2d_85\">\r\n      <g>\r\n       <use style=\"stroke:#000000;stroke-width:0.8;\" x=\"84.534375\" xlink:href=\"#m6b7b6fdfbb\" y=\"463.31016\"/>\r\n      </g>\r\n     </g>\r\n     <g id=\"text_86\">\r\n      <!-- f11 -->\r\n      <g transform=\"translate(61.289062 467.109379)scale(0.1 -0.1)\">\r\n       <use xlink:href=\"#DejaVuSans-102\"/>\r\n       <use x=\"35.205078\" xlink:href=\"#DejaVuSans-49\"/>\r\n       <use x=\"98.828125\" xlink:href=\"#DejaVuSans-49\"/>\r\n      </g>\r\n     </g>\r\n    </g>\r\n    <g id=\"ytick_78\">\r\n     <g id=\"line2d_86\">\r\n      <g>\r\n       <use style=\"stroke:#000000;stroke-width:0.8;\" x=\"84.534375\" xlink:href=\"#m6b7b6fdfbb\" y=\"469.074762\"/>\r\n      </g>\r\n     </g>\r\n     <g id=\"text_87\">\r\n      <!-- f98 -->\r\n      <g transform=\"translate(61.289062 472.873981)scale(0.1 -0.1)\">\r\n       <use xlink:href=\"#DejaVuSans-102\"/>\r\n       <use x=\"35.205078\" xlink:href=\"#DejaVuSans-57\"/>\r\n       <use x=\"98.828125\" xlink:href=\"#DejaVuSans-56\"/>\r\n      </g>\r\n     </g>\r\n    </g>\r\n    <g id=\"ytick_79\">\r\n     <g id=\"line2d_87\">\r\n      <g>\r\n       <use style=\"stroke:#000000;stroke-width:0.8;\" x=\"84.534375\" xlink:href=\"#m6b7b6fdfbb\" y=\"474.839364\"/>\r\n      </g>\r\n     </g>\r\n     <g id=\"text_88\">\r\n      <!-- f90 -->\r\n      <g transform=\"translate(61.289062 478.638583)scale(0.1 -0.1)\">\r\n       <use xlink:href=\"#DejaVuSans-102\"/>\r\n       <use x=\"35.205078\" xlink:href=\"#DejaVuSans-57\"/>\r\n       <use x=\"98.828125\" xlink:href=\"#DejaVuSans-48\"/>\r\n      </g>\r\n     </g>\r\n    </g>\r\n    <g id=\"ytick_80\">\r\n     <g id=\"line2d_88\">\r\n      <g>\r\n       <use style=\"stroke:#000000;stroke-width:0.8;\" x=\"84.534375\" xlink:href=\"#m6b7b6fdfbb\" y=\"480.603966\"/>\r\n      </g>\r\n     </g>\r\n     <g id=\"text_89\">\r\n      <!-- f41 -->\r\n      <g transform=\"translate(61.289062 484.403184)scale(0.1 -0.1)\">\r\n       <use xlink:href=\"#DejaVuSans-102\"/>\r\n       <use x=\"35.205078\" xlink:href=\"#DejaVuSans-52\"/>\r\n       <use x=\"98.828125\" xlink:href=\"#DejaVuSans-49\"/>\r\n      </g>\r\n     </g>\r\n    </g>\r\n    <g id=\"ytick_81\">\r\n     <g id=\"line2d_89\">\r\n      <g>\r\n       <use style=\"stroke:#000000;stroke-width:0.8;\" x=\"84.534375\" xlink:href=\"#m6b7b6fdfbb\" y=\"486.368567\"/>\r\n      </g>\r\n     </g>\r\n     <g id=\"text_90\">\r\n      <!-- f49 -->\r\n      <g transform=\"translate(61.289062 490.167786)scale(0.1 -0.1)\">\r\n       <use xlink:href=\"#DejaVuSans-102\"/>\r\n       <use x=\"35.205078\" xlink:href=\"#DejaVuSans-52\"/>\r\n       <use x=\"98.828125\" xlink:href=\"#DejaVuSans-57\"/>\r\n      </g>\r\n     </g>\r\n    </g>\r\n    <g id=\"ytick_82\">\r\n     <g id=\"line2d_90\">\r\n      <g>\r\n       <use style=\"stroke:#000000;stroke-width:0.8;\" x=\"84.534375\" xlink:href=\"#m6b7b6fdfbb\" y=\"492.133169\"/>\r\n      </g>\r\n     </g>\r\n     <g id=\"text_91\">\r\n      <!-- f20 -->\r\n      <g transform=\"translate(61.289062 495.932388)scale(0.1 -0.1)\">\r\n       <use xlink:href=\"#DejaVuSans-102\"/>\r\n       <use x=\"35.205078\" xlink:href=\"#DejaVuSans-50\"/>\r\n       <use x=\"98.828125\" xlink:href=\"#DejaVuSans-48\"/>\r\n      </g>\r\n     </g>\r\n    </g>\r\n    <g id=\"ytick_83\">\r\n     <g id=\"line2d_91\">\r\n      <g>\r\n       <use style=\"stroke:#000000;stroke-width:0.8;\" x=\"84.534375\" xlink:href=\"#m6b7b6fdfbb\" y=\"497.897771\"/>\r\n      </g>\r\n     </g>\r\n     <g id=\"text_92\">\r\n      <!-- f8 -->\r\n      <g transform=\"translate(67.651562 501.69699)scale(0.1 -0.1)\">\r\n       <use xlink:href=\"#DejaVuSans-102\"/>\r\n       <use x=\"35.205078\" xlink:href=\"#DejaVuSans-56\"/>\r\n      </g>\r\n     </g>\r\n    </g>\r\n    <g id=\"ytick_84\">\r\n     <g id=\"line2d_92\">\r\n      <g>\r\n       <use style=\"stroke:#000000;stroke-width:0.8;\" x=\"84.534375\" xlink:href=\"#m6b7b6fdfbb\" y=\"503.662373\"/>\r\n      </g>\r\n     </g>\r\n     <g id=\"text_93\">\r\n      <!-- f67 -->\r\n      <g transform=\"translate(61.289062 507.461592)scale(0.1 -0.1)\">\r\n       <use xlink:href=\"#DejaVuSans-102\"/>\r\n       <use x=\"35.205078\" xlink:href=\"#DejaVuSans-54\"/>\r\n       <use x=\"98.828125\" xlink:href=\"#DejaVuSans-55\"/>\r\n      </g>\r\n     </g>\r\n    </g>\r\n    <g id=\"ytick_85\">\r\n     <g id=\"line2d_93\">\r\n      <g>\r\n       <use style=\"stroke:#000000;stroke-width:0.8;\" x=\"84.534375\" xlink:href=\"#m6b7b6fdfbb\" y=\"509.426975\"/>\r\n      </g>\r\n     </g>\r\n     <g id=\"text_94\">\r\n      <!-- f45 -->\r\n      <g transform=\"translate(61.289062 513.226193)scale(0.1 -0.1)\">\r\n       <use xlink:href=\"#DejaVuSans-102\"/>\r\n       <use x=\"35.205078\" xlink:href=\"#DejaVuSans-52\"/>\r\n       <use x=\"98.828125\" xlink:href=\"#DejaVuSans-53\"/>\r\n      </g>\r\n     </g>\r\n    </g>\r\n    <g id=\"ytick_86\">\r\n     <g id=\"line2d_94\">\r\n      <g>\r\n       <use style=\"stroke:#000000;stroke-width:0.8;\" x=\"84.534375\" xlink:href=\"#m6b7b6fdfbb\" y=\"515.191576\"/>\r\n      </g>\r\n     </g>\r\n     <g id=\"text_95\">\r\n      <!-- f82 -->\r\n      <g transform=\"translate(61.289062 518.990795)scale(0.1 -0.1)\">\r\n       <use xlink:href=\"#DejaVuSans-102\"/>\r\n       <use x=\"35.205078\" xlink:href=\"#DejaVuSans-56\"/>\r\n       <use x=\"98.828125\" xlink:href=\"#DejaVuSans-50\"/>\r\n      </g>\r\n     </g>\r\n    </g>\r\n    <g id=\"ytick_87\">\r\n     <g id=\"line2d_95\">\r\n      <g>\r\n       <use style=\"stroke:#000000;stroke-width:0.8;\" x=\"84.534375\" xlink:href=\"#m6b7b6fdfbb\" y=\"520.956178\"/>\r\n      </g>\r\n     </g>\r\n     <g id=\"text_96\">\r\n      <!-- f6 -->\r\n      <g transform=\"translate(67.651562 524.755397)scale(0.1 -0.1)\">\r\n       <use xlink:href=\"#DejaVuSans-102\"/>\r\n       <use x=\"35.205078\" xlink:href=\"#DejaVuSans-54\"/>\r\n      </g>\r\n     </g>\r\n    </g>\r\n    <g id=\"ytick_88\">\r\n     <g id=\"line2d_96\">\r\n      <g>\r\n       <use style=\"stroke:#000000;stroke-width:0.8;\" x=\"84.534375\" xlink:href=\"#m6b7b6fdfbb\" y=\"526.72078\"/>\r\n      </g>\r\n     </g>\r\n     <g id=\"text_97\">\r\n      <!-- f4 -->\r\n      <g transform=\"translate(67.651562 530.519999)scale(0.1 -0.1)\">\r\n       <use xlink:href=\"#DejaVuSans-102\"/>\r\n       <use x=\"35.205078\" xlink:href=\"#DejaVuSans-52\"/>\r\n      </g>\r\n     </g>\r\n    </g>\r\n    <g id=\"ytick_89\">\r\n     <g id=\"line2d_97\">\r\n      <g>\r\n       <use style=\"stroke:#000000;stroke-width:0.8;\" x=\"84.534375\" xlink:href=\"#m6b7b6fdfbb\" y=\"532.485382\"/>\r\n      </g>\r\n     </g>\r\n     <g id=\"text_98\">\r\n      <!-- f35 -->\r\n      <g transform=\"translate(61.289062 536.2846)scale(0.1 -0.1)\">\r\n       <use xlink:href=\"#DejaVuSans-102\"/>\r\n       <use x=\"35.205078\" xlink:href=\"#DejaVuSans-51\"/>\r\n       <use x=\"98.828125\" xlink:href=\"#DejaVuSans-53\"/>\r\n      </g>\r\n     </g>\r\n    </g>\r\n    <g id=\"ytick_90\">\r\n     <g id=\"line2d_98\">\r\n      <g>\r\n       <use style=\"stroke:#000000;stroke-width:0.8;\" x=\"84.534375\" xlink:href=\"#m6b7b6fdfbb\" y=\"538.249983\"/>\r\n      </g>\r\n     </g>\r\n     <g id=\"text_99\">\r\n      <!-- f91 -->\r\n      <g transform=\"translate(61.289062 542.049202)scale(0.1 -0.1)\">\r\n       <use xlink:href=\"#DejaVuSans-102\"/>\r\n       <use x=\"35.205078\" xlink:href=\"#DejaVuSans-57\"/>\r\n       <use x=\"98.828125\" xlink:href=\"#DejaVuSans-49\"/>\r\n      </g>\r\n     </g>\r\n    </g>\r\n    <g id=\"ytick_91\">\r\n     <g id=\"line2d_99\">\r\n      <g>\r\n       <use style=\"stroke:#000000;stroke-width:0.8;\" x=\"84.534375\" xlink:href=\"#m6b7b6fdfbb\" y=\"544.014585\"/>\r\n      </g>\r\n     </g>\r\n     <g id=\"text_100\">\r\n      <!-- f83 -->\r\n      <g transform=\"translate(61.289062 547.813804)scale(0.1 -0.1)\">\r\n       <use xlink:href=\"#DejaVuSans-102\"/>\r\n       <use x=\"35.205078\" xlink:href=\"#DejaVuSans-56\"/>\r\n       <use x=\"98.828125\" xlink:href=\"#DejaVuSans-51\"/>\r\n      </g>\r\n     </g>\r\n    </g>\r\n    <g id=\"ytick_92\">\r\n     <g id=\"line2d_100\">\r\n      <g>\r\n       <use style=\"stroke:#000000;stroke-width:0.8;\" x=\"84.534375\" xlink:href=\"#m6b7b6fdfbb\" y=\"549.779187\"/>\r\n      </g>\r\n     </g>\r\n     <g id=\"text_101\">\r\n      <!-- f0 -->\r\n      <g transform=\"translate(67.651562 553.578406)scale(0.1 -0.1)\">\r\n       <use xlink:href=\"#DejaVuSans-102\"/>\r\n       <use x=\"35.205078\" xlink:href=\"#DejaVuSans-48\"/>\r\n      </g>\r\n     </g>\r\n    </g>\r\n    <g id=\"ytick_93\">\r\n     <g id=\"line2d_101\">\r\n      <g>\r\n       <use style=\"stroke:#000000;stroke-width:0.8;\" x=\"84.534375\" xlink:href=\"#m6b7b6fdfbb\" y=\"555.543789\"/>\r\n      </g>\r\n     </g>\r\n     <g id=\"text_102\">\r\n      <!-- f71 -->\r\n      <g transform=\"translate(61.289062 559.343007)scale(0.1 -0.1)\">\r\n       <use xlink:href=\"#DejaVuSans-102\"/>\r\n       <use x=\"35.205078\" xlink:href=\"#DejaVuSans-55\"/>\r\n       <use x=\"98.828125\" xlink:href=\"#DejaVuSans-49\"/>\r\n      </g>\r\n     </g>\r\n    </g>\r\n    <g id=\"ytick_94\">\r\n     <g id=\"line2d_102\">\r\n      <g>\r\n       <use style=\"stroke:#000000;stroke-width:0.8;\" x=\"84.534375\" xlink:href=\"#m6b7b6fdfbb\" y=\"561.30839\"/>\r\n      </g>\r\n     </g>\r\n     <g id=\"text_103\">\r\n      <!-- f61 -->\r\n      <g transform=\"translate(61.289062 565.107609)scale(0.1 -0.1)\">\r\n       <use xlink:href=\"#DejaVuSans-102\"/>\r\n       <use x=\"35.205078\" xlink:href=\"#DejaVuSans-54\"/>\r\n       <use x=\"98.828125\" xlink:href=\"#DejaVuSans-49\"/>\r\n      </g>\r\n     </g>\r\n    </g>\r\n    <g id=\"ytick_95\">\r\n     <g id=\"line2d_103\">\r\n      <g>\r\n       <use style=\"stroke:#000000;stroke-width:0.8;\" x=\"84.534375\" xlink:href=\"#m6b7b6fdfbb\" y=\"567.072992\"/>\r\n      </g>\r\n     </g>\r\n     <g id=\"text_104\">\r\n      <!-- f75 -->\r\n      <g transform=\"translate(61.289062 570.872211)scale(0.1 -0.1)\">\r\n       <use xlink:href=\"#DejaVuSans-102\"/>\r\n       <use x=\"35.205078\" xlink:href=\"#DejaVuSans-55\"/>\r\n       <use x=\"98.828125\" xlink:href=\"#DejaVuSans-53\"/>\r\n      </g>\r\n     </g>\r\n    </g>\r\n    <g id=\"ytick_96\">\r\n     <g id=\"line2d_104\">\r\n      <g>\r\n       <use style=\"stroke:#000000;stroke-width:0.8;\" x=\"84.534375\" xlink:href=\"#m6b7b6fdfbb\" y=\"572.837594\"/>\r\n      </g>\r\n     </g>\r\n     <g id=\"text_105\">\r\n      <!-- f19 -->\r\n      <g transform=\"translate(61.289062 576.636813)scale(0.1 -0.1)\">\r\n       <use xlink:href=\"#DejaVuSans-102\"/>\r\n       <use x=\"35.205078\" xlink:href=\"#DejaVuSans-49\"/>\r\n       <use x=\"98.828125\" xlink:href=\"#DejaVuSans-57\"/>\r\n      </g>\r\n     </g>\r\n    </g>\r\n    <g id=\"ytick_97\">\r\n     <g id=\"line2d_105\">\r\n      <g>\r\n       <use style=\"stroke:#000000;stroke-width:0.8;\" x=\"84.534375\" xlink:href=\"#m6b7b6fdfbb\" y=\"578.602196\"/>\r\n      </g>\r\n     </g>\r\n     <g id=\"text_106\">\r\n      <!-- f86 -->\r\n      <g transform=\"translate(61.289062 582.401415)scale(0.1 -0.1)\">\r\n       <use xlink:href=\"#DejaVuSans-102\"/>\r\n       <use x=\"35.205078\" xlink:href=\"#DejaVuSans-56\"/>\r\n       <use x=\"98.828125\" xlink:href=\"#DejaVuSans-54\"/>\r\n      </g>\r\n     </g>\r\n    </g>\r\n    <g id=\"ytick_98\">\r\n     <g id=\"line2d_106\">\r\n      <g>\r\n       <use style=\"stroke:#000000;stroke-width:0.8;\" x=\"84.534375\" xlink:href=\"#m6b7b6fdfbb\" y=\"584.366798\"/>\r\n      </g>\r\n     </g>\r\n     <g id=\"text_107\">\r\n      <!-- f99 -->\r\n      <g transform=\"translate(61.289062 588.166016)scale(0.1 -0.1)\">\r\n       <use xlink:href=\"#DejaVuSans-102\"/>\r\n       <use x=\"35.205078\" xlink:href=\"#DejaVuSans-57\"/>\r\n       <use x=\"98.828125\" xlink:href=\"#DejaVuSans-57\"/>\r\n      </g>\r\n     </g>\r\n    </g>\r\n    <g id=\"ytick_99\">\r\n     <g id=\"line2d_107\">\r\n      <g>\r\n       <use style=\"stroke:#000000;stroke-width:0.8;\" x=\"84.534375\" xlink:href=\"#m6b7b6fdfbb\" y=\"590.131399\"/>\r\n      </g>\r\n     </g>\r\n     <g id=\"text_108\">\r\n      <!-- f56 -->\r\n      <g transform=\"translate(61.289062 593.930618)scale(0.1 -0.1)\">\r\n       <use xlink:href=\"#DejaVuSans-102\"/>\r\n       <use x=\"35.205078\" xlink:href=\"#DejaVuSans-53\"/>\r\n       <use x=\"98.828125\" xlink:href=\"#DejaVuSans-54\"/>\r\n      </g>\r\n     </g>\r\n    </g>\r\n    <g id=\"ytick_100\">\r\n     <g id=\"line2d_108\">\r\n      <g>\r\n       <use style=\"stroke:#000000;stroke-width:0.8;\" x=\"84.534375\" xlink:href=\"#m6b7b6fdfbb\" y=\"595.896001\"/>\r\n      </g>\r\n     </g>\r\n     <g id=\"text_109\">\r\n      <!-- f62 -->\r\n      <g transform=\"translate(61.289062 599.69522)scale(0.1 -0.1)\">\r\n       <use xlink:href=\"#DejaVuSans-102\"/>\r\n       <use x=\"35.205078\" xlink:href=\"#DejaVuSans-54\"/>\r\n       <use x=\"98.828125\" xlink:href=\"#DejaVuSans-50\"/>\r\n      </g>\r\n     </g>\r\n    </g>\r\n    <g id=\"ytick_101\">\r\n     <g id=\"line2d_109\">\r\n      <g>\r\n       <use style=\"stroke:#000000;stroke-width:0.8;\" x=\"84.534375\" xlink:href=\"#m6b7b6fdfbb\" y=\"601.660603\"/>\r\n      </g>\r\n     </g>\r\n     <g id=\"text_110\">\r\n      <!-- f87 -->\r\n      <g transform=\"translate(61.289062 605.459822)scale(0.1 -0.1)\">\r\n       <use xlink:href=\"#DejaVuSans-102\"/>\r\n       <use x=\"35.205078\" xlink:href=\"#DejaVuSans-56\"/>\r\n       <use x=\"98.828125\" xlink:href=\"#DejaVuSans-55\"/>\r\n      </g>\r\n     </g>\r\n    </g>\r\n    <g id=\"ytick_102\">\r\n     <g id=\"line2d_110\">\r\n      <g>\r\n       <use style=\"stroke:#000000;stroke-width:0.8;\" x=\"84.534375\" xlink:href=\"#m6b7b6fdfbb\" y=\"607.425205\"/>\r\n      </g>\r\n     </g>\r\n     <g id=\"text_111\">\r\n      <!-- f68 -->\r\n      <g transform=\"translate(61.289062 611.224423)scale(0.1 -0.1)\">\r\n       <use xlink:href=\"#DejaVuSans-102\"/>\r\n       <use x=\"35.205078\" xlink:href=\"#DejaVuSans-54\"/>\r\n       <use x=\"98.828125\" xlink:href=\"#DejaVuSans-56\"/>\r\n      </g>\r\n     </g>\r\n    </g>\r\n    <g id=\"ytick_103\">\r\n     <g id=\"line2d_111\">\r\n      <g>\r\n       <use style=\"stroke:#000000;stroke-width:0.8;\" x=\"84.534375\" xlink:href=\"#m6b7b6fdfbb\" y=\"613.189806\"/>\r\n      </g>\r\n     </g>\r\n     <g id=\"text_112\">\r\n      <!-- f24 -->\r\n      <g transform=\"translate(61.289062 616.989025)scale(0.1 -0.1)\">\r\n       <use xlink:href=\"#DejaVuSans-102\"/>\r\n       <use x=\"35.205078\" xlink:href=\"#DejaVuSans-50\"/>\r\n       <use x=\"98.828125\" xlink:href=\"#DejaVuSans-52\"/>\r\n      </g>\r\n     </g>\r\n    </g>\r\n    <g id=\"ytick_104\">\r\n     <g id=\"line2d_112\">\r\n      <g>\r\n       <use style=\"stroke:#000000;stroke-width:0.8;\" x=\"84.534375\" xlink:href=\"#m6b7b6fdfbb\" y=\"618.954408\"/>\r\n      </g>\r\n     </g>\r\n     <g id=\"text_113\">\r\n      <!-- f97 -->\r\n      <g transform=\"translate(61.289062 622.753627)scale(0.1 -0.1)\">\r\n       <use xlink:href=\"#DejaVuSans-102\"/>\r\n       <use x=\"35.205078\" xlink:href=\"#DejaVuSans-57\"/>\r\n       <use x=\"98.828125\" xlink:href=\"#DejaVuSans-55\"/>\r\n      </g>\r\n     </g>\r\n    </g>\r\n    <g id=\"ytick_105\">\r\n     <g id=\"line2d_113\">\r\n      <g>\r\n       <use style=\"stroke:#000000;stroke-width:0.8;\" x=\"84.534375\" xlink:href=\"#m6b7b6fdfbb\" y=\"624.71901\"/>\r\n      </g>\r\n     </g>\r\n     <g id=\"text_114\">\r\n      <!-- f60 -->\r\n      <g transform=\"translate(61.289062 628.518229)scale(0.1 -0.1)\">\r\n       <use xlink:href=\"#DejaVuSans-102\"/>\r\n       <use x=\"35.205078\" xlink:href=\"#DejaVuSans-54\"/>\r\n       <use x=\"98.828125\" xlink:href=\"#DejaVuSans-48\"/>\r\n      </g>\r\n     </g>\r\n    </g>\r\n    <g id=\"ytick_106\">\r\n     <g id=\"line2d_114\">\r\n      <g>\r\n       <use style=\"stroke:#000000;stroke-width:0.8;\" x=\"84.534375\" xlink:href=\"#m6b7b6fdfbb\" y=\"630.483612\"/>\r\n      </g>\r\n     </g>\r\n     <g id=\"text_115\">\r\n      <!-- f26 -->\r\n      <g transform=\"translate(61.289062 634.28283)scale(0.1 -0.1)\">\r\n       <use xlink:href=\"#DejaVuSans-102\"/>\r\n       <use x=\"35.205078\" xlink:href=\"#DejaVuSans-50\"/>\r\n       <use x=\"98.828125\" xlink:href=\"#DejaVuSans-54\"/>\r\n      </g>\r\n     </g>\r\n    </g>\r\n    <g id=\"ytick_107\">\r\n     <g id=\"line2d_115\">\r\n      <g>\r\n       <use style=\"stroke:#000000;stroke-width:0.8;\" x=\"84.534375\" xlink:href=\"#m6b7b6fdfbb\" y=\"636.248213\"/>\r\n      </g>\r\n     </g>\r\n     <g id=\"text_116\">\r\n      <!-- f95 -->\r\n      <g transform=\"translate(61.289062 640.047432)scale(0.1 -0.1)\">\r\n       <use xlink:href=\"#DejaVuSans-102\"/>\r\n       <use x=\"35.205078\" xlink:href=\"#DejaVuSans-57\"/>\r\n       <use x=\"98.828125\" xlink:href=\"#DejaVuSans-53\"/>\r\n      </g>\r\n     </g>\r\n    </g>\r\n    <g id=\"ytick_108\">\r\n     <g id=\"line2d_116\">\r\n      <g>\r\n       <use style=\"stroke:#000000;stroke-width:0.8;\" x=\"84.534375\" xlink:href=\"#m6b7b6fdfbb\" y=\"642.012815\"/>\r\n      </g>\r\n     </g>\r\n     <g id=\"text_117\">\r\n      <!-- f15 -->\r\n      <g transform=\"translate(61.289062 645.812034)scale(0.1 -0.1)\">\r\n       <use xlink:href=\"#DejaVuSans-102\"/>\r\n       <use x=\"35.205078\" xlink:href=\"#DejaVuSans-49\"/>\r\n       <use x=\"98.828125\" xlink:href=\"#DejaVuSans-53\"/>\r\n      </g>\r\n     </g>\r\n    </g>\r\n    <g id=\"ytick_109\">\r\n     <g id=\"line2d_117\">\r\n      <g>\r\n       <use style=\"stroke:#000000;stroke-width:0.8;\" x=\"84.534375\" xlink:href=\"#m6b7b6fdfbb\" y=\"647.777417\"/>\r\n      </g>\r\n     </g>\r\n     <g id=\"text_118\">\r\n      <!-- f42 -->\r\n      <g transform=\"translate(61.289062 651.576636)scale(0.1 -0.1)\">\r\n       <use xlink:href=\"#DejaVuSans-102\"/>\r\n       <use x=\"35.205078\" xlink:href=\"#DejaVuSans-52\"/>\r\n       <use x=\"98.828125\" xlink:href=\"#DejaVuSans-50\"/>\r\n      </g>\r\n     </g>\r\n    </g>\r\n    <g id=\"ytick_110\">\r\n     <g id=\"line2d_118\">\r\n      <g>\r\n       <use style=\"stroke:#000000;stroke-width:0.8;\" x=\"84.534375\" xlink:href=\"#m6b7b6fdfbb\" y=\"653.542019\"/>\r\n      </g>\r\n     </g>\r\n     <g id=\"text_119\">\r\n      <!-- f33 -->\r\n      <g transform=\"translate(61.289062 657.341238)scale(0.1 -0.1)\">\r\n       <use xlink:href=\"#DejaVuSans-102\"/>\r\n       <use x=\"35.205078\" xlink:href=\"#DejaVuSans-51\"/>\r\n       <use x=\"98.828125\" xlink:href=\"#DejaVuSans-51\"/>\r\n      </g>\r\n     </g>\r\n    </g>\r\n    <g id=\"ytick_111\">\r\n     <g id=\"line2d_119\">\r\n      <g>\r\n       <use style=\"stroke:#000000;stroke-width:0.8;\" x=\"84.534375\" xlink:href=\"#m6b7b6fdfbb\" y=\"659.306621\"/>\r\n      </g>\r\n     </g>\r\n     <g id=\"text_120\">\r\n      <!-- f40 -->\r\n      <g transform=\"translate(61.289062 663.105839)scale(0.1 -0.1)\">\r\n       <use xlink:href=\"#DejaVuSans-102\"/>\r\n       <use x=\"35.205078\" xlink:href=\"#DejaVuSans-52\"/>\r\n       <use x=\"98.828125\" xlink:href=\"#DejaVuSans-48\"/>\r\n      </g>\r\n     </g>\r\n    </g>\r\n    <g id=\"ytick_112\">\r\n     <g id=\"line2d_120\">\r\n      <g>\r\n       <use style=\"stroke:#000000;stroke-width:0.8;\" x=\"84.534375\" xlink:href=\"#m6b7b6fdfbb\" y=\"665.071222\"/>\r\n      </g>\r\n     </g>\r\n     <g id=\"text_121\">\r\n      <!-- f10 -->\r\n      <g transform=\"translate(61.289062 668.870441)scale(0.1 -0.1)\">\r\n       <use xlink:href=\"#DejaVuSans-102\"/>\r\n       <use x=\"35.205078\" xlink:href=\"#DejaVuSans-49\"/>\r\n       <use x=\"98.828125\" xlink:href=\"#DejaVuSans-48\"/>\r\n      </g>\r\n     </g>\r\n    </g>\r\n    <g id=\"ytick_113\">\r\n     <g id=\"line2d_121\">\r\n      <g>\r\n       <use style=\"stroke:#000000;stroke-width:0.8;\" x=\"84.534375\" xlink:href=\"#m6b7b6fdfbb\" y=\"670.835824\"/>\r\n      </g>\r\n     </g>\r\n     <g id=\"text_122\">\r\n      <!-- f72 -->\r\n      <g transform=\"translate(61.289062 674.635043)scale(0.1 -0.1)\">\r\n       <use xlink:href=\"#DejaVuSans-102\"/>\r\n       <use x=\"35.205078\" xlink:href=\"#DejaVuSans-55\"/>\r\n       <use x=\"98.828125\" xlink:href=\"#DejaVuSans-50\"/>\r\n      </g>\r\n     </g>\r\n    </g>\r\n    <g id=\"text_123\">\r\n     <!-- Feature -->\r\n     <defs>\r\n      <path d=\"M 9.8125 72.90625 \r\nL 51.703125 72.90625 \r\nL 51.703125 64.59375 \r\nL 19.671875 64.59375 \r\nL 19.671875 43.109375 \r\nL 48.578125 43.109375 \r\nL 48.578125 34.8125 \r\nL 19.671875 34.8125 \r\nL 19.671875 0 \r\nL 9.8125 0 \r\nz\r\n\" id=\"DejaVuSans-70\"/>\r\n      <path d=\"M 18.3125 70.21875 \r\nL 18.3125 54.6875 \r\nL 36.8125 54.6875 \r\nL 36.8125 47.703125 \r\nL 18.3125 47.703125 \r\nL 18.3125 18.015625 \r\nQ 18.3125 11.328125 20.140625 9.421875 \r\nQ 21.96875 7.515625 27.59375 7.515625 \r\nL 36.8125 7.515625 \r\nL 36.8125 0 \r\nL 27.59375 0 \r\nQ 17.1875 0 13.234375 3.875 \r\nQ 9.28125 7.765625 9.28125 18.015625 \r\nL 9.28125 47.703125 \r\nL 2.6875 47.703125 \r\nL 2.6875 54.6875 \r\nL 9.28125 54.6875 \r\nL 9.28125 70.21875 \r\nz\r\n\" id=\"DejaVuSans-116\"/>\r\n     </defs>\r\n     <g transform=\"translate(14.798437 366.907969)rotate(-90)scale(0.1 -0.1)\">\r\n      <use xlink:href=\"#DejaVuSans-70\"/>\r\n      <use x=\"52.019531\" xlink:href=\"#DejaVuSans-101\"/>\r\n      <use x=\"113.542969\" xlink:href=\"#DejaVuSans-97\"/>\r\n      <use x=\"174.822266\" xlink:href=\"#DejaVuSans-116\"/>\r\n      <use x=\"214.03125\" xlink:href=\"#DejaVuSans-117\"/>\r\n      <use x=\"277.410156\" xlink:href=\"#DejaVuSans-114\"/>\r\n      <use x=\"316.273438\" xlink:href=\"#DejaVuSans-101\"/>\r\n     </g>\r\n    </g>\r\n   </g>\r\n   <g id=\"line2d_122\">\r\n    <path clip-path=\"url(#pfbeaa180d2)\" style=\"fill:none;stroke:#424242;stroke-linecap:square;stroke-width:2.7;\"/>\r\n   </g>\r\n   <g id=\"line2d_123\">\r\n    <path clip-path=\"url(#pfbeaa180d2)\" style=\"fill:none;stroke:#424242;stroke-linecap:square;stroke-width:2.7;\"/>\r\n   </g>\r\n   <g id=\"line2d_124\">\r\n    <path clip-path=\"url(#pfbeaa180d2)\" style=\"fill:none;stroke:#424242;stroke-linecap:square;stroke-width:2.7;\"/>\r\n   </g>\r\n   <g id=\"line2d_125\">\r\n    <path clip-path=\"url(#pfbeaa180d2)\" style=\"fill:none;stroke:#424242;stroke-linecap:square;stroke-width:2.7;\"/>\r\n   </g>\r\n   <g id=\"line2d_126\">\r\n    <path clip-path=\"url(#pfbeaa180d2)\" style=\"fill:none;stroke:#424242;stroke-linecap:square;stroke-width:2.7;\"/>\r\n   </g>\r\n   <g id=\"line2d_127\">\r\n    <path clip-path=\"url(#pfbeaa180d2)\" style=\"fill:none;stroke:#424242;stroke-linecap:square;stroke-width:2.7;\"/>\r\n   </g>\r\n   <g id=\"line2d_128\">\r\n    <path clip-path=\"url(#pfbeaa180d2)\" style=\"fill:none;stroke:#424242;stroke-linecap:square;stroke-width:2.7;\"/>\r\n   </g>\r\n   <g id=\"line2d_129\">\r\n    <path clip-path=\"url(#pfbeaa180d2)\" style=\"fill:none;stroke:#424242;stroke-linecap:square;stroke-width:2.7;\"/>\r\n   </g>\r\n   <g id=\"line2d_130\">\r\n    <path clip-path=\"url(#pfbeaa180d2)\" style=\"fill:none;stroke:#424242;stroke-linecap:square;stroke-width:2.7;\"/>\r\n   </g>\r\n   <g id=\"line2d_131\">\r\n    <path clip-path=\"url(#pfbeaa180d2)\" style=\"fill:none;stroke:#424242;stroke-linecap:square;stroke-width:2.7;\"/>\r\n   </g>\r\n   <g id=\"line2d_132\">\r\n    <path clip-path=\"url(#pfbeaa180d2)\" style=\"fill:none;stroke:#424242;stroke-linecap:square;stroke-width:2.7;\"/>\r\n   </g>\r\n   <g id=\"line2d_133\">\r\n    <path clip-path=\"url(#pfbeaa180d2)\" style=\"fill:none;stroke:#424242;stroke-linecap:square;stroke-width:2.7;\"/>\r\n   </g>\r\n   <g id=\"line2d_134\">\r\n    <path clip-path=\"url(#pfbeaa180d2)\" style=\"fill:none;stroke:#424242;stroke-linecap:square;stroke-width:2.7;\"/>\r\n   </g>\r\n   <g id=\"line2d_135\">\r\n    <path clip-path=\"url(#pfbeaa180d2)\" style=\"fill:none;stroke:#424242;stroke-linecap:square;stroke-width:2.7;\"/>\r\n   </g>\r\n   <g id=\"line2d_136\">\r\n    <path clip-path=\"url(#pfbeaa180d2)\" style=\"fill:none;stroke:#424242;stroke-linecap:square;stroke-width:2.7;\"/>\r\n   </g>\r\n   <g id=\"line2d_137\">\r\n    <path clip-path=\"url(#pfbeaa180d2)\" style=\"fill:none;stroke:#424242;stroke-linecap:square;stroke-width:2.7;\"/>\r\n   </g>\r\n   <g id=\"line2d_138\">\r\n    <path clip-path=\"url(#pfbeaa180d2)\" style=\"fill:none;stroke:#424242;stroke-linecap:square;stroke-width:2.7;\"/>\r\n   </g>\r\n   <g id=\"line2d_139\">\r\n    <path clip-path=\"url(#pfbeaa180d2)\" style=\"fill:none;stroke:#424242;stroke-linecap:square;stroke-width:2.7;\"/>\r\n   </g>\r\n   <g id=\"line2d_140\">\r\n    <path clip-path=\"url(#pfbeaa180d2)\" style=\"fill:none;stroke:#424242;stroke-linecap:square;stroke-width:2.7;\"/>\r\n   </g>\r\n   <g id=\"line2d_141\">\r\n    <path clip-path=\"url(#pfbeaa180d2)\" style=\"fill:none;stroke:#424242;stroke-linecap:square;stroke-width:2.7;\"/>\r\n   </g>\r\n   <g id=\"line2d_142\">\r\n    <path clip-path=\"url(#pfbeaa180d2)\" style=\"fill:none;stroke:#424242;stroke-linecap:square;stroke-width:2.7;\"/>\r\n   </g>\r\n   <g id=\"line2d_143\">\r\n    <path clip-path=\"url(#pfbeaa180d2)\" style=\"fill:none;stroke:#424242;stroke-linecap:square;stroke-width:2.7;\"/>\r\n   </g>\r\n   <g id=\"line2d_144\">\r\n    <path clip-path=\"url(#pfbeaa180d2)\" style=\"fill:none;stroke:#424242;stroke-linecap:square;stroke-width:2.7;\"/>\r\n   </g>\r\n   <g id=\"line2d_145\">\r\n    <path clip-path=\"url(#pfbeaa180d2)\" style=\"fill:none;stroke:#424242;stroke-linecap:square;stroke-width:2.7;\"/>\r\n   </g>\r\n   <g id=\"line2d_146\">\r\n    <path clip-path=\"url(#pfbeaa180d2)\" style=\"fill:none;stroke:#424242;stroke-linecap:square;stroke-width:2.7;\"/>\r\n   </g>\r\n   <g id=\"line2d_147\">\r\n    <path clip-path=\"url(#pfbeaa180d2)\" style=\"fill:none;stroke:#424242;stroke-linecap:square;stroke-width:2.7;\"/>\r\n   </g>\r\n   <g id=\"line2d_148\">\r\n    <path clip-path=\"url(#pfbeaa180d2)\" style=\"fill:none;stroke:#424242;stroke-linecap:square;stroke-width:2.7;\"/>\r\n   </g>\r\n   <g id=\"line2d_149\">\r\n    <path clip-path=\"url(#pfbeaa180d2)\" style=\"fill:none;stroke:#424242;stroke-linecap:square;stroke-width:2.7;\"/>\r\n   </g>\r\n   <g id=\"line2d_150\">\r\n    <path clip-path=\"url(#pfbeaa180d2)\" style=\"fill:none;stroke:#424242;stroke-linecap:square;stroke-width:2.7;\"/>\r\n   </g>\r\n   <g id=\"line2d_151\">\r\n    <path clip-path=\"url(#pfbeaa180d2)\" style=\"fill:none;stroke:#424242;stroke-linecap:square;stroke-width:2.7;\"/>\r\n   </g>\r\n   <g id=\"line2d_152\">\r\n    <path clip-path=\"url(#pfbeaa180d2)\" style=\"fill:none;stroke:#424242;stroke-linecap:square;stroke-width:2.7;\"/>\r\n   </g>\r\n   <g id=\"line2d_153\">\r\n    <path clip-path=\"url(#pfbeaa180d2)\" style=\"fill:none;stroke:#424242;stroke-linecap:square;stroke-width:2.7;\"/>\r\n   </g>\r\n   <g id=\"line2d_154\">\r\n    <path clip-path=\"url(#pfbeaa180d2)\" style=\"fill:none;stroke:#424242;stroke-linecap:square;stroke-width:2.7;\"/>\r\n   </g>\r\n   <g id=\"line2d_155\">\r\n    <path clip-path=\"url(#pfbeaa180d2)\" style=\"fill:none;stroke:#424242;stroke-linecap:square;stroke-width:2.7;\"/>\r\n   </g>\r\n   <g id=\"line2d_156\">\r\n    <path clip-path=\"url(#pfbeaa180d2)\" style=\"fill:none;stroke:#424242;stroke-linecap:square;stroke-width:2.7;\"/>\r\n   </g>\r\n   <g id=\"line2d_157\">\r\n    <path clip-path=\"url(#pfbeaa180d2)\" style=\"fill:none;stroke:#424242;stroke-linecap:square;stroke-width:2.7;\"/>\r\n   </g>\r\n   <g id=\"line2d_158\">\r\n    <path clip-path=\"url(#pfbeaa180d2)\" style=\"fill:none;stroke:#424242;stroke-linecap:square;stroke-width:2.7;\"/>\r\n   </g>\r\n   <g id=\"line2d_159\">\r\n    <path clip-path=\"url(#pfbeaa180d2)\" style=\"fill:none;stroke:#424242;stroke-linecap:square;stroke-width:2.7;\"/>\r\n   </g>\r\n   <g id=\"line2d_160\">\r\n    <path clip-path=\"url(#pfbeaa180d2)\" style=\"fill:none;stroke:#424242;stroke-linecap:square;stroke-width:2.7;\"/>\r\n   </g>\r\n   <g id=\"line2d_161\">\r\n    <path clip-path=\"url(#pfbeaa180d2)\" style=\"fill:none;stroke:#424242;stroke-linecap:square;stroke-width:2.7;\"/>\r\n   </g>\r\n   <g id=\"line2d_162\">\r\n    <path clip-path=\"url(#pfbeaa180d2)\" style=\"fill:none;stroke:#424242;stroke-linecap:square;stroke-width:2.7;\"/>\r\n   </g>\r\n   <g id=\"line2d_163\">\r\n    <path clip-path=\"url(#pfbeaa180d2)\" style=\"fill:none;stroke:#424242;stroke-linecap:square;stroke-width:2.7;\"/>\r\n   </g>\r\n   <g id=\"line2d_164\">\r\n    <path clip-path=\"url(#pfbeaa180d2)\" style=\"fill:none;stroke:#424242;stroke-linecap:square;stroke-width:2.7;\"/>\r\n   </g>\r\n   <g id=\"line2d_165\">\r\n    <path clip-path=\"url(#pfbeaa180d2)\" style=\"fill:none;stroke:#424242;stroke-linecap:square;stroke-width:2.7;\"/>\r\n   </g>\r\n   <g id=\"line2d_166\">\r\n    <path clip-path=\"url(#pfbeaa180d2)\" style=\"fill:none;stroke:#424242;stroke-linecap:square;stroke-width:2.7;\"/>\r\n   </g>\r\n   <g id=\"line2d_167\">\r\n    <path clip-path=\"url(#pfbeaa180d2)\" style=\"fill:none;stroke:#424242;stroke-linecap:square;stroke-width:2.7;\"/>\r\n   </g>\r\n   <g id=\"line2d_168\">\r\n    <path clip-path=\"url(#pfbeaa180d2)\" style=\"fill:none;stroke:#424242;stroke-linecap:square;stroke-width:2.7;\"/>\r\n   </g>\r\n   <g id=\"line2d_169\">\r\n    <path clip-path=\"url(#pfbeaa180d2)\" style=\"fill:none;stroke:#424242;stroke-linecap:square;stroke-width:2.7;\"/>\r\n   </g>\r\n   <g id=\"line2d_170\">\r\n    <path clip-path=\"url(#pfbeaa180d2)\" style=\"fill:none;stroke:#424242;stroke-linecap:square;stroke-width:2.7;\"/>\r\n   </g>\r\n   <g id=\"line2d_171\">\r\n    <path clip-path=\"url(#pfbeaa180d2)\" style=\"fill:none;stroke:#424242;stroke-linecap:square;stroke-width:2.7;\"/>\r\n   </g>\r\n   <g id=\"line2d_172\">\r\n    <path clip-path=\"url(#pfbeaa180d2)\" style=\"fill:none;stroke:#424242;stroke-linecap:square;stroke-width:2.7;\"/>\r\n   </g>\r\n   <g id=\"line2d_173\">\r\n    <path clip-path=\"url(#pfbeaa180d2)\" style=\"fill:none;stroke:#424242;stroke-linecap:square;stroke-width:2.7;\"/>\r\n   </g>\r\n   <g id=\"line2d_174\">\r\n    <path clip-path=\"url(#pfbeaa180d2)\" style=\"fill:none;stroke:#424242;stroke-linecap:square;stroke-width:2.7;\"/>\r\n   </g>\r\n   <g id=\"line2d_175\">\r\n    <path clip-path=\"url(#pfbeaa180d2)\" style=\"fill:none;stroke:#424242;stroke-linecap:square;stroke-width:2.7;\"/>\r\n   </g>\r\n   <g id=\"line2d_176\">\r\n    <path clip-path=\"url(#pfbeaa180d2)\" style=\"fill:none;stroke:#424242;stroke-linecap:square;stroke-width:2.7;\"/>\r\n   </g>\r\n   <g id=\"line2d_177\">\r\n    <path clip-path=\"url(#pfbeaa180d2)\" style=\"fill:none;stroke:#424242;stroke-linecap:square;stroke-width:2.7;\"/>\r\n   </g>\r\n   <g id=\"line2d_178\">\r\n    <path clip-path=\"url(#pfbeaa180d2)\" style=\"fill:none;stroke:#424242;stroke-linecap:square;stroke-width:2.7;\"/>\r\n   </g>\r\n   <g id=\"line2d_179\">\r\n    <path clip-path=\"url(#pfbeaa180d2)\" style=\"fill:none;stroke:#424242;stroke-linecap:square;stroke-width:2.7;\"/>\r\n   </g>\r\n   <g id=\"line2d_180\">\r\n    <path clip-path=\"url(#pfbeaa180d2)\" style=\"fill:none;stroke:#424242;stroke-linecap:square;stroke-width:2.7;\"/>\r\n   </g>\r\n   <g id=\"line2d_181\">\r\n    <path clip-path=\"url(#pfbeaa180d2)\" style=\"fill:none;stroke:#424242;stroke-linecap:square;stroke-width:2.7;\"/>\r\n   </g>\r\n   <g id=\"line2d_182\">\r\n    <path clip-path=\"url(#pfbeaa180d2)\" style=\"fill:none;stroke:#424242;stroke-linecap:square;stroke-width:2.7;\"/>\r\n   </g>\r\n   <g id=\"line2d_183\">\r\n    <path clip-path=\"url(#pfbeaa180d2)\" style=\"fill:none;stroke:#424242;stroke-linecap:square;stroke-width:2.7;\"/>\r\n   </g>\r\n   <g id=\"line2d_184\">\r\n    <path clip-path=\"url(#pfbeaa180d2)\" style=\"fill:none;stroke:#424242;stroke-linecap:square;stroke-width:2.7;\"/>\r\n   </g>\r\n   <g id=\"line2d_185\">\r\n    <path clip-path=\"url(#pfbeaa180d2)\" style=\"fill:none;stroke:#424242;stroke-linecap:square;stroke-width:2.7;\"/>\r\n   </g>\r\n   <g id=\"line2d_186\">\r\n    <path clip-path=\"url(#pfbeaa180d2)\" style=\"fill:none;stroke:#424242;stroke-linecap:square;stroke-width:2.7;\"/>\r\n   </g>\r\n   <g id=\"line2d_187\">\r\n    <path clip-path=\"url(#pfbeaa180d2)\" style=\"fill:none;stroke:#424242;stroke-linecap:square;stroke-width:2.7;\"/>\r\n   </g>\r\n   <g id=\"line2d_188\">\r\n    <path clip-path=\"url(#pfbeaa180d2)\" style=\"fill:none;stroke:#424242;stroke-linecap:square;stroke-width:2.7;\"/>\r\n   </g>\r\n   <g id=\"line2d_189\">\r\n    <path clip-path=\"url(#pfbeaa180d2)\" style=\"fill:none;stroke:#424242;stroke-linecap:square;stroke-width:2.7;\"/>\r\n   </g>\r\n   <g id=\"line2d_190\">\r\n    <path clip-path=\"url(#pfbeaa180d2)\" style=\"fill:none;stroke:#424242;stroke-linecap:square;stroke-width:2.7;\"/>\r\n   </g>\r\n   <g id=\"line2d_191\">\r\n    <path clip-path=\"url(#pfbeaa180d2)\" style=\"fill:none;stroke:#424242;stroke-linecap:square;stroke-width:2.7;\"/>\r\n   </g>\r\n   <g id=\"line2d_192\">\r\n    <path clip-path=\"url(#pfbeaa180d2)\" style=\"fill:none;stroke:#424242;stroke-linecap:square;stroke-width:2.7;\"/>\r\n   </g>\r\n   <g id=\"line2d_193\">\r\n    <path clip-path=\"url(#pfbeaa180d2)\" style=\"fill:none;stroke:#424242;stroke-linecap:square;stroke-width:2.7;\"/>\r\n   </g>\r\n   <g id=\"line2d_194\">\r\n    <path clip-path=\"url(#pfbeaa180d2)\" style=\"fill:none;stroke:#424242;stroke-linecap:square;stroke-width:2.7;\"/>\r\n   </g>\r\n   <g id=\"line2d_195\">\r\n    <path clip-path=\"url(#pfbeaa180d2)\" style=\"fill:none;stroke:#424242;stroke-linecap:square;stroke-width:2.7;\"/>\r\n   </g>\r\n   <g id=\"line2d_196\">\r\n    <path clip-path=\"url(#pfbeaa180d2)\" style=\"fill:none;stroke:#424242;stroke-linecap:square;stroke-width:2.7;\"/>\r\n   </g>\r\n   <g id=\"line2d_197\">\r\n    <path clip-path=\"url(#pfbeaa180d2)\" style=\"fill:none;stroke:#424242;stroke-linecap:square;stroke-width:2.7;\"/>\r\n   </g>\r\n   <g id=\"line2d_198\">\r\n    <path clip-path=\"url(#pfbeaa180d2)\" style=\"fill:none;stroke:#424242;stroke-linecap:square;stroke-width:2.7;\"/>\r\n   </g>\r\n   <g id=\"line2d_199\">\r\n    <path clip-path=\"url(#pfbeaa180d2)\" style=\"fill:none;stroke:#424242;stroke-linecap:square;stroke-width:2.7;\"/>\r\n   </g>\r\n   <g id=\"line2d_200\">\r\n    <path clip-path=\"url(#pfbeaa180d2)\" style=\"fill:none;stroke:#424242;stroke-linecap:square;stroke-width:2.7;\"/>\r\n   </g>\r\n   <g id=\"line2d_201\">\r\n    <path clip-path=\"url(#pfbeaa180d2)\" style=\"fill:none;stroke:#424242;stroke-linecap:square;stroke-width:2.7;\"/>\r\n   </g>\r\n   <g id=\"line2d_202\">\r\n    <path clip-path=\"url(#pfbeaa180d2)\" style=\"fill:none;stroke:#424242;stroke-linecap:square;stroke-width:2.7;\"/>\r\n   </g>\r\n   <g id=\"line2d_203\">\r\n    <path clip-path=\"url(#pfbeaa180d2)\" style=\"fill:none;stroke:#424242;stroke-linecap:square;stroke-width:2.7;\"/>\r\n   </g>\r\n   <g id=\"line2d_204\">\r\n    <path clip-path=\"url(#pfbeaa180d2)\" style=\"fill:none;stroke:#424242;stroke-linecap:square;stroke-width:2.7;\"/>\r\n   </g>\r\n   <g id=\"line2d_205\">\r\n    <path clip-path=\"url(#pfbeaa180d2)\" style=\"fill:none;stroke:#424242;stroke-linecap:square;stroke-width:2.7;\"/>\r\n   </g>\r\n   <g id=\"line2d_206\">\r\n    <path clip-path=\"url(#pfbeaa180d2)\" style=\"fill:none;stroke:#424242;stroke-linecap:square;stroke-width:2.7;\"/>\r\n   </g>\r\n   <g id=\"line2d_207\">\r\n    <path clip-path=\"url(#pfbeaa180d2)\" style=\"fill:none;stroke:#424242;stroke-linecap:square;stroke-width:2.7;\"/>\r\n   </g>\r\n   <g id=\"line2d_208\">\r\n    <path clip-path=\"url(#pfbeaa180d2)\" style=\"fill:none;stroke:#424242;stroke-linecap:square;stroke-width:2.7;\"/>\r\n   </g>\r\n   <g id=\"line2d_209\">\r\n    <path clip-path=\"url(#pfbeaa180d2)\" style=\"fill:none;stroke:#424242;stroke-linecap:square;stroke-width:2.7;\"/>\r\n   </g>\r\n   <g id=\"line2d_210\">\r\n    <path clip-path=\"url(#pfbeaa180d2)\" style=\"fill:none;stroke:#424242;stroke-linecap:square;stroke-width:2.7;\"/>\r\n   </g>\r\n   <g id=\"line2d_211\">\r\n    <path clip-path=\"url(#pfbeaa180d2)\" style=\"fill:none;stroke:#424242;stroke-linecap:square;stroke-width:2.7;\"/>\r\n   </g>\r\n   <g id=\"line2d_212\">\r\n    <path clip-path=\"url(#pfbeaa180d2)\" style=\"fill:none;stroke:#424242;stroke-linecap:square;stroke-width:2.7;\"/>\r\n   </g>\r\n   <g id=\"line2d_213\">\r\n    <path clip-path=\"url(#pfbeaa180d2)\" style=\"fill:none;stroke:#424242;stroke-linecap:square;stroke-width:2.7;\"/>\r\n   </g>\r\n   <g id=\"line2d_214\">\r\n    <path clip-path=\"url(#pfbeaa180d2)\" style=\"fill:none;stroke:#424242;stroke-linecap:square;stroke-width:2.7;\"/>\r\n   </g>\r\n   <g id=\"line2d_215\">\r\n    <path clip-path=\"url(#pfbeaa180d2)\" style=\"fill:none;stroke:#424242;stroke-linecap:square;stroke-width:2.7;\"/>\r\n   </g>\r\n   <g id=\"line2d_216\">\r\n    <path clip-path=\"url(#pfbeaa180d2)\" style=\"fill:none;stroke:#424242;stroke-linecap:square;stroke-width:2.7;\"/>\r\n   </g>\r\n   <g id=\"line2d_217\">\r\n    <path clip-path=\"url(#pfbeaa180d2)\" style=\"fill:none;stroke:#424242;stroke-linecap:square;stroke-width:2.7;\"/>\r\n   </g>\r\n   <g id=\"line2d_218\">\r\n    <path clip-path=\"url(#pfbeaa180d2)\" style=\"fill:none;stroke:#424242;stroke-linecap:square;stroke-width:2.7;\"/>\r\n   </g>\r\n   <g id=\"line2d_219\">\r\n    <path clip-path=\"url(#pfbeaa180d2)\" style=\"fill:none;stroke:#424242;stroke-linecap:square;stroke-width:2.7;\"/>\r\n   </g>\r\n   <g id=\"line2d_220\">\r\n    <path clip-path=\"url(#pfbeaa180d2)\" style=\"fill:none;stroke:#424242;stroke-linecap:square;stroke-width:2.7;\"/>\r\n   </g>\r\n   <g id=\"line2d_221\">\r\n    <path clip-path=\"url(#pfbeaa180d2)\" style=\"fill:none;stroke:#424242;stroke-linecap:square;stroke-width:2.7;\"/>\r\n   </g>\r\n   <g id=\"line2d_222\">\r\n    <path clip-path=\"url(#pfbeaa180d2)\" style=\"fill:none;stroke:#424242;stroke-linecap:square;stroke-width:2.7;\"/>\r\n   </g>\r\n   <g id=\"line2d_223\">\r\n    <path clip-path=\"url(#pfbeaa180d2)\" style=\"fill:none;stroke:#424242;stroke-linecap:square;stroke-width:2.7;\"/>\r\n   </g>\r\n   <g id=\"line2d_224\">\r\n    <path clip-path=\"url(#pfbeaa180d2)\" style=\"fill:none;stroke:#424242;stroke-linecap:square;stroke-width:2.7;\"/>\r\n   </g>\r\n   <g id=\"line2d_225\">\r\n    <path clip-path=\"url(#pfbeaa180d2)\" style=\"fill:none;stroke:#424242;stroke-linecap:square;stroke-width:2.7;\"/>\r\n   </g>\r\n   <g id=\"line2d_226\">\r\n    <path clip-path=\"url(#pfbeaa180d2)\" style=\"fill:none;stroke:#424242;stroke-linecap:square;stroke-width:2.7;\"/>\r\n   </g>\r\n   <g id=\"line2d_227\">\r\n    <path clip-path=\"url(#pfbeaa180d2)\" style=\"fill:none;stroke:#424242;stroke-linecap:square;stroke-width:2.7;\"/>\r\n   </g>\r\n   <g id=\"line2d_228\">\r\n    <path clip-path=\"url(#pfbeaa180d2)\" style=\"fill:none;stroke:#424242;stroke-linecap:square;stroke-width:2.7;\"/>\r\n   </g>\r\n   <g id=\"line2d_229\">\r\n    <path clip-path=\"url(#pfbeaa180d2)\" style=\"fill:none;stroke:#424242;stroke-linecap:square;stroke-width:2.7;\"/>\r\n   </g>\r\n   <g id=\"line2d_230\">\r\n    <path clip-path=\"url(#pfbeaa180d2)\" style=\"fill:none;stroke:#424242;stroke-linecap:square;stroke-width:2.7;\"/>\r\n   </g>\r\n   <g id=\"line2d_231\">\r\n    <path clip-path=\"url(#pfbeaa180d2)\" style=\"fill:none;stroke:#424242;stroke-linecap:square;stroke-width:2.7;\"/>\r\n   </g>\r\n   <g id=\"line2d_232\">\r\n    <path clip-path=\"url(#pfbeaa180d2)\" style=\"fill:none;stroke:#424242;stroke-linecap:square;stroke-width:2.7;\"/>\r\n   </g>\r\n   <g id=\"line2d_233\">\r\n    <path clip-path=\"url(#pfbeaa180d2)\" style=\"fill:none;stroke:#424242;stroke-linecap:square;stroke-width:2.7;\"/>\r\n   </g>\r\n   <g id=\"line2d_234\">\r\n    <path clip-path=\"url(#pfbeaa180d2)\" style=\"fill:none;stroke:#424242;stroke-linecap:square;stroke-width:2.7;\"/>\r\n   </g>\r\n   <g id=\"patch_116\">\r\n    <path d=\"M 84.534375 673.718125 \r\nL 84.534375 22.318125 \r\n\" style=\"fill:none;stroke:#000000;stroke-linecap:square;stroke-linejoin:miter;stroke-width:0.8;\"/>\r\n   </g>\r\n   <g id=\"patch_117\">\r\n    <path d=\"M 1415.606218 673.718125 \r\nL 1415.606218 22.318125 \r\n\" style=\"fill:none;stroke:#000000;stroke-linecap:square;stroke-linejoin:miter;stroke-width:0.8;\"/>\r\n   </g>\r\n   <g id=\"patch_118\">\r\n    <path d=\"M 84.534375 673.718125 \r\nL 1415.606218 673.718125 \r\n\" style=\"fill:none;stroke:#000000;stroke-linecap:square;stroke-linejoin:miter;stroke-width:0.8;\"/>\r\n   </g>\r\n   <g id=\"patch_119\">\r\n    <path d=\"M 84.534375 22.318125 \r\nL 1415.606218 22.318125 \r\n\" style=\"fill:none;stroke:#000000;stroke-linecap:square;stroke-linejoin:miter;stroke-width:0.8;\"/>\r\n   </g>\r\n   <g id=\"text_124\">\r\n    <!-- XGBoost Feature Importances -->\r\n    <defs>\r\n     <path d=\"M 6.296875 72.90625 \r\nL 16.890625 72.90625 \r\nL 35.015625 45.796875 \r\nL 53.21875 72.90625 \r\nL 63.8125 72.90625 \r\nL 40.375 37.890625 \r\nL 65.375 0 \r\nL 54.78125 0 \r\nL 34.28125 31 \r\nL 13.625 0 \r\nL 2.984375 0 \r\nL 29 38.921875 \r\nz\r\n\" id=\"DejaVuSans-88\"/>\r\n     <path d=\"M 59.515625 10.40625 \r\nL 59.515625 29.984375 \r\nL 43.40625 29.984375 \r\nL 43.40625 38.09375 \r\nL 69.28125 38.09375 \r\nL 69.28125 6.78125 \r\nQ 63.578125 2.734375 56.6875 0.65625 \r\nQ 49.8125 -1.421875 42 -1.421875 \r\nQ 24.90625 -1.421875 15.25 8.5625 \r\nQ 5.609375 18.5625 5.609375 36.375 \r\nQ 5.609375 54.25 15.25 64.234375 \r\nQ 24.90625 74.21875 42 74.21875 \r\nQ 49.125 74.21875 55.546875 72.453125 \r\nQ 61.96875 70.703125 67.390625 67.28125 \r\nL 67.390625 56.78125 \r\nQ 61.921875 61.421875 55.765625 63.765625 \r\nQ 49.609375 66.109375 42.828125 66.109375 \r\nQ 29.4375 66.109375 22.71875 58.640625 \r\nQ 16.015625 51.171875 16.015625 36.375 \r\nQ 16.015625 21.625 22.71875 14.15625 \r\nQ 29.4375 6.6875 42.828125 6.6875 \r\nQ 48.046875 6.6875 52.140625 7.59375 \r\nQ 56.25 8.5 59.515625 10.40625 \r\nz\r\n\" id=\"DejaVuSans-71\"/>\r\n     <path d=\"M 19.671875 34.8125 \r\nL 19.671875 8.109375 \r\nL 35.5 8.109375 \r\nQ 43.453125 8.109375 47.28125 11.40625 \r\nQ 51.125 14.703125 51.125 21.484375 \r\nQ 51.125 28.328125 47.28125 31.5625 \r\nQ 43.453125 34.8125 35.5 34.8125 \r\nz\r\nM 19.671875 64.796875 \r\nL 19.671875 42.828125 \r\nL 34.28125 42.828125 \r\nQ 41.5 42.828125 45.03125 45.53125 \r\nQ 48.578125 48.25 48.578125 53.8125 \r\nQ 48.578125 59.328125 45.03125 62.0625 \r\nQ 41.5 64.796875 34.28125 64.796875 \r\nz\r\nM 9.8125 72.90625 \r\nL 35.015625 72.90625 \r\nQ 46.296875 72.90625 52.390625 68.21875 \r\nQ 58.5 63.53125 58.5 54.890625 \r\nQ 58.5 48.1875 55.375 44.234375 \r\nQ 52.25 40.28125 46.1875 39.3125 \r\nQ 53.46875 37.75 57.5 32.78125 \r\nQ 61.53125 27.828125 61.53125 20.40625 \r\nQ 61.53125 10.640625 54.890625 5.3125 \r\nQ 48.25 0 35.984375 0 \r\nL 9.8125 0 \r\nz\r\n\" id=\"DejaVuSans-66\"/>\r\n     <path d=\"M 30.609375 48.390625 \r\nQ 23.390625 48.390625 19.1875 42.75 \r\nQ 14.984375 37.109375 14.984375 27.296875 \r\nQ 14.984375 17.484375 19.15625 11.84375 \r\nQ 23.34375 6.203125 30.609375 6.203125 \r\nQ 37.796875 6.203125 41.984375 11.859375 \r\nQ 46.1875 17.53125 46.1875 27.296875 \r\nQ 46.1875 37.015625 41.984375 42.703125 \r\nQ 37.796875 48.390625 30.609375 48.390625 \r\nz\r\nM 30.609375 56 \r\nQ 42.328125 56 49.015625 48.375 \r\nQ 55.71875 40.765625 55.71875 27.296875 \r\nQ 55.71875 13.875 49.015625 6.21875 \r\nQ 42.328125 -1.421875 30.609375 -1.421875 \r\nQ 18.84375 -1.421875 12.171875 6.21875 \r\nQ 5.515625 13.875 5.515625 27.296875 \r\nQ 5.515625 40.765625 12.171875 48.375 \r\nQ 18.84375 56 30.609375 56 \r\nz\r\n\" id=\"DejaVuSans-111\"/>\r\n     <path id=\"DejaVuSans-32\"/>\r\n     <path d=\"M 9.8125 72.90625 \r\nL 19.671875 72.90625 \r\nL 19.671875 0 \r\nL 9.8125 0 \r\nz\r\n\" id=\"DejaVuSans-73\"/>\r\n     <path d=\"M 52 44.1875 \r\nQ 55.375 50.25 60.0625 53.125 \r\nQ 64.75 56 71.09375 56 \r\nQ 79.640625 56 84.28125 50.015625 \r\nQ 88.921875 44.046875 88.921875 33.015625 \r\nL 88.921875 0 \r\nL 79.890625 0 \r\nL 79.890625 32.71875 \r\nQ 79.890625 40.578125 77.09375 44.375 \r\nQ 74.3125 48.1875 68.609375 48.1875 \r\nQ 61.625 48.1875 57.5625 43.546875 \r\nQ 53.515625 38.921875 53.515625 30.90625 \r\nL 53.515625 0 \r\nL 44.484375 0 \r\nL 44.484375 32.71875 \r\nQ 44.484375 40.625 41.703125 44.40625 \r\nQ 38.921875 48.1875 33.109375 48.1875 \r\nQ 26.21875 48.1875 22.15625 43.53125 \r\nQ 18.109375 38.875 18.109375 30.90625 \r\nL 18.109375 0 \r\nL 9.078125 0 \r\nL 9.078125 54.6875 \r\nL 18.109375 54.6875 \r\nL 18.109375 46.1875 \r\nQ 21.1875 51.21875 25.484375 53.609375 \r\nQ 29.78125 56 35.6875 56 \r\nQ 41.65625 56 45.828125 52.96875 \r\nQ 50 49.953125 52 44.1875 \r\nz\r\n\" id=\"DejaVuSans-109\"/>\r\n     <path d=\"M 18.109375 8.203125 \r\nL 18.109375 -20.796875 \r\nL 9.078125 -20.796875 \r\nL 9.078125 54.6875 \r\nL 18.109375 54.6875 \r\nL 18.109375 46.390625 \r\nQ 20.953125 51.265625 25.265625 53.625 \r\nQ 29.59375 56 35.59375 56 \r\nQ 45.5625 56 51.78125 48.09375 \r\nQ 58.015625 40.1875 58.015625 27.296875 \r\nQ 58.015625 14.40625 51.78125 6.484375 \r\nQ 45.5625 -1.421875 35.59375 -1.421875 \r\nQ 29.59375 -1.421875 25.265625 0.953125 \r\nQ 20.953125 3.328125 18.109375 8.203125 \r\nz\r\nM 48.6875 27.296875 \r\nQ 48.6875 37.203125 44.609375 42.84375 \r\nQ 40.53125 48.484375 33.40625 48.484375 \r\nQ 26.265625 48.484375 22.1875 42.84375 \r\nQ 18.109375 37.203125 18.109375 27.296875 \r\nQ 18.109375 17.390625 22.1875 11.75 \r\nQ 26.265625 6.109375 33.40625 6.109375 \r\nQ 40.53125 6.109375 44.609375 11.75 \r\nQ 48.6875 17.390625 48.6875 27.296875 \r\nz\r\n\" id=\"DejaVuSans-112\"/>\r\n     <path d=\"M 54.890625 33.015625 \r\nL 54.890625 0 \r\nL 45.90625 0 \r\nL 45.90625 32.71875 \r\nQ 45.90625 40.484375 42.875 44.328125 \r\nQ 39.84375 48.1875 33.796875 48.1875 \r\nQ 26.515625 48.1875 22.3125 43.546875 \r\nQ 18.109375 38.921875 18.109375 30.90625 \r\nL 18.109375 0 \r\nL 9.078125 0 \r\nL 9.078125 54.6875 \r\nL 18.109375 54.6875 \r\nL 18.109375 46.1875 \r\nQ 21.34375 51.125 25.703125 53.5625 \r\nQ 30.078125 56 35.796875 56 \r\nQ 45.21875 56 50.046875 50.171875 \r\nQ 54.890625 44.34375 54.890625 33.015625 \r\nz\r\n\" id=\"DejaVuSans-110\"/>\r\n     <path d=\"M 48.78125 52.59375 \r\nL 48.78125 44.1875 \r\nQ 44.96875 46.296875 41.140625 47.34375 \r\nQ 37.3125 48.390625 33.40625 48.390625 \r\nQ 24.65625 48.390625 19.8125 42.84375 \r\nQ 14.984375 37.3125 14.984375 27.296875 \r\nQ 14.984375 17.28125 19.8125 11.734375 \r\nQ 24.65625 6.203125 33.40625 6.203125 \r\nQ 37.3125 6.203125 41.140625 7.25 \r\nQ 44.96875 8.296875 48.78125 10.40625 \r\nL 48.78125 2.09375 \r\nQ 45.015625 0.34375 40.984375 -0.53125 \r\nQ 36.96875 -1.421875 32.421875 -1.421875 \r\nQ 20.0625 -1.421875 12.78125 6.34375 \r\nQ 5.515625 14.109375 5.515625 27.296875 \r\nQ 5.515625 40.671875 12.859375 48.328125 \r\nQ 20.21875 56 33.015625 56 \r\nQ 37.15625 56 41.109375 55.140625 \r\nQ 45.0625 54.296875 48.78125 52.59375 \r\nz\r\n\" id=\"DejaVuSans-99\"/>\r\n    </defs>\r\n    <g transform=\"translate(660.383422 16.318125)scale(0.12 -0.12)\">\r\n     <use xlink:href=\"#DejaVuSans-88\"/>\r\n     <use x=\"68.505859\" xlink:href=\"#DejaVuSans-71\"/>\r\n     <use x=\"145.996094\" xlink:href=\"#DejaVuSans-66\"/>\r\n     <use x=\"214.599609\" xlink:href=\"#DejaVuSans-111\"/>\r\n     <use x=\"275.78125\" xlink:href=\"#DejaVuSans-111\"/>\r\n     <use x=\"336.962891\" xlink:href=\"#DejaVuSans-115\"/>\r\n     <use x=\"389.0625\" xlink:href=\"#DejaVuSans-116\"/>\r\n     <use x=\"428.271484\" xlink:href=\"#DejaVuSans-32\"/>\r\n     <use x=\"460.058594\" xlink:href=\"#DejaVuSans-70\"/>\r\n     <use x=\"512.078125\" xlink:href=\"#DejaVuSans-101\"/>\r\n     <use x=\"573.601562\" xlink:href=\"#DejaVuSans-97\"/>\r\n     <use x=\"634.880859\" xlink:href=\"#DejaVuSans-116\"/>\r\n     <use x=\"674.089844\" xlink:href=\"#DejaVuSans-117\"/>\r\n     <use x=\"737.46875\" xlink:href=\"#DejaVuSans-114\"/>\r\n     <use x=\"776.332031\" xlink:href=\"#DejaVuSans-101\"/>\r\n     <use x=\"837.855469\" xlink:href=\"#DejaVuSans-32\"/>\r\n     <use x=\"869.642578\" xlink:href=\"#DejaVuSans-73\"/>\r\n     <use x=\"899.134766\" xlink:href=\"#DejaVuSans-109\"/>\r\n     <use x=\"996.546875\" xlink:href=\"#DejaVuSans-112\"/>\r\n     <use x=\"1060.023438\" xlink:href=\"#DejaVuSans-111\"/>\r\n     <use x=\"1121.205078\" xlink:href=\"#DejaVuSans-114\"/>\r\n     <use x=\"1162.318359\" xlink:href=\"#DejaVuSans-116\"/>\r\n     <use x=\"1201.527344\" xlink:href=\"#DejaVuSans-97\"/>\r\n     <use x=\"1262.806641\" xlink:href=\"#DejaVuSans-110\"/>\r\n     <use x=\"1326.185547\" xlink:href=\"#DejaVuSans-99\"/>\r\n     <use x=\"1381.166016\" xlink:href=\"#DejaVuSans-101\"/>\r\n     <use x=\"1442.689453\" xlink:href=\"#DejaVuSans-115\"/>\r\n    </g>\r\n   </g>\r\n  </g>\r\n </g>\r\n <defs>\r\n  <clipPath id=\"pfbeaa180d2\">\r\n   <rect height=\"651.4\" width=\"1331.071843\" x=\"84.534375\" y=\"22.318125\"/>\r\n  </clipPath>\r\n </defs>\r\n</svg>\r\n",
      "image/png": "[encoded data removed]"
     },
     "metadata": {
      "needs_background": "light"
     }
    }
   ],
   "metadata": {}
  },
  {
   "cell_type": "code",
   "execution_count": 20,
   "source": [
    "# Get and plot feature importances for LGBM\r\n",
    "\r\n",
    "#lgb.plot_importance(pipeline['lgbmregressor'], max_num_features=30)\r\n",
    "feature_names = pipeline['columntransformer'].named_transformers_['poly_feat_gen'].get_feature_names(X.columns)\r\n",
    "# feature_names = get_feature_names(pipeline['columntransformer'])))\r\n",
    "\r\n",
    "feature_imp = pd.DataFrame(sorted(zip(pipeline[\"xgbregressor\"].feature_importances_,feature_names)), columns=['Value','Feature'])\r\n",
    "feature_imp = feature_imp.sort_values(by=\"Value\", ascending=False)[feature_imp['Value'] > 2]\r\n",
    "\r\n",
    "plt.figure(figsize=(20, 10))\r\n",
    "sns.barplot(x=\"Value\", y=\"Feature\", data=feature_imp)\r\n",
    "plt.title('LightGBM Features (avg over folds)')\r\n",
    "plt.tight_layout()\r\n",
    "plt.show()"
   ],
   "outputs": [
    {
     "output_type": "error",
     "ename": "TypeError",
     "evalue": "zip() takes no keyword arguments",
     "traceback": [
      "\u001b[1;31m---------------------------------------------------------------------------\u001b[0m",
      "\u001b[1;31mTypeError\u001b[0m                                 Traceback (most recent call last)",
      "\u001b[1;32m<ipython-input-20-b3223dae2996>\u001b[0m in \u001b[0;36m<module>\u001b[1;34m\u001b[0m\n\u001b[0;32m      5\u001b[0m \u001b[1;31m# feature_names = get_feature_names(pipeline['columntransformer'])))\u001b[0m\u001b[1;33m\u001b[0m\u001b[1;33m\u001b[0m\u001b[1;33m\u001b[0m\u001b[0m\n\u001b[0;32m      6\u001b[0m \u001b[1;33m\u001b[0m\u001b[0m\n\u001b[1;32m----> 7\u001b[1;33m \u001b[0mfeature_imp\u001b[0m \u001b[1;33m=\u001b[0m \u001b[0mpd\u001b[0m\u001b[1;33m.\u001b[0m\u001b[0mDataFrame\u001b[0m\u001b[1;33m(\u001b[0m\u001b[0msorted\u001b[0m\u001b[1;33m(\u001b[0m\u001b[0mzip\u001b[0m\u001b[1;33m(\u001b[0m\u001b[0mpipeline\u001b[0m\u001b[1;33m[\u001b[0m\u001b[1;34m\"xgbregressor\"\u001b[0m\u001b[1;33m]\u001b[0m\u001b[1;33m.\u001b[0m\u001b[0mfeature_importances_\u001b[0m\u001b[1;33m,\u001b[0m\u001b[0mfeature_names\u001b[0m\u001b[1;33m,\u001b[0m \u001b[0mcolumns\u001b[0m\u001b[1;33m=\u001b[0m\u001b[1;33m[\u001b[0m\u001b[1;34m'Value'\u001b[0m\u001b[1;33m,\u001b[0m\u001b[1;34m'Feature'\u001b[0m\u001b[1;33m]\u001b[0m\u001b[1;33m)\u001b[0m\u001b[1;33m)\u001b[0m\u001b[1;33m)\u001b[0m\u001b[1;33m\u001b[0m\u001b[1;33m\u001b[0m\u001b[0m\n\u001b[0m\u001b[0;32m      8\u001b[0m \u001b[0mfeature_imp\u001b[0m \u001b[1;33m=\u001b[0m \u001b[0mfeature_imp\u001b[0m\u001b[1;33m.\u001b[0m\u001b[0msort_values\u001b[0m\u001b[1;33m(\u001b[0m\u001b[0mby\u001b[0m\u001b[1;33m=\u001b[0m\u001b[1;34m\"Value\"\u001b[0m\u001b[1;33m,\u001b[0m \u001b[0mascending\u001b[0m\u001b[1;33m=\u001b[0m\u001b[1;32mFalse\u001b[0m\u001b[1;33m)\u001b[0m\u001b[1;33m[\u001b[0m\u001b[0mfeature_imp\u001b[0m\u001b[1;33m[\u001b[0m\u001b[1;34m'Value'\u001b[0m\u001b[1;33m]\u001b[0m \u001b[1;33m>\u001b[0m \u001b[1;36m2\u001b[0m\u001b[1;33m]\u001b[0m\u001b[1;33m\u001b[0m\u001b[1;33m\u001b[0m\u001b[0m\n\u001b[0;32m      9\u001b[0m \u001b[1;33m\u001b[0m\u001b[0m\n",
      "\u001b[1;31mTypeError\u001b[0m: zip() takes no keyword arguments"
     ]
    }
   ],
   "metadata": {}
  },
  {
   "cell_type": "code",
   "execution_count": null,
   "source": [],
   "outputs": [],
   "metadata": {}
  },
  {
   "cell_type": "code",
   "execution_count": null,
   "source": [
    "important_features = feature_imp['Feature'].str.replace('scaler__', '')\r\n",
    "important_features.count()"
   ],
   "outputs": [
    {
     "output_type": "execute_result",
     "data": {
      "text/plain": [
       "32"
      ]
     },
     "metadata": {},
     "execution_count": 32
    }
   ],
   "metadata": {}
  },
  {
   "cell_type": "code",
   "execution_count": 52,
   "source": [
    "#get_feature_names(pipeline['columntransformer'])\r\n",
    "#pipeline['columntransformer'].named_transformers_['poly_feat_gen'].get_feature_names(X.columns)"
   ],
   "outputs": [],
   "metadata": {}
  },
  {
   "cell_type": "code",
   "execution_count": null,
   "source": [
    "# Boxplots\r\n",
    "#sns.set(rc={'figure.figsize':(15,10)})\r\n",
    "#sns.boxplot(data=data[numerical_columns])\r\n",
    "#ct.named_transformers_['poly'].get_feature_names()"
   ],
   "outputs": [],
   "metadata": {}
  },
  {
   "cell_type": "code",
   "execution_count": null,
   "source": [
    "from sklearn.metrics import mean_squared_error\r\n",
    "import math\r\n",
    "\r\n",
    "preds = pipeline.predict(X_test) #[numerical_columns]\r\n",
    "error = mean_squared_error(y_test, preds, squared=False)\r\n",
    "print(\"RMSE:\", error)\r\n",
    "\r\n",
    "preds = pipeline.predict(X_train) #[numerical_columns]\r\n",
    "error = mean_squared_error(y_train, preds, squared=False)\r\n",
    "print(\"RMSE:\", error)"
   ],
   "outputs": [
    {
     "output_type": "stream",
     "name": "stdout",
     "text": [
      "RMSE: 7.8685223675208595\n",
      "RMSE: 7.84262664507458\n"
     ]
    }
   ],
   "metadata": {}
  },
  {
   "cell_type": "markdown",
   "source": [
    "# Hyperparameter tuning"
   ],
   "metadata": {}
  },
  {
   "cell_type": "code",
   "execution_count": null,
   "source": [
    "import optuna\r\n",
    "from sklearn import model_selection\r\n",
    "\r\n",
    "def objective(trial):\r\n",
    "    params = { #lgbmregressor__\r\n",
    "        'n_estimators': trial.suggest_int(\"n_estimators\", 100, 500, step = 20),\r\n",
    "        'learning_rate': trial.suggest_float(\"learning_rate\", 0.01, 1, step = 0.01),\r\n",
    "        'max_depth': trial.suggest_int(\"max_depth\", 1, 50, step = 5),\r\n",
    "        \"num_leaves\": trial.suggest_int(\"num_leaves\", 2, 50, step = 20),\r\n",
    "    }\r\n",
    "\r\n",
    "    pipeline  = make_pipeline(ct, lgb.LGBMRegressor(**params, metric=\"rmse\", random_state=42))\r\n",
    "    #pipeline.fit(X_train, y_train)\r\n",
    "    #preds = pipeline.predict(X_test) #[numerical_columns]\r\n",
    "    #error = mean_squared_error(y_test, preds, squared=False)\r\n",
    "    score = model_selection.cross_val_score(pipeline, X, y, n_jobs=-1, cv=5, scoring='neg_root_mean_squared_error')\r\n",
    "    rmse = -score.mean()\r\n",
    "    print(\"RMSE:\", rmse)\r\n",
    "    return rmse\r\n",
    "\r\n",
    "study = optuna.create_study(direction=\"minimize\")\r\n",
    "study.optimize(objective, n_trials=200)\r\n",
    "\r\n",
    "\r\n"
   ],
   "outputs": [
    {
     "output_type": "stream",
     "name": "stderr",
     "text": [
      "\u001b[32m[I 2021-08-06 23:12:25,305]\u001b[0m A new study created in memory with name: no-name-b3b131fc-2e50-4c63-ba99-39fe0d8a0eef\u001b[0m\n",
      "\u001b[32m[I 2021-08-06 23:17:05,755]\u001b[0m Trial 0 finished with value: 8.195338958696178 and parameters: {'n_estimators': 120, 'learning_rate': 0.67, 'max_depth': 46, 'num_leaves': 22}. Best is trial 0 with value: 8.195338958696178.\u001b[0m\n"
     ]
    },
    {
     "output_type": "stream",
     "name": "stdout",
     "text": [
      "RMSE: 8.195338958696178\n"
     ]
    },
    {
     "output_type": "stream",
     "name": "stderr",
     "text": [
      "\u001b[32m[I 2021-08-06 23:24:22,666]\u001b[0m Trial 1 finished with value: 7.949332523402974 and parameters: {'n_estimators': 280, 'learning_rate': 0.22, 'max_depth': 31, 'num_leaves': 22}. Best is trial 1 with value: 7.949332523402974.\u001b[0m\n"
     ]
    },
    {
     "output_type": "stream",
     "name": "stdout",
     "text": [
      "RMSE: 7.949332523402974\n"
     ]
    },
    {
     "output_type": "stream",
     "name": "stderr",
     "text": [
      "\u001b[32m[I 2021-08-06 23:33:45,774]\u001b[0m Trial 2 finished with value: 8.518984978746357 and parameters: {'n_estimators': 280, 'learning_rate': 0.52, 'max_depth': 36, 'num_leaves': 42}. Best is trial 1 with value: 7.949332523402974.\u001b[0m\n"
     ]
    },
    {
     "output_type": "stream",
     "name": "stdout",
     "text": [
      "RMSE: 8.518984978746357\n"
     ]
    },
    {
     "output_type": "stream",
     "name": "stderr",
     "text": [
      "\u001b[32m[I 2021-08-06 23:48:07,706]\u001b[0m Trial 3 finished with value: 8.769568188533423 and parameters: {'n_estimators': 460, 'learning_rate': 0.68, 'max_depth': 41, 'num_leaves': 22}. Best is trial 1 with value: 7.949332523402974.\u001b[0m\n"
     ]
    },
    {
     "output_type": "stream",
     "name": "stdout",
     "text": [
      "RMSE: 8.769568188533423\n"
     ]
    },
    {
     "output_type": "stream",
     "name": "stderr",
     "text": [
      "\u001b[32m[I 2021-08-06 23:53:51,239]\u001b[0m Trial 4 finished with value: 7.883191291654936 and parameters: {'n_estimators': 200, 'learning_rate': 0.31, 'max_depth': 36, 'num_leaves': 2}. Best is trial 4 with value: 7.883191291654936.\u001b[0m\n"
     ]
    },
    {
     "output_type": "stream",
     "name": "stdout",
     "text": [
      "RMSE: 7.883191291654936\n"
     ]
    },
    {
     "output_type": "stream",
     "name": "stderr",
     "text": [
      "\u001b[32m[I 2021-08-06 23:58:50,446]\u001b[0m Trial 5 finished with value: 7.8965937700146425 and parameters: {'n_estimators': 180, 'learning_rate': 0.14, 'max_depth': 1, 'num_leaves': 42}. Best is trial 4 with value: 7.883191291654936.\u001b[0m\n"
     ]
    },
    {
     "output_type": "stream",
     "name": "stdout",
     "text": [
      "RMSE: 7.8965937700146425\n"
     ]
    },
    {
     "output_type": "stream",
     "name": "stderr",
     "text": [
      "\u001b[32m[I 2021-08-07 00:03:50,744]\u001b[0m Trial 6 finished with value: 8.488863495735215 and parameters: {'n_estimators': 140, 'learning_rate': 0.89, 'max_depth': 46, 'num_leaves': 22}. Best is trial 4 with value: 7.883191291654936.\u001b[0m\n"
     ]
    },
    {
     "output_type": "stream",
     "name": "stdout",
     "text": [
      "RMSE: 8.488863495735215\n"
     ]
    }
   ],
   "metadata": {
    "tags": []
   }
  },
  {
   "cell_type": "code",
   "execution_count": null,
   "source": [
    "important_features"
   ],
   "outputs": [
    {
     "output_type": "error",
     "ename": "NameError",
     "evalue": "name 'important_features' is not defined",
     "traceback": [
      "\u001b[1;31m---------------------------------------------------------------------------\u001b[0m",
      "\u001b[1;31mNameError\u001b[0m                                 Traceback (most recent call last)",
      "\u001b[1;32m<ipython-input-3-b108aa7d7b32>\u001b[0m in \u001b[0;36m<module>\u001b[1;34m\u001b[0m\n\u001b[1;32m----> 1\u001b[1;33m \u001b[0mimportant_features\u001b[0m\u001b[1;33m\u001b[0m\u001b[1;33m\u001b[0m\u001b[0m\n\u001b[0m",
      "\u001b[1;31mNameError\u001b[0m: name 'important_features' is not defined"
     ]
    }
   ],
   "metadata": {}
  },
  {
   "cell_type": "code",
   "execution_count": null,
   "source": [
    "from optuna.visualization.matplotlib import plot_optimization_history\r\n",
    "\r\n",
    "plot_optimization_history(study)"
   ],
   "outputs": [],
   "metadata": {}
  },
  {
   "cell_type": "code",
   "execution_count": null,
   "source": [
    "from optuna.visualization.matplotlib import plot_param_importances\r\n",
    "\r\n",
    "plot_param_importances(study)"
   ],
   "outputs": [],
   "metadata": {}
  },
  {
   "cell_type": "markdown",
   "source": [
    "# Randomized Search"
   ],
   "metadata": {}
  },
  {
   "cell_type": "code",
   "execution_count": null,
   "source": [
    "# Do some hyperparameter tuning\r\n",
    "from sklearn.model_selection import RandomizedSearchCV\r\n",
    "\r\n",
    "param_dist = {  'lgbmregressor__n_estimators': [100, 150, 200, 250, 300],\r\n",
    "                'lgbmregressor__learning_rate': [0.01, 0.05, 0.1, 0.2],\r\n",
    "                'lgbmregressor__max_depth': [15, 20, 25, 30],\r\n",
    "                #'lgbmregressor__num_leaves': 32,\r\n",
    "                #'lgbmregressor__feature_fraction': 0.8,\r\n",
    "                #'lgbmregressor__subsample': 0.2\r\n",
    "                }\r\n",
    "\r\n",
    "search = RandomizedSearchCV(pipeline, param_distributions=param_dist, cv=5, n_iter=10)\r\n",
    "search.fit(X_train, y_train)\r\n",
    "print(search.best_params_)\r\n",
    "print(\"search done for cm\")"
   ],
   "outputs": [
    {
     "output_type": "stream",
     "name": "stdout",
     "text": [
      "[LightGBM] [Warning] Accuracy may be bad since you didn't explicitly set num_leaves OR 2^max_depth > num_leaves. (num_leaves=31).\n",
      "[LightGBM] [Warning] Accuracy may be bad since you didn't explicitly set num_leaves OR 2^max_depth > num_leaves. (num_leaves=31).\n",
      "[LightGBM] [Warning] Accuracy may be bad since you didn't explicitly set num_leaves OR 2^max_depth > num_leaves. (num_leaves=31).\n",
      "[LightGBM] [Warning] Accuracy may be bad since you didn't explicitly set num_leaves OR 2^max_depth > num_leaves. (num_leaves=31).\n",
      "[LightGBM] [Warning] Accuracy may be bad since you didn't explicitly set num_leaves OR 2^max_depth > num_leaves. (num_leaves=31).\n",
      "[LightGBM] [Warning] Accuracy may be bad since you didn't explicitly set num_leaves OR 2^max_depth > num_leaves. (num_leaves=31).\n",
      "[LightGBM] [Warning] Accuracy may be bad since you didn't explicitly set num_leaves OR 2^max_depth > num_leaves. (num_leaves=31).\n",
      "[LightGBM] [Warning] Accuracy may be bad since you didn't explicitly set num_leaves OR 2^max_depth > num_leaves. (num_leaves=31).\n",
      "[LightGBM] [Warning] Accuracy may be bad since you didn't explicitly set num_leaves OR 2^max_depth > num_leaves. (num_leaves=31).\n",
      "[LightGBM] [Warning] Accuracy may be bad since you didn't explicitly set num_leaves OR 2^max_depth > num_leaves. (num_leaves=31).\n",
      "[LightGBM] [Warning] Accuracy may be bad since you didn't explicitly set num_leaves OR 2^max_depth > num_leaves. (num_leaves=31).\n",
      "[LightGBM] [Warning] Accuracy may be bad since you didn't explicitly set num_leaves OR 2^max_depth > num_leaves. (num_leaves=31).\n",
      "[LightGBM] [Warning] Accuracy may be bad since you didn't explicitly set num_leaves OR 2^max_depth > num_leaves. (num_leaves=31).\n",
      "[LightGBM] [Warning] Accuracy may be bad since you didn't explicitly set num_leaves OR 2^max_depth > num_leaves. (num_leaves=31).\n",
      "[LightGBM] [Warning] Accuracy may be bad since you didn't explicitly set num_leaves OR 2^max_depth > num_leaves. (num_leaves=31).\n",
      "[LightGBM] [Warning] Accuracy may be bad since you didn't explicitly set num_leaves OR 2^max_depth > num_leaves. (num_leaves=31).\n",
      "[LightGBM] [Warning] Accuracy may be bad since you didn't explicitly set num_leaves OR 2^max_depth > num_leaves. (num_leaves=31).\n",
      "[LightGBM] [Warning] Accuracy may be bad since you didn't explicitly set num_leaves OR 2^max_depth > num_leaves. (num_leaves=31).\n",
      "[LightGBM] [Warning] Accuracy may be bad since you didn't explicitly set num_leaves OR 2^max_depth > num_leaves. (num_leaves=31).\n",
      "[LightGBM] [Warning] Accuracy may be bad since you didn't explicitly set num_leaves OR 2^max_depth > num_leaves. (num_leaves=31).\n",
      "[LightGBM] [Warning] Accuracy may be bad since you didn't explicitly set num_leaves OR 2^max_depth > num_leaves. (num_leaves=31).\n",
      "[LightGBM] [Warning] Accuracy may be bad since you didn't explicitly set num_leaves OR 2^max_depth > num_leaves. (num_leaves=31).\n",
      "[LightGBM] [Warning] Accuracy may be bad since you didn't explicitly set num_leaves OR 2^max_depth > num_leaves. (num_leaves=31).\n",
      "[LightGBM] [Warning] Accuracy may be bad since you didn't explicitly set num_leaves OR 2^max_depth > num_leaves. (num_leaves=31).\n",
      "[LightGBM] [Warning] Accuracy may be bad since you didn't explicitly set num_leaves OR 2^max_depth > num_leaves. (num_leaves=31).\n",
      "[LightGBM] [Warning] Accuracy may be bad since you didn't explicitly set num_leaves OR 2^max_depth > num_leaves. (num_leaves=31).\n",
      "[LightGBM] [Warning] Accuracy may be bad since you didn't explicitly set num_leaves OR 2^max_depth > num_leaves. (num_leaves=31).\n",
      "[LightGBM] [Warning] Accuracy may be bad since you didn't explicitly set num_leaves OR 2^max_depth > num_leaves. (num_leaves=31).\n",
      "[LightGBM] [Warning] Accuracy may be bad since you didn't explicitly set num_leaves OR 2^max_depth > num_leaves. (num_leaves=31).\n",
      "[LightGBM] [Warning] Accuracy may be bad since you didn't explicitly set num_leaves OR 2^max_depth > num_leaves. (num_leaves=31).\n",
      "[LightGBM] [Warning] Accuracy may be bad since you didn't explicitly set num_leaves OR 2^max_depth > num_leaves. (num_leaves=31).\n",
      "[LightGBM] [Warning] Accuracy may be bad since you didn't explicitly set num_leaves OR 2^max_depth > num_leaves. (num_leaves=31).\n",
      "[LightGBM] [Warning] Accuracy may be bad since you didn't explicitly set num_leaves OR 2^max_depth > num_leaves. (num_leaves=31).\n",
      "[LightGBM] [Warning] Accuracy may be bad since you didn't explicitly set num_leaves OR 2^max_depth > num_leaves. (num_leaves=31).\n",
      "[LightGBM] [Warning] Accuracy may be bad since you didn't explicitly set num_leaves OR 2^max_depth > num_leaves. (num_leaves=31).\n",
      "[LightGBM] [Warning] Accuracy may be bad since you didn't explicitly set num_leaves OR 2^max_depth > num_leaves. (num_leaves=31).\n",
      "[LightGBM] [Warning] Accuracy may be bad since you didn't explicitly set num_leaves OR 2^max_depth > num_leaves. (num_leaves=31).\n",
      "[LightGBM] [Warning] Accuracy may be bad since you didn't explicitly set num_leaves OR 2^max_depth > num_leaves. (num_leaves=31).\n",
      "[LightGBM] [Warning] Accuracy may be bad since you didn't explicitly set num_leaves OR 2^max_depth > num_leaves. (num_leaves=31).\n",
      "[LightGBM] [Warning] Accuracy may be bad since you didn't explicitly set num_leaves OR 2^max_depth > num_leaves. (num_leaves=31).\n",
      "[LightGBM] [Warning] Accuracy may be bad since you didn't explicitly set num_leaves OR 2^max_depth > num_leaves. (num_leaves=31).\n",
      "[LightGBM] [Warning] Accuracy may be bad since you didn't explicitly set num_leaves OR 2^max_depth > num_leaves. (num_leaves=31).\n",
      "[LightGBM] [Warning] Accuracy may be bad since you didn't explicitly set num_leaves OR 2^max_depth > num_leaves. (num_leaves=31).\n",
      "[LightGBM] [Warning] Accuracy may be bad since you didn't explicitly set num_leaves OR 2^max_depth > num_leaves. (num_leaves=31).\n",
      "[LightGBM] [Warning] Accuracy may be bad since you didn't explicitly set num_leaves OR 2^max_depth > num_leaves. (num_leaves=31).\n",
      "[LightGBM] [Warning] Accuracy may be bad since you didn't explicitly set num_leaves OR 2^max_depth > num_leaves. (num_leaves=31).\n",
      "[LightGBM] [Warning] Accuracy may be bad since you didn't explicitly set num_leaves OR 2^max_depth > num_leaves. (num_leaves=31).\n",
      "[LightGBM] [Warning] Accuracy may be bad since you didn't explicitly set num_leaves OR 2^max_depth > num_leaves. (num_leaves=31).\n",
      "[LightGBM] [Warning] Accuracy may be bad since you didn't explicitly set num_leaves OR 2^max_depth > num_leaves. (num_leaves=31).\n",
      "[LightGBM] [Warning] Accuracy may be bad since you didn't explicitly set num_leaves OR 2^max_depth > num_leaves. (num_leaves=31).\n",
      "[LightGBM] [Warning] Accuracy may be bad since you didn't explicitly set num_leaves OR 2^max_depth > num_leaves. (num_leaves=31).\n",
      "{'lgbmregressor__n_estimators': 150, 'lgbmregressor__max_depth': 15, 'lgbmregressor__learning_rate': 0.05}\n",
      "search done for cm\n"
     ]
    }
   ],
   "metadata": {}
  },
  {
   "cell_type": "code",
   "execution_count": null,
   "source": [
    "pipeline = search\r\n",
    "\r\n",
    "# make submission predictions\r\n",
    "#pred_tuned = search.predict(X_test) "
   ],
   "outputs": [],
   "metadata": {}
  },
  {
   "cell_type": "markdown",
   "source": [
    "# Score holdout file for submission"
   ],
   "metadata": {}
  },
  {
   "cell_type": "code",
   "execution_count": 51,
   "source": [
    "test_data = pd.read_csv('data/test.csv', index_col=0)\r\n",
    "test_data = GenerateFeatures(test_data)"
   ],
   "outputs": [],
   "metadata": {}
  },
  {
   "cell_type": "code",
   "execution_count": null,
   "source": [
    "# make submission predictions\r\n",
    "\r\n",
    "holdout_pred = pipeline.predict(test_data)"
   ],
   "outputs": [],
   "metadata": {}
  },
  {
   "cell_type": "code",
   "execution_count": null,
   "source": [
    "test_data['loss'] = holdout_pred\r\n",
    "submission = test_data['loss']\r\n",
    "submission.to_csv('data/holdout_predictions.csv')\r\n",
    "#data_to_save.reset_index()\r\n",
    "#data_to_save.to_csv('data/holdout_predictions.csv', index=False)"
   ],
   "outputs": [],
   "metadata": {}
  },
  {
   "cell_type": "code",
   "execution_count": null,
   "source": [
    "test_data"
   ],
   "outputs": [
    {
     "output_type": "execute_result",
     "data": {
      "text/plain": [
       "              f0   f1        f2        f3          f4        f5         f6  \\\n",
       "id                                                                           \n",
       "250000  0.812665   15 -1.239120 -0.893251    295.5770  15.87120   23.04360   \n",
       "250001  0.190344  131 -0.501361  0.801921     64.8866   3.09703  344.80500   \n",
       "250002  0.919671   19 -0.057382  0.901419  11961.2000  16.39650  273.24000   \n",
       "250003  0.860985   19 -0.549509  0.471799   7501.6000   2.80698   71.08170   \n",
       "250004  0.313229   89  0.588509  0.167705   2931.2600   4.34986    1.57187   \n",
       "...          ...  ...       ...       ...         ...       ...        ...   \n",
       "399995  0.751053   77  0.666725 -1.106280  21433.3000  16.58120  122.77900   \n",
       "399996  0.734669   41  0.611225  0.740177    294.1850  10.72900   25.03340   \n",
       "399997  0.417307  142 -0.357854 -0.836640   1215.2500  10.62460  221.60400   \n",
       "399998  1.023900   17  0.367100 -0.936674   1832.3900   8.51691  262.79700   \n",
       "399999  0.249362   49  0.344670 -0.566363   2290.9300  20.80300  350.64400   \n",
       "\n",
       "              f7         f8       f9  ...       f90        f91       f92  \\\n",
       "id                                    ...                                  \n",
       "250000  0.942256  29.898000  1.11394  ...  0.446389   -422.332  -1.44630   \n",
       "250001  0.807194  38.421900  1.09695  ...  0.377179  10352.200  21.06270   \n",
       "250002 -0.003300  37.940000  1.15222  ...  0.990140   3224.020  -2.25287   \n",
       "250003  0.792136   0.395235  1.20157  ...  1.396880   9689.760  14.77150   \n",
       "250004  1.118300   7.754630  1.16807  ...  0.862502   2693.350  44.18050   \n",
       "...          ...        ...      ...  ...       ...        ...       ...   \n",
       "399995 -0.319314 -82.222900  1.13916  ...  1.540530    123.551  13.98240   \n",
       "399996  0.644556 -13.998000  1.11345  ...  0.457699   7051.200   8.85935   \n",
       "399997  0.875104 -41.531500  1.40427  ...  0.391639  10879.100  13.31930   \n",
       "399998 -0.474002   7.162060  1.22668  ...  0.405020   2513.930  38.75670   \n",
       "399999  1.018560   9.507420  1.22905  ...  0.869155  12093.000  16.91400   \n",
       "\n",
       "            f93       f94        f95      f96       f97       f98       f99  \n",
       "id                                                                           \n",
       "250000  1.69075  1.059300  -3.010570  1.94664  0.529470  1.386950   8.78767  \n",
       "250001  1.84351  0.251895   4.440570  1.90309  0.248534  0.863881  11.79390  \n",
       "250002  1.55100 -0.559157  17.838600  1.83385  0.931796  2.336870   9.05400  \n",
       "250003  1.41390  0.329272   0.802437  2.23251  0.893348  1.359470   4.84833  \n",
       "250004  1.58020 -0.191021  26.253000  2.68238  0.361923  1.532800   3.70660  \n",
       "...         ...       ...        ...      ...       ...       ...       ...  \n",
       "399995  2.34641 -0.438368  -2.587330 -0.62910  0.358354  1.434990   8.55460  \n",
       "399996  1.48816  1.481120   0.307554  2.26251  0.563482  1.872810  12.54960  \n",
       "399997  2.11974  0.524081  22.268500  2.40363  0.288236  2.323660  12.33840  \n",
       "399998  1.49949 -0.189529   7.632810  2.54065  0.453850  1.653140  31.16380  \n",
       "399999  1.65282 -0.763589  11.822300  2.22475  0.387568  1.561280   5.69671  \n",
       "\n",
       "[150000 rows x 100 columns]"
      ],
      "text/html": [
       "<div>\n",
       "<style scoped>\n",
       "    .dataframe tbody tr th:only-of-type {\n",
       "        vertical-align: middle;\n",
       "    }\n",
       "\n",
       "    .dataframe tbody tr th {\n",
       "        vertical-align: top;\n",
       "    }\n",
       "\n",
       "    .dataframe thead th {\n",
       "        text-align: right;\n",
       "    }\n",
       "</style>\n",
       "<table border=\"1\" class=\"dataframe\">\n",
       "  <thead>\n",
       "    <tr style=\"text-align: right;\">\n",
       "      <th></th>\n",
       "      <th>f0</th>\n",
       "      <th>f1</th>\n",
       "      <th>f2</th>\n",
       "      <th>f3</th>\n",
       "      <th>f4</th>\n",
       "      <th>f5</th>\n",
       "      <th>f6</th>\n",
       "      <th>f7</th>\n",
       "      <th>f8</th>\n",
       "      <th>f9</th>\n",
       "      <th>...</th>\n",
       "      <th>f90</th>\n",
       "      <th>f91</th>\n",
       "      <th>f92</th>\n",
       "      <th>f93</th>\n",
       "      <th>f94</th>\n",
       "      <th>f95</th>\n",
       "      <th>f96</th>\n",
       "      <th>f97</th>\n",
       "      <th>f98</th>\n",
       "      <th>f99</th>\n",
       "    </tr>\n",
       "    <tr>\n",
       "      <th>id</th>\n",
       "      <th></th>\n",
       "      <th></th>\n",
       "      <th></th>\n",
       "      <th></th>\n",
       "      <th></th>\n",
       "      <th></th>\n",
       "      <th></th>\n",
       "      <th></th>\n",
       "      <th></th>\n",
       "      <th></th>\n",
       "      <th></th>\n",
       "      <th></th>\n",
       "      <th></th>\n",
       "      <th></th>\n",
       "      <th></th>\n",
       "      <th></th>\n",
       "      <th></th>\n",
       "      <th></th>\n",
       "      <th></th>\n",
       "      <th></th>\n",
       "      <th></th>\n",
       "    </tr>\n",
       "  </thead>\n",
       "  <tbody>\n",
       "    <tr>\n",
       "      <th>250000</th>\n",
       "      <td>0.812665</td>\n",
       "      <td>15</td>\n",
       "      <td>-1.239120</td>\n",
       "      <td>-0.893251</td>\n",
       "      <td>295.5770</td>\n",
       "      <td>15.87120</td>\n",
       "      <td>23.04360</td>\n",
       "      <td>0.942256</td>\n",
       "      <td>29.898000</td>\n",
       "      <td>1.11394</td>\n",
       "      <td>...</td>\n",
       "      <td>0.446389</td>\n",
       "      <td>-422.332</td>\n",
       "      <td>-1.44630</td>\n",
       "      <td>1.69075</td>\n",
       "      <td>1.059300</td>\n",
       "      <td>-3.010570</td>\n",
       "      <td>1.94664</td>\n",
       "      <td>0.529470</td>\n",
       "      <td>1.386950</td>\n",
       "      <td>8.78767</td>\n",
       "    </tr>\n",
       "    <tr>\n",
       "      <th>250001</th>\n",
       "      <td>0.190344</td>\n",
       "      <td>131</td>\n",
       "      <td>-0.501361</td>\n",
       "      <td>0.801921</td>\n",
       "      <td>64.8866</td>\n",
       "      <td>3.09703</td>\n",
       "      <td>344.80500</td>\n",
       "      <td>0.807194</td>\n",
       "      <td>38.421900</td>\n",
       "      <td>1.09695</td>\n",
       "      <td>...</td>\n",
       "      <td>0.377179</td>\n",
       "      <td>10352.200</td>\n",
       "      <td>21.06270</td>\n",
       "      <td>1.84351</td>\n",
       "      <td>0.251895</td>\n",
       "      <td>4.440570</td>\n",
       "      <td>1.90309</td>\n",
       "      <td>0.248534</td>\n",
       "      <td>0.863881</td>\n",
       "      <td>11.79390</td>\n",
       "    </tr>\n",
       "    <tr>\n",
       "      <th>250002</th>\n",
       "      <td>0.919671</td>\n",
       "      <td>19</td>\n",
       "      <td>-0.057382</td>\n",
       "      <td>0.901419</td>\n",
       "      <td>11961.2000</td>\n",
       "      <td>16.39650</td>\n",
       "      <td>273.24000</td>\n",
       "      <td>-0.003300</td>\n",
       "      <td>37.940000</td>\n",
       "      <td>1.15222</td>\n",
       "      <td>...</td>\n",
       "      <td>0.990140</td>\n",
       "      <td>3224.020</td>\n",
       "      <td>-2.25287</td>\n",
       "      <td>1.55100</td>\n",
       "      <td>-0.559157</td>\n",
       "      <td>17.838600</td>\n",
       "      <td>1.83385</td>\n",
       "      <td>0.931796</td>\n",
       "      <td>2.336870</td>\n",
       "      <td>9.05400</td>\n",
       "    </tr>\n",
       "    <tr>\n",
       "      <th>250003</th>\n",
       "      <td>0.860985</td>\n",
       "      <td>19</td>\n",
       "      <td>-0.549509</td>\n",
       "      <td>0.471799</td>\n",
       "      <td>7501.6000</td>\n",
       "      <td>2.80698</td>\n",
       "      <td>71.08170</td>\n",
       "      <td>0.792136</td>\n",
       "      <td>0.395235</td>\n",
       "      <td>1.20157</td>\n",
       "      <td>...</td>\n",
       "      <td>1.396880</td>\n",
       "      <td>9689.760</td>\n",
       "      <td>14.77150</td>\n",
       "      <td>1.41390</td>\n",
       "      <td>0.329272</td>\n",
       "      <td>0.802437</td>\n",
       "      <td>2.23251</td>\n",
       "      <td>0.893348</td>\n",
       "      <td>1.359470</td>\n",
       "      <td>4.84833</td>\n",
       "    </tr>\n",
       "    <tr>\n",
       "      <th>250004</th>\n",
       "      <td>0.313229</td>\n",
       "      <td>89</td>\n",
       "      <td>0.588509</td>\n",
       "      <td>0.167705</td>\n",
       "      <td>2931.2600</td>\n",
       "      <td>4.34986</td>\n",
       "      <td>1.57187</td>\n",
       "      <td>1.118300</td>\n",
       "      <td>7.754630</td>\n",
       "      <td>1.16807</td>\n",
       "      <td>...</td>\n",
       "      <td>0.862502</td>\n",
       "      <td>2693.350</td>\n",
       "      <td>44.18050</td>\n",
       "      <td>1.58020</td>\n",
       "      <td>-0.191021</td>\n",
       "      <td>26.253000</td>\n",
       "      <td>2.68238</td>\n",
       "      <td>0.361923</td>\n",
       "      <td>1.532800</td>\n",
       "      <td>3.70660</td>\n",
       "    </tr>\n",
       "    <tr>\n",
       "      <th>...</th>\n",
       "      <td>...</td>\n",
       "      <td>...</td>\n",
       "      <td>...</td>\n",
       "      <td>...</td>\n",
       "      <td>...</td>\n",
       "      <td>...</td>\n",
       "      <td>...</td>\n",
       "      <td>...</td>\n",
       "      <td>...</td>\n",
       "      <td>...</td>\n",
       "      <td>...</td>\n",
       "      <td>...</td>\n",
       "      <td>...</td>\n",
       "      <td>...</td>\n",
       "      <td>...</td>\n",
       "      <td>...</td>\n",
       "      <td>...</td>\n",
       "      <td>...</td>\n",
       "      <td>...</td>\n",
       "      <td>...</td>\n",
       "      <td>...</td>\n",
       "    </tr>\n",
       "    <tr>\n",
       "      <th>399995</th>\n",
       "      <td>0.751053</td>\n",
       "      <td>77</td>\n",
       "      <td>0.666725</td>\n",
       "      <td>-1.106280</td>\n",
       "      <td>21433.3000</td>\n",
       "      <td>16.58120</td>\n",
       "      <td>122.77900</td>\n",
       "      <td>-0.319314</td>\n",
       "      <td>-82.222900</td>\n",
       "      <td>1.13916</td>\n",
       "      <td>...</td>\n",
       "      <td>1.540530</td>\n",
       "      <td>123.551</td>\n",
       "      <td>13.98240</td>\n",
       "      <td>2.34641</td>\n",
       "      <td>-0.438368</td>\n",
       "      <td>-2.587330</td>\n",
       "      <td>-0.62910</td>\n",
       "      <td>0.358354</td>\n",
       "      <td>1.434990</td>\n",
       "      <td>8.55460</td>\n",
       "    </tr>\n",
       "    <tr>\n",
       "      <th>399996</th>\n",
       "      <td>0.734669</td>\n",
       "      <td>41</td>\n",
       "      <td>0.611225</td>\n",
       "      <td>0.740177</td>\n",
       "      <td>294.1850</td>\n",
       "      <td>10.72900</td>\n",
       "      <td>25.03340</td>\n",
       "      <td>0.644556</td>\n",
       "      <td>-13.998000</td>\n",
       "      <td>1.11345</td>\n",
       "      <td>...</td>\n",
       "      <td>0.457699</td>\n",
       "      <td>7051.200</td>\n",
       "      <td>8.85935</td>\n",
       "      <td>1.48816</td>\n",
       "      <td>1.481120</td>\n",
       "      <td>0.307554</td>\n",
       "      <td>2.26251</td>\n",
       "      <td>0.563482</td>\n",
       "      <td>1.872810</td>\n",
       "      <td>12.54960</td>\n",
       "    </tr>\n",
       "    <tr>\n",
       "      <th>399997</th>\n",
       "      <td>0.417307</td>\n",
       "      <td>142</td>\n",
       "      <td>-0.357854</td>\n",
       "      <td>-0.836640</td>\n",
       "      <td>1215.2500</td>\n",
       "      <td>10.62460</td>\n",
       "      <td>221.60400</td>\n",
       "      <td>0.875104</td>\n",
       "      <td>-41.531500</td>\n",
       "      <td>1.40427</td>\n",
       "      <td>...</td>\n",
       "      <td>0.391639</td>\n",
       "      <td>10879.100</td>\n",
       "      <td>13.31930</td>\n",
       "      <td>2.11974</td>\n",
       "      <td>0.524081</td>\n",
       "      <td>22.268500</td>\n",
       "      <td>2.40363</td>\n",
       "      <td>0.288236</td>\n",
       "      <td>2.323660</td>\n",
       "      <td>12.33840</td>\n",
       "    </tr>\n",
       "    <tr>\n",
       "      <th>399998</th>\n",
       "      <td>1.023900</td>\n",
       "      <td>17</td>\n",
       "      <td>0.367100</td>\n",
       "      <td>-0.936674</td>\n",
       "      <td>1832.3900</td>\n",
       "      <td>8.51691</td>\n",
       "      <td>262.79700</td>\n",
       "      <td>-0.474002</td>\n",
       "      <td>7.162060</td>\n",
       "      <td>1.22668</td>\n",
       "      <td>...</td>\n",
       "      <td>0.405020</td>\n",
       "      <td>2513.930</td>\n",
       "      <td>38.75670</td>\n",
       "      <td>1.49949</td>\n",
       "      <td>-0.189529</td>\n",
       "      <td>7.632810</td>\n",
       "      <td>2.54065</td>\n",
       "      <td>0.453850</td>\n",
       "      <td>1.653140</td>\n",
       "      <td>31.16380</td>\n",
       "    </tr>\n",
       "    <tr>\n",
       "      <th>399999</th>\n",
       "      <td>0.249362</td>\n",
       "      <td>49</td>\n",
       "      <td>0.344670</td>\n",
       "      <td>-0.566363</td>\n",
       "      <td>2290.9300</td>\n",
       "      <td>20.80300</td>\n",
       "      <td>350.64400</td>\n",
       "      <td>1.018560</td>\n",
       "      <td>9.507420</td>\n",
       "      <td>1.22905</td>\n",
       "      <td>...</td>\n",
       "      <td>0.869155</td>\n",
       "      <td>12093.000</td>\n",
       "      <td>16.91400</td>\n",
       "      <td>1.65282</td>\n",
       "      <td>-0.763589</td>\n",
       "      <td>11.822300</td>\n",
       "      <td>2.22475</td>\n",
       "      <td>0.387568</td>\n",
       "      <td>1.561280</td>\n",
       "      <td>5.69671</td>\n",
       "    </tr>\n",
       "  </tbody>\n",
       "</table>\n",
       "<p>150000 rows × 100 columns</p>\n",
       "</div>"
      ]
     },
     "metadata": {},
     "execution_count": 58
    }
   ],
   "metadata": {}
  },
  {
   "cell_type": "code",
   "execution_count": null,
   "source": [
    "#pipeline_cm.get_params()"
   ],
   "outputs": [],
   "metadata": {}
  },
  {
   "cell_type": "markdown",
   "source": [
    "# Random things to try/add"
   ],
   "metadata": {}
  },
  {
   "cell_type": "code",
   "execution_count": null,
   "source": [
    "# Random bits to add\r\n",
    "\r\n",
    "from string import ascii_letters\r\n",
    "import numpy as np\r\n",
    "import pandas as pd\r\n",
    "import seaborn as sns\r\n",
    "import matplotlib.pyplot as plt\r\n",
    "\r\n",
    "sns.set_theme(style=\"white\")\r\n",
    "\r\n",
    "# Compute the correlation matrix\r\n",
    "corr = data.corr()\r\n",
    "\r\n",
    "# Generate a mask for the upper triangle\r\n",
    "mask = np.triu(np.ones_like(corr, dtype=bool))\r\n",
    "\r\n",
    "# Set up the matplotlib figure\r\n",
    "f, ax = plt.subplots(figsize=(11, 9))\r\n",
    "\r\n",
    "# Generate a custom diverging colormap\r\n",
    "cmap = sns.diverging_palette(230, 20, as_cmap=True)\r\n",
    "\r\n",
    "# Draw the heatmap with the mask and correct aspect ratio\r\n",
    "sns.heatmap(corr, mask=mask, cmap=cmap, vmax=.3, center=0,\r\n",
    "            square=True, linewidths=.5, cbar_kws={\"shrink\": .5})"
   ],
   "outputs": [],
   "metadata": {}
  },
  {
   "cell_type": "code",
   "execution_count": null,
   "source": [
    "sns.pairplot(data, hue=\"target variable\")"
   ],
   "outputs": [],
   "metadata": {}
  },
  {
   "cell_type": "code",
   "execution_count": null,
   "source": [
    "# Convert Religion variable to Category\r\n",
    "data[\"Religion (code)\"] = data[\"Religion (code)\"].astype(\"category\")\r\n",
    "\r\n",
    "# One hot encode Religion\r\n",
    "data = pd.get_dummies(data,prefix=['Religion'], drop_first=True)\r\n",
    "data.head()"
   ],
   "outputs": [],
   "metadata": {}
  },
  {
   "cell_type": "code",
   "execution_count": null,
   "source": [
    "import seaborn as sns\r\n",
    "\r\n",
    "sns.displot(data = data, x = \"Activity on Company Forums\", kind=\"kde\", hue = \"EmployeeTargetedOverPastYear\", fill=True)"
   ],
   "outputs": [],
   "metadata": {}
  },
  {
   "cell_type": "code",
   "execution_count": null,
   "source": [],
   "outputs": [],
   "metadata": {}
  },
  {
   "cell_type": "code",
   "execution_count": null,
   "source": [],
   "outputs": [],
   "metadata": {}
  },
  {
   "cell_type": "code",
   "execution_count": null,
   "source": [],
   "outputs": [],
   "metadata": {}
  },
  {
   "cell_type": "code",
   "execution_count": null,
   "source": [],
   "outputs": [],
   "metadata": {}
  }
 ],
 "metadata": {
  "interpreter": {
   "hash": "57af7658dc7e4159ea53cd3eda3a2bf17c2e9d90e60a639fd3a42334d366b7cc"
  },
  "kernelspec": {
   "name": "python3",
   "display_name": "Python 3.8.11 64-bit"
  },
  "language_info": {
   "codemirror_mode": {
    "name": "ipython",
    "version": 3
   },
   "file_extension": ".py",
   "mimetype": "text/x-python",
   "name": "python",
   "nbconvert_exporter": "python",
   "pygments_lexer": "ipython3",
   "version": "3.8.11"
  }
 },
 "nbformat": 4,
 "nbformat_minor": 2
}