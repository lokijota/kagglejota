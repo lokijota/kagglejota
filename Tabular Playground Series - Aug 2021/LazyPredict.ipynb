{
 "cells": [
  {
   "cell_type": "code",
   "execution_count": 18,
   "source": [
    "import warnings\r\n",
    "import numpy as np\r\n",
    "import pandas as pd\r\n",
    "#import matplotlib.pyplot as plt\r\n",
    "import seaborn as sns\r\n",
    "from sklearn import set_config\r\n",
    "\r\n",
    "warnings.filterwarnings(\"ignore\")\r\n",
    "\r\n",
    "#import sklearn\r\n",
    "#sklearn.show_versions()\r\n",
    "#sklearn.__version__\r\n",
    "set_config(display='diagram')"
   ],
   "outputs": [],
   "metadata": {}
  },
  {
   "cell_type": "code",
   "execution_count": 19,
   "source": [
    "data = pd.read_csv('data/train.csv', index_col=0)"
   ],
   "outputs": [],
   "metadata": {}
  },
  {
   "cell_type": "code",
   "execution_count": 20,
   "source": [
    "def GenerateFeatures(data):\r\n",
    "\r\n",
    "    data.loc[:, 'f25xf52'] = data['f25'] * data['f52']\r\n",
    "    data.loc[:, 'f77squared'] = data['f77'] * data['f77']\r\n",
    "    data.loc[:, 'f12xf81'] = data['f12'] * data['f81']\r\n",
    "    data.loc[:, 'f9xf82'] = data['f9'] * data['f82']\r\n",
    "    data.loc[:, 'f3xf46'] = data['f3'] * data['f46']\r\n",
    "    data.loc[:, 'f41squared'] = data['f41'] * data['f41']\r\n",
    "    data.loc[:, 'f31xf81'] = data['f31'] * data['f81']\r\n",
    "    data.loc[:, 'f58xf81'] = data['f58'] * data['f81']\r\n",
    "    data.loc[:, 'ff1xf58'] = data['f41'] * data['f58']\r\n",
    "    data.loc[:, 'f31xf74'] = data['f31'] * data['f74']\r\n",
    "    data.loc[:, 'f3xf13'] = data['f3'] * data['f13']\r\n",
    "    data.loc[:, 'f13xf52'] = data['f13'] * data['f52']\r\n",
    "    data.loc[:, 'f66xf96'] = data['f66'] * data['f96']\r\n",
    "  \r\n",
    "    return data"
   ],
   "outputs": [],
   "metadata": {}
  },
  {
   "cell_type": "code",
   "execution_count": 21,
   "source": [
    "from sklearn.model_selection import train_test_split\r\n",
    "from sklearn.pipeline import make_pipeline, Pipeline, FeatureUnion\r\n",
    "from sklearn.compose import make_column_selector as selector\r\n",
    "from sklearn.compose import ColumnTransformer, TransformedTargetRegressor\r\n",
    "from sklearn.preprocessing import MinMaxScaler, PolynomialFeatures, OneHotEncoder\r\n",
    "import lightgbm as lgb\r\n",
    "\r\n",
    "# prepare the data\r\n",
    "y = data.pop('loss')\r\n",
    "X = GenerateFeatures(data)\r\n",
    "\r\n",
    "X_train, X_test, y_train, y_test = train_test_split(X, y, test_size=0.25, shuffle=True, random_state=42)"
   ],
   "outputs": [],
   "metadata": {}
  },
  {
   "cell_type": "code",
   "execution_count": 22,
   "source": [
    "from lazypredict.Supervised import LazyRegressor"
   ],
   "outputs": [],
   "metadata": {}
  },
  {
   "cell_type": "code",
   "execution_count": 23,
   "source": [
    "reg = LazyRegressor(predictions=True, verbose=1,ignore_warnings=True)\r\n",
    "models, predictions = reg.fit(X_train, X_test, y_train, y_test)\r\n",
    "print(models)"
   ],
   "outputs": [
    {
     "output_type": "stream",
     "name": "stderr",
     "text": [
      "  2%|▏         | 1/42 [10:54<7:27:03, 654.24s/it]"
     ]
    },
    {
     "output_type": "stream",
     "name": "stdout",
     "text": [
      "{'Model': 'AdaBoostRegressor', 'R-Squared': -0.16898241645498135, 'Adjusted R-Squared': -0.17109979876927328, 'RMSE': 8.57683261317592, 'Time taken': 654.2354152202606}\n"
     ]
    },
    {
     "output_type": "stream",
     "name": "stderr",
     "text": [
      "  5%|▍         | 2/42 [39:17<14:07:29, 1271.23s/it]"
     ]
    },
    {
     "output_type": "stream",
     "name": "stdout",
     "text": [
      "{'Model': 'BaggingRegressor', 'R-Squared': -0.106981329871225, 'Adjusted R-Squared': -0.1089864093806574, 'RMSE': 8.346282746229006, 'Time taken': 1703.1092312335968}\n"
     ]
    },
    {
     "output_type": "stream",
     "name": "stderr",
     "text": [
      "  7%|▋         | 3/42 [39:28<7:32:20, 695.92s/it]  "
     ]
    },
    {
     "output_type": "stream",
     "name": "stdout",
     "text": [
      "{'Model': 'BayesianRidge', 'R-Squared': 0.011893421903737433, 'Adjusted R-Squared': 0.010103660686078264, 'RMSE': 7.885420186743049, 'Time taken': 11.293902158737183}\n"
     ]
    },
    {
     "output_type": "stream",
     "name": "stderr",
     "text": [
      " 10%|▉         | 4/42 [42:05<5:06:05, 483.29s/it]"
     ]
    },
    {
     "output_type": "stream",
     "name": "stdout",
     "text": [
      "{'Model': 'DecisionTreeRegressor', 'R-Squared': -1.0798850907550546, 'Adjusted R-Squared': -1.0836523945612826, 'RMSE': 11.44043705458843, 'Time taken': 157.32666397094727}\n"
     ]
    },
    {
     "output_type": "stream",
     "name": "stderr",
     "text": [
      " 12%|█▏        | 5/42 [42:08<3:11:06, 309.89s/it]"
     ]
    },
    {
     "output_type": "stream",
     "name": "stdout",
     "text": [
      "{'Model': 'DummyRegressor', 'R-Squared': -4.8177865790810515e-05, 'Adjusted R-Squared': -0.001859568948707535, 'RMSE': 7.932926061993295, 'Time taken': 2.436993360519409}\n"
     ]
    },
    {
     "output_type": "stream",
     "name": "stderr",
     "text": [
      " 14%|█▍        | 6/42 [42:11<2:03:17, 205.50s/it]"
     ]
    },
    {
     "output_type": "stream",
     "name": "stdout",
     "text": [
      "{'Model': 'ElasticNet', 'R-Squared': -4.8177865790810515e-05, 'Adjusted R-Squared': -0.001859568948707535, 'RMSE': 7.932926061993295, 'Time taken': 2.8409950733184814}\n"
     ]
    },
    {
     "output_type": "stream",
     "name": "stderr",
     "text": [
      " 17%|█▋        | 7/42 [42:39<1:26:08, 147.67s/it]"
     ]
    },
    {
     "output_type": "stream",
     "name": "stdout",
     "text": [
      "{'Model': 'ElasticNetCV', 'R-Squared': 0.012002350164727171, 'Adjusted R-Squared': 0.010212786249243044, 'RMSE': 7.884985532829768, 'Time taken': 28.597956657409668}\n"
     ]
    },
    {
     "output_type": "stream",
     "name": "stderr",
     "text": [
      " 19%|█▉        | 8/42 [43:03<1:01:12, 108.02s/it]"
     ]
    },
    {
     "output_type": "stream",
     "name": "stdout",
     "text": [
      "{'Model': 'ExtraTreeRegressor', 'R-Squared': -1.0557906152680951, 'Adjusted R-Squared': -1.0595142766588768, 'RMSE': 11.37397802002448, 'Time taken': 23.141578435897827}\n"
     ]
    },
    {
     "output_type": "stream",
     "name": "stderr",
     "text": [
      " 21%|██▏       | 9/42 [1:14:24<6:04:17, 662.36s/it]"
     ]
    },
    {
     "output_type": "stream",
     "name": "stdout",
     "text": [
      "{'Model': 'ExtraTreesRegressor', 'R-Squared': -0.005610509202959912, 'Adjusted R-Squared': -0.00743197535786555, 'RMSE': 7.954957188571162, 'Time taken': 1881.236133813858}\n"
     ]
    },
    {
     "output_type": "stream",
     "name": "stderr",
     "text": [
      " 29%|██▊       | 12/42 [1:14:29<1:51:08, 222.29s/it]"
     ]
    },
    {
     "output_type": "stream",
     "name": "stdout",
     "text": [
      "{'Model': 'GeneralizedLinearRegressor', 'R-Squared': 0.009437509133584765, 'Adjusted R-Squared': 0.007643299511748025, 'RMSE': 7.895213606873085, 'Time taken': 1.9690310955047607}\n"
     ]
    },
    {
     "output_type": "stream",
     "name": "stderr",
     "text": [
      " 31%|███       | 13/42 [1:32:34<3:53:40, 483.47s/it]"
     ]
    },
    {
     "output_type": "stream",
     "name": "stdout",
     "text": [
      "{'Model': 'GradientBoostingRegressor', 'R-Squared': 0.015328845763299404, 'Adjusted R-Squared': 0.01354530714199409, 'RMSE': 7.871700336818513, 'Time taken': 1084.4752323627472}\n"
     ]
    },
    {
     "output_type": "stream",
     "name": "stderr",
     "text": [
      " 33%|███▎      | 14/42 [1:32:54<2:40:24, 343.73s/it]"
     ]
    },
    {
     "output_type": "stream",
     "name": "stdout",
     "text": [
      "{'Model': 'HistGradientBoostingRegressor', 'R-Squared': 0.018213426544450684, 'Adjusted R-Squared': 0.016435112775328053, 'RMSE': 7.860161860522049, 'Time taken': 20.803380012512207}\n"
     ]
    },
    {
     "output_type": "stream",
     "name": "stderr",
     "text": [
      " 36%|███▌      | 15/42 [1:33:05<1:49:29, 243.32s/it]"
     ]
    },
    {
     "output_type": "stream",
     "name": "stdout",
     "text": [
      "{'Model': 'HuberRegressor', 'R-Squared': -0.04758134012074566, 'Adjusted R-Squared': -0.04947882820194427, 'RMSE': 8.119266977147635, 'Time taken': 10.6300048828125}\n"
     ]
    },
    {
     "output_type": "stream",
     "name": "stderr",
     "text": [
      " 38%|███▊      | 16/42 [3:53:55<19:35:53, 2713.58s/it]"
     ]
    },
    {
     "output_type": "stream",
     "name": "stdout",
     "text": [
      "{'Model': 'KNeighborsRegressor', 'R-Squared': -0.19020102273830264, 'Adjusted R-Squared': -0.1923568383951717, 'RMSE': 8.654323090802654, 'Time taken': 8450.130048751831}\n"
     ]
    },
    {
     "output_type": "stream",
     "name": "stderr",
     "text": [
      " 43%|████▎     | 18/42 [3:54:47<8:55:36, 1339.03s/it] "
     ]
    },
    {
     "output_type": "stream",
     "name": "stdout",
     "text": [
      "{'Model': 'Lars', 'R-Squared': 0.010894475520767277, 'Adjusted R-Squared': 0.009102904907710485, 'RMSE': 7.889405142552737, 'Time taken': 7.7333595752716064}\n"
     ]
    },
    {
     "output_type": "stream",
     "name": "stderr",
     "text": [
      " 45%|████▌     | 19/42 [3:55:04<6:01:03, 941.90s/it] "
     ]
    },
    {
     "output_type": "stream",
     "name": "stdout",
     "text": [
      "{'Model': 'LarsCV', 'R-Squared': 0.011118711258809144, 'Adjusted R-Squared': 0.009327546804800857, 'RMSE': 7.888510805791955, 'Time taken': 16.77898931503296}\n"
     ]
    },
    {
     "output_type": "stream",
     "name": "stderr",
     "text": [
      " 48%|████▊     | 20/42 [3:55:08<4:02:07, 660.34s/it]"
     ]
    },
    {
     "output_type": "stream",
     "name": "stdout",
     "text": [
      "{'Model': 'Lasso', 'R-Squared': -4.8177865790810515e-05, 'Adjusted R-Squared': -0.001859568948707535, 'RMSE': 7.932926061993295, 'Time taken': 4.078994989395142}\n"
     ]
    },
    {
     "output_type": "stream",
     "name": "stderr",
     "text": [
      " 50%|█████     | 21/42 [3:55:50<2:46:06, 474.58s/it]"
     ]
    },
    {
     "output_type": "stream",
     "name": "stdout",
     "text": [
      "{'Model': 'LassoCV', 'R-Squared': 0.012016560259556552, 'Adjusted R-Squared': 0.010227022082871517, 'RMSE': 7.884928828851245, 'Time taken': 41.50239324569702}\n"
     ]
    },
    {
     "output_type": "stream",
     "name": "stderr",
     "text": [
      " 52%|█████▏    | 22/42 [3:55:52<1:51:00, 333.00s/it]"
     ]
    },
    {
     "output_type": "stream",
     "name": "stdout",
     "text": [
      "{'Model': 'LassoLars', 'R-Squared': -4.8177865790810515e-05, 'Adjusted R-Squared': -0.001859568948707535, 'RMSE': 7.932926061993295, 'Time taken': 2.830988645553589}\n"
     ]
    },
    {
     "output_type": "stream",
     "name": "stderr",
     "text": [
      " 55%|█████▍    | 23/42 [3:56:08<1:15:15, 237.68s/it]"
     ]
    },
    {
     "output_type": "stream",
     "name": "stdout",
     "text": [
      "{'Model': 'LassoLarsCV', 'R-Squared': 0.012015330207457042, 'Adjusted R-Squared': 0.010225789802773888, 'RMSE': 7.88493373726866, 'Time taken': 15.321990013122559}\n"
     ]
    },
    {
     "output_type": "stream",
     "name": "stderr",
     "text": [
      " 57%|█████▋    | 24/42 [3:56:11<50:14, 167.48s/it]  "
     ]
    },
    {
     "output_type": "stream",
     "name": "stdout",
     "text": [
      "{'Model': 'LassoLarsIC', 'R-Squared': 0.012016493274786821, 'Adjusted R-Squared': 0.010226954976771951, 'RMSE': 7.884929096148302, 'Time taken': 3.725996732711792}\n"
     ]
    },
    {
     "output_type": "stream",
     "name": "stderr",
     "text": [
      " 60%|█████▉    | 25/42 [3:56:17<33:43, 119.01s/it]"
     ]
    },
    {
     "output_type": "stream",
     "name": "stdout",
     "text": [
      "{'Model': 'LinearRegression', 'R-Squared': 0.01197890760269682, 'Adjusted R-Squared': 0.01018930122561057, 'RMSE': 7.885079077164636, 'Time taken': 5.940656900405884}\n"
     ]
    },
    {
     "output_type": "stream",
     "name": "stderr",
     "text": [
      " 62%|██████▏   | 26/42 [3:57:43<29:02, 108.89s/it]"
     ]
    },
    {
     "output_type": "stream",
     "name": "stdout",
     "text": [
      "{'Model': 'LinearSVR', 'R-Squared': -0.12002803357010072, 'Adjusted R-Squared': -0.12205674462375748, 'RMSE': 8.395322647620166, 'Time taken': 85.26308608055115}\n"
     ]
    },
    {
     "output_type": "stream",
     "name": "stderr",
     "text": [
      " 64%|██████▍   | 27/42 [4:32:47<2:56:52, 707.52s/it]"
     ]
    },
    {
     "output_type": "stream",
     "name": "stdout",
     "text": [
      "{'Model': 'MLPRegressor', 'R-Squared': -0.05517134948717928, 'Adjusted R-Squared': -0.05708258538132305, 'RMSE': 8.148627032350129, 'Time taken': 2104.1947927474976}\n"
     ]
    },
    {
     "output_type": "stream",
     "name": "stderr",
     "text": [
      " 67%|██████▋   | 28/42 [13:24:57<39:10:47, 10074.80s/it]"
     ]
    },
    {
     "output_type": "stream",
     "name": "stdout",
     "text": [
      "{'Model': 'NuSVR', 'R-Squared': -0.007247784572453897, 'Adjusted R-Squared': -0.009072216330487715, 'RMSE': 7.961430449466407, 'Time taken': 31930.347680568695}\n"
     ]
    },
    {
     "output_type": "stream",
     "name": "stderr",
     "text": [
      " 69%|██████▉   | 29/42 [13:25:01<25:28:15, 7053.50s/it] "
     ]
    },
    {
     "output_type": "stream",
     "name": "stdout",
     "text": [
      "{'Model': 'OrthogonalMatchingPursuit', 'R-Squared': 0.006837003442542566, 'Adjusted R-Squared': 0.005038083514818381, 'RMSE': 7.905570394299549, 'Time taken': 4.124953985214233}\n"
     ]
    },
    {
     "output_type": "stream",
     "name": "stderr",
     "text": [
      " 71%|███████▏  | 30/42 [13:25:17<16:28:23, 4942.00s/it]"
     ]
    },
    {
     "output_type": "stream",
     "name": "stdout",
     "text": [
      "{'Model': 'OrthogonalMatchingPursuitCV', 'R-Squared': 0.006837003442542566, 'Adjusted R-Squared': 0.005038083514818381, 'RMSE': 7.905570394299549, 'Time taken': 15.288846254348755}\n"
     ]
    },
    {
     "output_type": "stream",
     "name": "stderr",
     "text": [
      " 74%|███████▍  | 31/42 [13:25:23<10:34:33, 3461.19s/it]"
     ]
    },
    {
     "output_type": "stream",
     "name": "stdout",
     "text": [
      "{'Model': 'PassiveAggressiveRegressor', 'R-Squared': -0.9265915374372689, 'Adjusted R-Squared': -0.9300811800450721, 'RMSE': 11.010771985548805, 'Time taken': 6.0639402866363525}\n"
     ]
    },
    {
     "output_type": "stream",
     "name": "stderr",
     "text": [
      " 76%|███████▌  | 32/42 [13:25:27<6:44:01, 2424.10s/it] "
     ]
    },
    {
     "output_type": "stream",
     "name": "stdout",
     "text": [
      "{'Model': 'PoissonRegressor', 'R-Squared': 0.01151659765554891, 'Adjusted R-Squared': 0.009726153894690226, 'RMSE': 7.886923635034204, 'Time taken': 4.259954929351807}\n"
     ]
    },
    {
     "output_type": "stream",
     "name": "stderr",
     "text": [
      " 79%|███████▊  | 33/42 [13:25:45<4:15:21, 1702.37s/it]"
     ]
    },
    {
     "output_type": "stream",
     "name": "stdout",
     "text": [
      "{'Model': 'RANSACRegressor', 'R-Squared': -16.72944656393692, 'Adjusted R-Squared': -16.76155997819212, 'RMSE': 33.40185101576924, 'Time taken': 18.330774545669556}\n"
     ]
    },
    {
     "output_type": "stream",
     "name": "stderr",
     "text": [
      " 81%|████████  | 34/42 [18:42:01<15:17:54, 6884.32s/it]"
     ]
    },
    {
     "output_type": "stream",
     "name": "stdout",
     "text": [
      "{'Model': 'RandomForestRegressor', 'R-Squared': -0.01112498313247845, 'Adjusted R-Squared': -0.012956437675067711, 'RMSE': 7.976738697889007, 'Time taken': 18975.40083169937}\n"
     ]
    },
    {
     "output_type": "stream",
     "name": "stderr",
     "text": [
      " 83%|████████▎ | 35/42 [18:45:18<9:29:08, 4878.30s/it] "
     ]
    },
    {
     "output_type": "stream",
     "name": "stdout",
     "text": [
      "{'Model': 'Ridge', 'R-Squared': 0.011978889319754105, 'Adjusted R-Squared': 0.0101892829095519, 'RMSE': 7.885079150119783, 'Time taken': 197.54103922843933}\n"
     ]
    },
    {
     "output_type": "stream",
     "name": "stderr",
     "text": [
      " 86%|████████▌ | 36/42 [18:45:28<5:41:45, 3417.59s/it]"
     ]
    },
    {
     "output_type": "stream",
     "name": "stdout",
     "text": [
      "{'Model': 'RidgeCV', 'R-Squared': 0.011978726387973149, 'Adjusted R-Squared': 0.010189119682652015, 'RMSE': 7.885079800272863, 'Time taken': 9.291991949081421}\n"
     ]
    },
    {
     "output_type": "stream",
     "name": "stderr",
     "text": [
      " 88%|████████▊ | 37/42 [18:45:54<3:20:00, 2400.10s/it]"
     ]
    },
    {
     "output_type": "stream",
     "name": "stdout",
     "text": [
      "{'Model': 'SGDRegressor', 'R-Squared': 0.004533885981032215, 'Adjusted R-Squared': 0.002730794407856396, 'RMSE': 7.914731485608652, 'Time taken': 25.94508957862854}\n"
     ]
    },
    {
     "output_type": "stream",
     "name": "stderr",
     "text": [
      " 90%|█████████ | 38/42 [43:07:11<31:05:33, 27983.32s/it]"
     ]
    },
    {
     "output_type": "stream",
     "name": "stdout",
     "text": [
      "{'Model': 'SVR', 'R-Squared': -0.11807877992505045, 'Adjusted R-Squared': -0.1201039602881373, 'RMSE': 8.388014018251216, 'Time taken': 87677.29512763023}\n"
     ]
    },
    {
     "output_type": "stream",
     "name": "stderr",
     "text": [
      " 93%|█████████▎| 39/42 [43:10:43<16:22:35, 19651.88s/it]"
     ]
    },
    {
     "output_type": "stream",
     "name": "stdout",
     "text": [
      "{'Model': 'TransformedTargetRegressor', 'R-Squared': 0.01197890760269682, 'Adjusted R-Squared': 0.01018930122561057, 'RMSE': 7.885079077164636, 'Time taken': 211.83877062797546}\n"
     ]
    },
    {
     "output_type": "stream",
     "name": "stderr",
     "text": [
      " 95%|█████████▌| 40/42 [43:10:46<7:38:34, 13757.39s/it] "
     ]
    },
    {
     "output_type": "stream",
     "name": "stdout",
     "text": [
      "{'Model': 'TweedieRegressor', 'R-Squared': 0.009437509133584765, 'Adjusted R-Squared': 0.007643299511748025, 'RMSE': 7.895213606873085, 'Time taken': 3.5588855743408203}\n"
     ]
    },
    {
     "output_type": "stream",
     "name": "stderr",
     "text": [
      " 98%|█████████▊| 41/42 [43:13:24<2:41:17, 9677.44s/it] "
     ]
    },
    {
     "output_type": "stream",
     "name": "stdout",
     "text": [
      "{'Model': 'XGBRegressor', 'R-Squared': 0.002192107584275127, 'Adjusted R-Squared': 0.0003847743389479019, 'RMSE': 7.924035498763445, 'Time taken': 157.56551313400269}\n"
     ]
    },
    {
     "output_type": "stream",
     "name": "stderr",
     "text": [
      "100%|██████████| 42/42 [43:13:40<00:00, 3705.24s/it]"
     ]
    },
    {
     "output_type": "stream",
     "name": "stdout",
     "text": [
      "{'Model': 'LGBMRegressor', 'R-Squared': 0.018883945061458296, 'Adjusted R-Squared': 0.017106845805085702, 'RMSE': 7.8574773237875934, 'Time taken': 15.449309349060059}\n"
     ]
    },
    {
     "output_type": "stream",
     "name": "stderr",
     "text": [
      "\n"
     ]
    },
    {
     "output_type": "stream",
     "name": "stdout",
     "text": [
      "                               Adjusted R-Squared  R-Squared  RMSE  Time Taken\n",
      "Model                                                                         \n",
      "LGBMRegressor                                0.02       0.02  7.86       15.45\n",
      "HistGradientBoostingRegressor                0.02       0.02  7.86       20.80\n",
      "GradientBoostingRegressor                    0.01       0.02  7.87     1084.48\n",
      "LassoCV                                      0.01       0.01  7.88       41.50\n",
      "LassoLarsIC                                  0.01       0.01  7.88        3.73\n",
      "LassoLarsCV                                  0.01       0.01  7.88       15.32\n",
      "ElasticNetCV                                 0.01       0.01  7.88       28.60\n",
      "LinearRegression                             0.01       0.01  7.89        5.94\n",
      "TransformedTargetRegressor                   0.01       0.01  7.89      211.84\n",
      "Ridge                                        0.01       0.01  7.89      197.54\n",
      "RidgeCV                                      0.01       0.01  7.89        9.29\n",
      "BayesianRidge                                0.01       0.01  7.89       11.29\n",
      "PoissonRegressor                             0.01       0.01  7.89        4.26\n",
      "LarsCV                                       0.01       0.01  7.89       16.78\n",
      "Lars                                         0.01       0.01  7.89        7.73\n",
      "GeneralizedLinearRegressor                   0.01       0.01  7.90        1.97\n",
      "TweedieRegressor                             0.01       0.01  7.90        3.56\n",
      "OrthogonalMatchingPursuit                    0.01       0.01  7.91        4.12\n",
      "OrthogonalMatchingPursuitCV                  0.01       0.01  7.91       15.29\n",
      "SGDRegressor                                 0.00       0.00  7.91       25.95\n",
      "XGBRegressor                                 0.00       0.00  7.92      157.57\n",
      "ElasticNet                                  -0.00      -0.00  7.93        2.84\n",
      "DummyRegressor                              -0.00      -0.00  7.93        2.44\n",
      "LassoLars                                   -0.00      -0.00  7.93        2.83\n",
      "Lasso                                       -0.00      -0.00  7.93        4.08\n",
      "ExtraTreesRegressor                         -0.01      -0.01  7.95     1881.24\n",
      "NuSVR                                       -0.01      -0.01  7.96    31930.35\n",
      "RandomForestRegressor                       -0.01      -0.01  7.98    18975.40\n",
      "HuberRegressor                              -0.05      -0.05  8.12       10.63\n",
      "MLPRegressor                                -0.06      -0.06  8.15     2104.19\n",
      "BaggingRegressor                            -0.11      -0.11  8.35     1703.11\n",
      "SVR                                         -0.12      -0.12  8.39    87677.29\n",
      "LinearSVR                                   -0.12      -0.12  8.40       85.26\n",
      "AdaBoostRegressor                           -0.17      -0.17  8.58      654.24\n",
      "KNeighborsRegressor                         -0.19      -0.19  8.65     8450.13\n",
      "PassiveAggressiveRegressor                  -0.93      -0.93 11.01        6.06\n",
      "ExtraTreeRegressor                          -1.06      -1.06 11.37       23.14\n",
      "DecisionTreeRegressor                       -1.08      -1.08 11.44      157.33\n",
      "RANSACRegressor                            -16.76     -16.73 33.40       18.33\n"
     ]
    }
   ],
   "metadata": {}
  },
  {
   "cell_type": "code",
   "execution_count": 24,
   "source": [
    "predictions"
   ],
   "outputs": [
    {
     "output_type": "execute_result",
     "data": {
      "text/plain": [
       "       AdaBoostRegressor  BaggingRegressor  BayesianRidge  \\\n",
       "0                   9.74              2.70           6.29   \n",
       "1                  10.81              8.20           7.06   \n",
       "2                   9.13             11.40           7.07   \n",
       "3                  10.81              2.70           6.27   \n",
       "4                  10.81             12.00           7.13   \n",
       "...                  ...               ...            ...   \n",
       "62495               9.74              6.10           7.93   \n",
       "62496              10.81              5.60           6.30   \n",
       "62497              10.81              5.60           5.86   \n",
       "62498              10.81              8.30           6.48   \n",
       "62499               8.89             13.90           5.43   \n",
       "\n",
       "       DecisionTreeRegressor  DummyRegressor  ElasticNet  ElasticNetCV  \\\n",
       "0                       2.00            6.83        6.83          6.27   \n",
       "1                       7.00            6.83        6.83          7.04   \n",
       "2                       0.00            6.83        6.83          7.09   \n",
       "3                       0.00            6.83        6.83          6.26   \n",
       "4                       5.00            6.83        6.83          7.13   \n",
       "...                      ...             ...         ...           ...   \n",
       "62495                   5.00            6.83        6.83          7.90   \n",
       "62496                   2.00            6.83        6.83          6.30   \n",
       "62497                   0.00            6.83        6.83          5.85   \n",
       "62498                   2.00            6.83        6.83          6.49   \n",
       "62499                   0.00            6.83        6.83          5.42   \n",
       "\n",
       "       ExtraTreeRegressor  ExtraTreesRegressor  GeneralizedLinearRegressor  \\\n",
       "0                    0.00                 5.43                        6.57   \n",
       "1                    1.00                 6.73                        6.92   \n",
       "2                    2.00                 6.74                        7.02   \n",
       "3                    0.00                 4.90                        6.68   \n",
       "4                   12.00                10.12                        7.03   \n",
       "...                   ...                  ...                         ...   \n",
       "62495                2.00                 9.07                        7.48   \n",
       "62496                4.00                 5.55                        6.60   \n",
       "62497               17.00                 6.49                        6.34   \n",
       "62498                2.00                 7.04                        6.76   \n",
       "62499                3.00                 6.84                        6.00   \n",
       "\n",
       "       ...  RANSACRegressor  RandomForestRegressor  Ridge  RidgeCV  \\\n",
       "0      ...           -17.90                   4.42   6.26     6.26   \n",
       "1      ...           -12.92                   8.60   7.05     7.05   \n",
       "2      ...            11.98                   6.48   7.08     7.08   \n",
       "3      ...             4.52                   6.17   6.18     6.18   \n",
       "4      ...            18.82                   8.56   7.18     7.18   \n",
       "...    ...              ...                    ...    ...      ...   \n",
       "62495  ...            25.55                   9.35   7.96     7.96   \n",
       "62496  ...            42.45                   5.23   6.26     6.26   \n",
       "62497  ...            45.51                   5.77   5.82     5.82   \n",
       "62498  ...             1.57                   5.47   6.49     6.49   \n",
       "62499  ...           -13.35                   7.09   5.34     5.34   \n",
       "\n",
       "       SGDRegressor  SVR  TransformedTargetRegressor  TweedieRegressor  \\\n",
       "0              6.39 4.27                        6.26              6.57   \n",
       "1              8.18 3.45                        7.05              6.92   \n",
       "2              7.08 3.56                        7.08              7.02   \n",
       "3              6.75 3.15                        6.18              6.68   \n",
       "4              5.98 5.04                        7.18              7.03   \n",
       "...             ...  ...                         ...               ...   \n",
       "62495          7.49 4.23                        7.96              7.48   \n",
       "62496          6.35 2.41                        6.26              6.60   \n",
       "62497          6.05 2.53                        5.82              6.34   \n",
       "62498          5.67 3.38                        6.49              6.76   \n",
       "62499          5.10 2.27                        5.34              6.00   \n",
       "\n",
       "       XGBRegressor  LGBMRegressor  \n",
       "0              5.97           5.90  \n",
       "1              7.29           7.10  \n",
       "2              6.20           6.66  \n",
       "3              4.48           6.36  \n",
       "4              7.54           6.62  \n",
       "...             ...            ...  \n",
       "62495          9.40           8.38  \n",
       "62496          7.34           7.06  \n",
       "62497          6.13           6.64  \n",
       "62498          6.63           5.72  \n",
       "62499          4.69           5.13  \n",
       "\n",
       "[62500 rows x 39 columns]"
      ],
      "text/html": [
       "<div>\n",
       "<style scoped>\n",
       "    .dataframe tbody tr th:only-of-type {\n",
       "        vertical-align: middle;\n",
       "    }\n",
       "\n",
       "    .dataframe tbody tr th {\n",
       "        vertical-align: top;\n",
       "    }\n",
       "\n",
       "    .dataframe thead th {\n",
       "        text-align: right;\n",
       "    }\n",
       "</style>\n",
       "<table border=\"1\" class=\"dataframe\">\n",
       "  <thead>\n",
       "    <tr style=\"text-align: right;\">\n",
       "      <th></th>\n",
       "      <th>AdaBoostRegressor</th>\n",
       "      <th>BaggingRegressor</th>\n",
       "      <th>BayesianRidge</th>\n",
       "      <th>DecisionTreeRegressor</th>\n",
       "      <th>DummyRegressor</th>\n",
       "      <th>ElasticNet</th>\n",
       "      <th>ElasticNetCV</th>\n",
       "      <th>ExtraTreeRegressor</th>\n",
       "      <th>ExtraTreesRegressor</th>\n",
       "      <th>GeneralizedLinearRegressor</th>\n",
       "      <th>...</th>\n",
       "      <th>RANSACRegressor</th>\n",
       "      <th>RandomForestRegressor</th>\n",
       "      <th>Ridge</th>\n",
       "      <th>RidgeCV</th>\n",
       "      <th>SGDRegressor</th>\n",
       "      <th>SVR</th>\n",
       "      <th>TransformedTargetRegressor</th>\n",
       "      <th>TweedieRegressor</th>\n",
       "      <th>XGBRegressor</th>\n",
       "      <th>LGBMRegressor</th>\n",
       "    </tr>\n",
       "  </thead>\n",
       "  <tbody>\n",
       "    <tr>\n",
       "      <th>0</th>\n",
       "      <td>9.74</td>\n",
       "      <td>2.70</td>\n",
       "      <td>6.29</td>\n",
       "      <td>2.00</td>\n",
       "      <td>6.83</td>\n",
       "      <td>6.83</td>\n",
       "      <td>6.27</td>\n",
       "      <td>0.00</td>\n",
       "      <td>5.43</td>\n",
       "      <td>6.57</td>\n",
       "      <td>...</td>\n",
       "      <td>-17.90</td>\n",
       "      <td>4.42</td>\n",
       "      <td>6.26</td>\n",
       "      <td>6.26</td>\n",
       "      <td>6.39</td>\n",
       "      <td>4.27</td>\n",
       "      <td>6.26</td>\n",
       "      <td>6.57</td>\n",
       "      <td>5.97</td>\n",
       "      <td>5.90</td>\n",
       "    </tr>\n",
       "    <tr>\n",
       "      <th>1</th>\n",
       "      <td>10.81</td>\n",
       "      <td>8.20</td>\n",
       "      <td>7.06</td>\n",
       "      <td>7.00</td>\n",
       "      <td>6.83</td>\n",
       "      <td>6.83</td>\n",
       "      <td>7.04</td>\n",
       "      <td>1.00</td>\n",
       "      <td>6.73</td>\n",
       "      <td>6.92</td>\n",
       "      <td>...</td>\n",
       "      <td>-12.92</td>\n",
       "      <td>8.60</td>\n",
       "      <td>7.05</td>\n",
       "      <td>7.05</td>\n",
       "      <td>8.18</td>\n",
       "      <td>3.45</td>\n",
       "      <td>7.05</td>\n",
       "      <td>6.92</td>\n",
       "      <td>7.29</td>\n",
       "      <td>7.10</td>\n",
       "    </tr>\n",
       "    <tr>\n",
       "      <th>2</th>\n",
       "      <td>9.13</td>\n",
       "      <td>11.40</td>\n",
       "      <td>7.07</td>\n",
       "      <td>0.00</td>\n",
       "      <td>6.83</td>\n",
       "      <td>6.83</td>\n",
       "      <td>7.09</td>\n",
       "      <td>2.00</td>\n",
       "      <td>6.74</td>\n",
       "      <td>7.02</td>\n",
       "      <td>...</td>\n",
       "      <td>11.98</td>\n",
       "      <td>6.48</td>\n",
       "      <td>7.08</td>\n",
       "      <td>7.08</td>\n",
       "      <td>7.08</td>\n",
       "      <td>3.56</td>\n",
       "      <td>7.08</td>\n",
       "      <td>7.02</td>\n",
       "      <td>6.20</td>\n",
       "      <td>6.66</td>\n",
       "    </tr>\n",
       "    <tr>\n",
       "      <th>3</th>\n",
       "      <td>10.81</td>\n",
       "      <td>2.70</td>\n",
       "      <td>6.27</td>\n",
       "      <td>0.00</td>\n",
       "      <td>6.83</td>\n",
       "      <td>6.83</td>\n",
       "      <td>6.26</td>\n",
       "      <td>0.00</td>\n",
       "      <td>4.90</td>\n",
       "      <td>6.68</td>\n",
       "      <td>...</td>\n",
       "      <td>4.52</td>\n",
       "      <td>6.17</td>\n",
       "      <td>6.18</td>\n",
       "      <td>6.18</td>\n",
       "      <td>6.75</td>\n",
       "      <td>3.15</td>\n",
       "      <td>6.18</td>\n",
       "      <td>6.68</td>\n",
       "      <td>4.48</td>\n",
       "      <td>6.36</td>\n",
       "    </tr>\n",
       "    <tr>\n",
       "      <th>4</th>\n",
       "      <td>10.81</td>\n",
       "      <td>12.00</td>\n",
       "      <td>7.13</td>\n",
       "      <td>5.00</td>\n",
       "      <td>6.83</td>\n",
       "      <td>6.83</td>\n",
       "      <td>7.13</td>\n",
       "      <td>12.00</td>\n",
       "      <td>10.12</td>\n",
       "      <td>7.03</td>\n",
       "      <td>...</td>\n",
       "      <td>18.82</td>\n",
       "      <td>8.56</td>\n",
       "      <td>7.18</td>\n",
       "      <td>7.18</td>\n",
       "      <td>5.98</td>\n",
       "      <td>5.04</td>\n",
       "      <td>7.18</td>\n",
       "      <td>7.03</td>\n",
       "      <td>7.54</td>\n",
       "      <td>6.62</td>\n",
       "    </tr>\n",
       "    <tr>\n",
       "      <th>...</th>\n",
       "      <td>...</td>\n",
       "      <td>...</td>\n",
       "      <td>...</td>\n",
       "      <td>...</td>\n",
       "      <td>...</td>\n",
       "      <td>...</td>\n",
       "      <td>...</td>\n",
       "      <td>...</td>\n",
       "      <td>...</td>\n",
       "      <td>...</td>\n",
       "      <td>...</td>\n",
       "      <td>...</td>\n",
       "      <td>...</td>\n",
       "      <td>...</td>\n",
       "      <td>...</td>\n",
       "      <td>...</td>\n",
       "      <td>...</td>\n",
       "      <td>...</td>\n",
       "      <td>...</td>\n",
       "      <td>...</td>\n",
       "      <td>...</td>\n",
       "    </tr>\n",
       "    <tr>\n",
       "      <th>62495</th>\n",
       "      <td>9.74</td>\n",
       "      <td>6.10</td>\n",
       "      <td>7.93</td>\n",
       "      <td>5.00</td>\n",
       "      <td>6.83</td>\n",
       "      <td>6.83</td>\n",
       "      <td>7.90</td>\n",
       "      <td>2.00</td>\n",
       "      <td>9.07</td>\n",
       "      <td>7.48</td>\n",
       "      <td>...</td>\n",
       "      <td>25.55</td>\n",
       "      <td>9.35</td>\n",
       "      <td>7.96</td>\n",
       "      <td>7.96</td>\n",
       "      <td>7.49</td>\n",
       "      <td>4.23</td>\n",
       "      <td>7.96</td>\n",
       "      <td>7.48</td>\n",
       "      <td>9.40</td>\n",
       "      <td>8.38</td>\n",
       "    </tr>\n",
       "    <tr>\n",
       "      <th>62496</th>\n",
       "      <td>10.81</td>\n",
       "      <td>5.60</td>\n",
       "      <td>6.30</td>\n",
       "      <td>2.00</td>\n",
       "      <td>6.83</td>\n",
       "      <td>6.83</td>\n",
       "      <td>6.30</td>\n",
       "      <td>4.00</td>\n",
       "      <td>5.55</td>\n",
       "      <td>6.60</td>\n",
       "      <td>...</td>\n",
       "      <td>42.45</td>\n",
       "      <td>5.23</td>\n",
       "      <td>6.26</td>\n",
       "      <td>6.26</td>\n",
       "      <td>6.35</td>\n",
       "      <td>2.41</td>\n",
       "      <td>6.26</td>\n",
       "      <td>6.60</td>\n",
       "      <td>7.34</td>\n",
       "      <td>7.06</td>\n",
       "    </tr>\n",
       "    <tr>\n",
       "      <th>62497</th>\n",
       "      <td>10.81</td>\n",
       "      <td>5.60</td>\n",
       "      <td>5.86</td>\n",
       "      <td>0.00</td>\n",
       "      <td>6.83</td>\n",
       "      <td>6.83</td>\n",
       "      <td>5.85</td>\n",
       "      <td>17.00</td>\n",
       "      <td>6.49</td>\n",
       "      <td>6.34</td>\n",
       "      <td>...</td>\n",
       "      <td>45.51</td>\n",
       "      <td>5.77</td>\n",
       "      <td>5.82</td>\n",
       "      <td>5.82</td>\n",
       "      <td>6.05</td>\n",
       "      <td>2.53</td>\n",
       "      <td>5.82</td>\n",
       "      <td>6.34</td>\n",
       "      <td>6.13</td>\n",
       "      <td>6.64</td>\n",
       "    </tr>\n",
       "    <tr>\n",
       "      <th>62498</th>\n",
       "      <td>10.81</td>\n",
       "      <td>8.30</td>\n",
       "      <td>6.48</td>\n",
       "      <td>2.00</td>\n",
       "      <td>6.83</td>\n",
       "      <td>6.83</td>\n",
       "      <td>6.49</td>\n",
       "      <td>2.00</td>\n",
       "      <td>7.04</td>\n",
       "      <td>6.76</td>\n",
       "      <td>...</td>\n",
       "      <td>1.57</td>\n",
       "      <td>5.47</td>\n",
       "      <td>6.49</td>\n",
       "      <td>6.49</td>\n",
       "      <td>5.67</td>\n",
       "      <td>3.38</td>\n",
       "      <td>6.49</td>\n",
       "      <td>6.76</td>\n",
       "      <td>6.63</td>\n",
       "      <td>5.72</td>\n",
       "    </tr>\n",
       "    <tr>\n",
       "      <th>62499</th>\n",
       "      <td>8.89</td>\n",
       "      <td>13.90</td>\n",
       "      <td>5.43</td>\n",
       "      <td>0.00</td>\n",
       "      <td>6.83</td>\n",
       "      <td>6.83</td>\n",
       "      <td>5.42</td>\n",
       "      <td>3.00</td>\n",
       "      <td>6.84</td>\n",
       "      <td>6.00</td>\n",
       "      <td>...</td>\n",
       "      <td>-13.35</td>\n",
       "      <td>7.09</td>\n",
       "      <td>5.34</td>\n",
       "      <td>5.34</td>\n",
       "      <td>5.10</td>\n",
       "      <td>2.27</td>\n",
       "      <td>5.34</td>\n",
       "      <td>6.00</td>\n",
       "      <td>4.69</td>\n",
       "      <td>5.13</td>\n",
       "    </tr>\n",
       "  </tbody>\n",
       "</table>\n",
       "<p>62500 rows × 39 columns</p>\n",
       "</div>"
      ]
     },
     "metadata": {},
     "execution_count": 24
    }
   ],
   "metadata": {}
  },
  {
   "cell_type": "code",
   "execution_count": null,
   "source": [],
   "outputs": [],
   "metadata": {}
  }
 ],
 "metadata": {
  "orig_nbformat": 4,
  "language_info": {
   "name": "python",
   "version": "3.8.11",
   "mimetype": "text/x-python",
   "codemirror_mode": {
    "name": "ipython",
    "version": 3
   },
   "pygments_lexer": "ipython3",
   "nbconvert_exporter": "python",
   "file_extension": ".py"
  },
  "kernelspec": {
   "name": "python3",
   "display_name": "Python 3.8.11 64-bit"
  },
  "interpreter": {
   "hash": "57af7658dc7e4159ea53cd3eda3a2bf17c2e9d90e60a639fd3a42334d366b7cc"
  }
 },
 "nbformat": 4,
 "nbformat_minor": 2
}